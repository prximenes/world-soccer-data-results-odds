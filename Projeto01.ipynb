{
  "nbformat": 4,
  "nbformat_minor": 0,
  "metadata": {
    "colab": {
      "name": "Projeto01",
      "provenance": [],
      "collapsed_sections": [
        "HF6AeVTABe2u",
        "Q50VLZ20Xe19",
        "piPi2ZuUXaU7",
        "AB1JfO12TY6C"
      ],
      "authorship_tag": "ABX9TyP3+WKWxK1bqk3w2kvpm4W4",
      "include_colab_link": true
    },
    "kernelspec": {
      "name": "python3",
      "display_name": "Python 3"
    }
  },
  "cells": [
    {
      "cell_type": "markdown",
      "metadata": {
        "id": "view-in-github",
        "colab_type": "text"
      },
      "source": [
        "<a href=\"https://colab.research.google.com/github/prximenes/world-soccer-data-results-odds/blob/master/Projeto01.ipynb\" target=\"_parent\"><img src=\"https://colab.research.google.com/assets/colab-badge.svg\" alt=\"Open In Colab\"/></a>"
      ]
    },
    {
      "cell_type": "markdown",
      "metadata": {
        "id": "HF6AeVTABe2u"
      },
      "source": [
        "# **Notes**\n"
      ]
    },
    {
      "cell_type": "markdown",
      "metadata": {
        "id": "XgooQ1KKt1Nk"
      },
      "source": [
        "https://www.kaggle.com/sashchernuh/european-football\n",
        "\n",
        " **Match information columns select**:'Season', 'Country', 'League', 'Div', 'Datetime', 'HomeTeam', 'AwayTeam', 'FTHG', 'FTAG', 'FTR', 'HTHG', 'HTAG', 'HTR'\n",
        "\n",
        "**Match statistics columns selec**t: 'Attendance', 'Referee', 'HS', 'AS', 'HST', 'AST', 'HHW', 'AHW', 'HC', 'AC', 'HF', 'AF', 'HFKC', 'AKFC', 'HO', 'AO', 'HY', 'AY', 'HR', 'AR', 'HBP', 'ABP'\n",
        "\n",
        "**Match Odds betting odds data**: 'AvgH', 'AvgD', 'AvgA', 'Avg>2.5', 'Avg<2.5', 'AvgAHH', 'AvgAHA' \n",
        "\n",
        "(como existem muitas casas de apostas diferentes, com valores que variampouco, e o foco não é analisar as odd's em si, vamos utilizar as médias)"
      ]
    },
    {
      "cell_type": "markdown",
      "metadata": {
        "id": "5IJ1R8S-BWmf"
      },
      "source": [
        "\n",
        "Div = League Division <br>\n",
        "Date = Match Date (dd/mm/yy) <br>\n",
        "Time = Time of match kick off <br>\n",
        "HomeTeam = Home Team <br>\n",
        "AwayTeam = Away Team <br>\n",
        "FTHG and HG = Full Time Home Team Goals <br>\n",
        "FTAG and AG = Full Time Away Team Goals <br>\n",
        "FTR and Res = Full Time Result (H=Home Win, D=Draw, A=Away Win) <br>\n",
        "HTHG = Half Time Home Team Goals <br>\n",
        "HTAG = Half Time Away Team Goals <br>\n",
        "HTR = Half Time Result (H=Home Win, D=Draw, A=Away Win) <br>\n",
        "\n",
        "**Match Statistics (where available)**<br>\n",
        "Attendance = Crowd Attendance<br>\n",
        "Referee = Match Referee<br>\n",
        "HS = Home Team Shots<br>\n",
        "AS = Away Team Shots<br>\n",
        "HST = Home Team Shots on Target<br>\n",
        "AST = Away Team Shots on Target<br>\n",
        "HHW = Home Team Hit Woodwork<br>\n",
        "AHW = Away Team Hit Woodwork<br>\n",
        "HC = Home Team Corners<br>\n",
        "AC = Away Team Corners<br>\n",
        "HF = Home Team Fouls Committed<br>\n",
        "AF = Away Team Fouls Committed<br>\n",
        "HFKC = Home Team Free Kicks Conceded<br>\n",
        "AFKC = Away Team Free Kicks Conceded<br>\n",
        "HO = Home Team Offsides<br>\n",
        "AO = Away Team Offsides<br>\n",
        "HY = Home Team Yellow Cards<br>\n",
        "AY = Away Team Yellow Cards<br>\n",
        "HR = Home Team Red Cards<br>\n",
        "AR = Away Team Red Cards<br>\n",
        "HBP = Home Team Bookings Points (10 = yellow, 25 = red)<br>\n",
        "ABP = Away Team Bookings Points (10 = yellow, 25 = red)<br>\n",
        "\n",
        "Note that Free Kicks Conceeded includes fouls, offsides and any other offense commmitted and will always be equal to or higher than the number of fouls. Fouls make up the vast majority of Free Kicks Conceded. Free Kicks Conceded are shown when specific data on Fouls are not available (France 2nd, Belgium 1st and Greece 1st divisions).\n",
        "<br>\n",
        "Note also that English and Scottish yellow cards do not include the initial yellow card when a second is shown to a player converting it into a red, but this is included as a yellow (plus red) for European games.\n",
        "\n",
        "<br>\n",
        "Key to 1X2 (match) betting odds data:\n",
        "<br>\n",
        "B365H = Bet365 home win odds<br>\n",
        "B365D = Bet365 draw odds<br>\n",
        "B365A = Bet365 away win odds<br>\n",
        "BSH = Blue Square home win odds<br>\n",
        "BSD = Blue Square draw odds<br>\n",
        "BSA = Blue Square away win odds<br>\n",
        "BWH = Bet&Win home win odds<br>\n",
        "BWD = Bet&Win draw odds<br>\n",
        "BWA = Bet&Win away win odds<br>\n",
        "GBH = Gamebookers home win odds<br>\n",
        "GBD = Gamebookers draw odds<br>\n",
        "GBA = Gamebookers away win odds<br>\n",
        "IWH = Interwetten home win odds<br>\n",
        "IWD = Interwetten draw odds<br>\n",
        "IWA = Interwetten away win odds<br>\n",
        "LBH = Ladbrokes home win odds<br>\n",
        "LBD = Ladbrokes draw odds<br>\n",
        "LBA = Ladbrokes away win odds<br>\n",
        "PSH and PH = Pinnacle home win odds<br>\n",
        "PSD and PD = Pinnacle draw odds<br>\n",
        "PSA and PA = Pinnacle away win odds<br>\n",
        "SOH = Sporting Odds home win odds<br>\n",
        "SOD = Sporting Odds draw odds<br>\n",
        "SOA = Sporting Odds away win odds<br>\n",
        "SBH = Sportingbet home win odds<br>\n",
        "SBD = Sportingbet draw odds<br>\n",
        "SBA = Sportingbet away win odds<br>\n",
        "SJH = Stan James home win odds<br>\n",
        "SJD = Stan James draw odds<br>\n",
        "SJA = Stan James away win odds<br>\n",
        "SYH = Stanleybet home win odds<br>\n",
        "SYD = Stanleybet draw odds<br>\n",
        "SYA = Stanleybet away win odds<br>\n",
        "VCH = VC Bet home win odds<br>\n",
        "VCD = VC Bet draw odds<br>\n",
        "VCA = VC Bet away win odds<br>\n",
        "WHH = William Hill home win odds<br>\n",
        "WHD = William Hill draw odds<br>\n",
        "WHA = William Hill away win odds<br>\n",
        "\n",
        "Bb1X2 = Number of BetBrain bookmakers used to calculate match odds averages and maximums<br>\n",
        "BbMxH = Betbrain maximum home win odds<br>\n",
        "BbAvH = Betbrain average home win odds<br>\n",
        "BbMxD = Betbrain maximum draw odds<br>\n",
        "BbAvD = Betbrain average draw win odds<br>\n",
        "BbMxA = Betbrain maximum away win odds<br>\n",
        "BbAvA = Betbrain average away win odds<br>\n",
        "\n",
        "MaxH = Market maximum home win odds<br>\n",
        "MaxD = Market maximum draw win odds<br>\n",
        "MaxA = Market maximum away win odds<br>\n",
        "AvgH = Market average home win odds<br>\n",
        "AvgD = Market average draw win odds<br>\n",
        "AvgA = Market average away win odds<br>\n",
        "\n",
        "\n",
        "\n",
        "Key to total goals betting odds:<br>\n",
        "\n",
        "BbOU = Number of BetBrain bookmakers used to calculate over/under 2.5 goals (total goals) averages and maximums<br>\n",
        "BbMx>2.5 = Betbrain maximum over 2.5 goals<br>\n",
        "BbAv>2.5 = Betbrain average over 2.5 goals<br>\n",
        "BbMx<2.5 = Betbrain maximum under 2.5 goals<br>\n",
        "BbAv<2.5 = Betbrain average under 2.5 goals<br>\n",
        "\n",
        "GB>2.5 = Gamebookers over 2.5 goals<br>\n",
        "GB<2.5 = Gamebookers under 2.5 goals<br>\n",
        "B365>2.5 = Bet365 over 2.5 goals<br>\n",
        "B365<2.5 = Bet365 under 2.5 goals<br>\n",
        "P>2.5 = Pinnacle over 2.5 goals<br>\n",
        "P<2.5 = Pinnacle under 2.5 goals<br>\n",
        "Max>2.5 = Market maximum over 2.5 goals<br>\n",
        "Max<2.5 = Market maximum under 2.5 goals<br>\n",
        "Avg>2.5 = Market average over 2.5 goals<br>\n",
        "Avg<2.5 = Market average under 2.5 goals<br>\n",
        "\n",
        "\n",
        "\n",
        "Key to Asian handicap betting odds:<br>\n",
        "\n",
        "BbAH = Number of BetBrain bookmakers used to Asian handicap averages and maximums<br>\n",
        "BbAHh = Betbrain size of handicap (home team)<br>\n",
        "AHh = Market size of handicap (home team) (since 2019/2020)<br>\n",
        "BbMxAHH = Betbrain maximum Asian handicap home team odds<br>\n",
        "BbAvAHH = Betbrain average Asian handicap home team odds<br>\n",
        "BbMxAHA = Betbrain maximum Asian handicap away team odds<br>\n",
        "BbAvAHA = Betbrain average Asian handicap away team odds<br>\n",
        "\n",
        "GBAHH = Gamebookers Asian handicap home team odds<br>\n",
        "GBAHA = Gamebookers Asian handicap away team odds<br>\n",
        "GBAH = Gamebookers size of handicap (home team)<br>\n",
        "LBAHH = Ladbrokes Asian handicap home team odds<br>\n",
        "LBAHA = Ladbrokes Asian handicap away team odds<br>\n",
        "LBAH = Ladbrokes size of handicap (home team)<br>\n",
        "B365AHH = Bet365 Asian handicap home team odds<br>\n",
        "B365AHA = Bet365 Asian handicap away team odds<br>\n",
        "B365AH = Bet365 size of handicap (home team)<br>\n",
        "PAHH = Pinnacle Asian handicap home team odds<br>\n",
        "PAHA = Pinnacle Asian handicap away team odds<br>\n",
        "MaxAHH = Market maximum Asian handicap home team odds<br>\n",
        "MaxAHA = Market maximum Asian handicap away team odds<br>\n",
        "AvgAHH = Market average Asian handicap home team odds<br>\n",
        "AvgAHA = Market average Asian handicap away team odds<br>\n",
        "\n",
        "\n",
        "\n",
        "Closing odds (last odds before match starts)<br>\n",
        "\n",
        "As above but with an additional \"C\" character following the bookmaker abbreviation/Max/Avg<br><br>\n",
        "\n",
        "Football-Data would like to acknowledge the following sources which have been utilised in the compilation of Football-Data's results and odds files.<br>\n",
        "<br>\n",
        "<br>\n",
        "Current results (full time, half time)<br>\n",
        "Xcores - http://www.xcores .com<br>\n",
        "\n",
        "Match statistics<br>\n",
        "BBC, ESPN Soccer, Bundesliga.de, Gazzetta.it and Football.fr<br>\n",
        "\n",
        "Bookmakers betting odds<br>\n",
        "Individual bookmakers<br>\n",
        "\n",
        "Betting odds for weekend games are collected Friday afternoons, and on Tuesday afternoons for midweek games.<br>\n",
        "\n",
        "Additional match statistics (corners, shots, bookings, referee etc.) for the 2000/01 and 2001/02 seasons for the English, Scottish and German leagues were provided by Sports.com (now under new ownership and no longer available).<br>**negrito**"
      ]
    },
    {
      "cell_type": "markdown",
      "metadata": {
        "id": "oQUbW60hBZ73"
      },
      "source": [
        "# **Imports and define functions**"
      ]
    },
    {
      "cell_type": "code",
      "metadata": {
        "id": "bbc5Warj6aNc",
        "outputId": "0852c615-5f0c-43e5-b21c-c7256117d67f",
        "colab": {
          "base_uri": "https://localhost:8080/",
          "height": 202
        }
      },
      "source": [
        "!wget https://cin.ufpe.br/~prxc/file/Projetos/data_science/european-football.zip"
      ],
      "execution_count": 1,
      "outputs": [
        {
          "output_type": "stream",
          "text": [
            "--2020-09-30 17:16:13--  https://cin.ufpe.br/~prxc/file/Projetos/data_science/european-football.zip\n",
            "Resolving cin.ufpe.br (cin.ufpe.br)... 150.161.2.9\n",
            "Connecting to cin.ufpe.br (cin.ufpe.br)|150.161.2.9|:443... connected.\n",
            "HTTP request sent, awaiting response... 200 OK\n",
            "Length: 50165734 (48M) [application/zip]\n",
            "Saving to: ‘european-football.zip’\n",
            "\n",
            "european-football.z 100%[===================>]  47.84M  15.2MB/s    in 4.0s    \n",
            "\n",
            "2020-09-30 17:16:18 (11.9 MB/s) - ‘european-football.zip’ saved [50165734/50165734]\n",
            "\n"
          ],
          "name": "stdout"
        }
      ]
    },
    {
      "cell_type": "code",
      "metadata": {
        "id": "JxAP-AAmAAtY",
        "outputId": "5c49583e-e175-4a76-fe2a-75fe6302a0be",
        "colab": {
          "base_uri": "https://localhost:8080/",
          "height": 34
        }
      },
      "source": [
        "\n",
        "!ls"
      ],
      "execution_count": 2,
      "outputs": [
        {
          "output_type": "stream",
          "text": [
            "european-football.zip  sample_data\n"
          ],
          "name": "stdout"
        }
      ]
    },
    {
      "cell_type": "code",
      "metadata": {
        "id": "jrpryCU_6UAW"
      },
      "source": [
        "import numpy as np\n",
        "import pandas as pd\n",
        "import sqlite3\n",
        "import matplotlib.pyplot as plt\n",
        "import urllib\n",
        "\n",
        "import os\n",
        "\n",
        "# Colab library to upload files to notebook\n",
        "from google.colab import files"
      ],
      "execution_count": 3,
      "outputs": []
    },
    {
      "cell_type": "code",
      "metadata": {
        "id": "08ndxHHXDzSp"
      },
      "source": [
        "import zipfile\n",
        "with zipfile.ZipFile('european-football.zip', 'r') as zip_ref:\n",
        "    zip_ref.extractall()\n",
        "!mv database.sqlite database.db"
      ],
      "execution_count": 4,
      "outputs": []
    },
    {
      "cell_type": "code",
      "metadata": {
        "id": "q-iUHlu68esP",
        "outputId": "eed07d47-5428-406e-d12c-0d2ff804562b",
        "colab": {
          "base_uri": "https://localhost:8080/",
          "height": 34
        }
      },
      "source": [
        "!ls"
      ],
      "execution_count": 5,
      "outputs": [
        {
          "output_type": "stream",
          "text": [
            "database.db  european-football.zip  sample_data\n"
          ],
          "name": "stdout"
        }
      ]
    },
    {
      "cell_type": "code",
      "metadata": {
        "id": "XpgB7bT8BtOc"
      },
      "source": [
        "def load_database(custom_query='SELECT * from football_data'):\n",
        "    #with sqlite3.connect('database.sqlite') as con:\n",
        "    with sqlite3.connect('database.db') as con:\n",
        "        all_data = pd.read_sql_query(custom_query, con)\n",
        "        \n",
        "    return all_data\n",
        "\n",
        "def print_columns(data):\n",
        "  colunas = ''\n",
        "  for col in data.columns:\n",
        "      colunas += col + ', '\n",
        "  print(colunas)"
      ],
      "execution_count": 6,
      "outputs": []
    },
    {
      "cell_type": "markdown",
      "metadata": {
        "id": "zpWKszRkQrMx"
      },
      "source": [
        "**Utilities**\n",
        "\n",
        "Introduziremos uma função para reduzir a memória utilizada pelo nosso dataset ao escolher o menor tipo em tamanho de bytes capaz de armazenar todos os valores de uma determinada coluna."
      ]
    },
    {
      "cell_type": "code",
      "metadata": {
        "id": "5NG7zY1cQo_6"
      },
      "source": [
        "# Reduce memory usage\n",
        "def get_optimized_column(column):\n",
        "    if column.dtype.name == 'category':\n",
        "      return column\n",
        "    if not np.issubdtype(column.dtypes, np.number):\n",
        "        return column\n",
        "    integers = [np.int8, np.int16, np.int32, np.int64]\n",
        "    floats = [np.float16, np.float32, np.float64]\n",
        "    max = column.max()\n",
        "    relevant_types = integers if np.issubdtype(column.dtypes, np.integer) else floats\n",
        "    for dtype in relevant_types:\n",
        "        if dtype(max) == max:\n",
        "            return column.astype(dtype)\n",
        "    return column\n",
        "\n",
        "\n",
        "def reduce_mem_usage(df, verbose=True):\n",
        "    start_mem = df.memory_usage().sum() / 1024**2    \n",
        "    for column in df.columns:\n",
        "        df[column] = get_optimized_column(df[column]) \n",
        "    end_mem = df.memory_usage().sum() / 1024**2\n",
        "    if verbose: print('Mem. usage decreased to {:5.2f} Mb ({:.1f}% reduction)'.format(end_mem, 100 * (start_mem - end_mem) / start_mem))\n",
        "    return df"
      ],
      "execution_count": 7,
      "outputs": []
    },
    {
      "cell_type": "code",
      "metadata": {
        "id": "AGUALFF6HhAS"
      },
      "source": [
        "pd.set_option('display.max_rows', 50)"
      ],
      "execution_count": 8,
      "outputs": []
    },
    {
      "cell_type": "markdown",
      "metadata": {
        "id": "UAVrX_I2Bxr6"
      },
      "source": [
        "# **Load Data**"
      ]
    },
    {
      "cell_type": "code",
      "metadata": {
        "id": "NRA6yHZWBv4D"
      },
      "source": [
        "full_soccer_data = load_database()"
      ],
      "execution_count": 9,
      "outputs": []
    },
    {
      "cell_type": "code",
      "metadata": {
        "id": "nNnJXNbEUxvA"
      },
      "source": [
        "#Add country information to League column\n",
        "full_soccer_data['League'] = full_soccer_data[['Country', 'League']].agg(' '.join, axis=1)"
      ],
      "execution_count": 10,
      "outputs": []
    },
    {
      "cell_type": "code",
      "metadata": {
        "id": "7Ubg6lAfezjk",
        "outputId": "d82df9c7-455c-4dc4-ac27-2bf4fed08198",
        "colab": {
          "base_uri": "https://localhost:8080/",
          "height": 54
        }
      },
      "source": [
        "(print_columns(full_soccer_data))"
      ],
      "execution_count": 11,
      "outputs": [
        {
          "output_type": "stream",
          "text": [
            "Season, Datetime, Div, Country, League, Referee, HomeTeam, AwayTeam, FTHG, FTAG, FTR, HTHG, HTAG, HTR, PSH, PSD, PSA, B365H, B365D, B365A, LBH, LBD, LBA, BWH, BWD, BWA, ABP, AC, AF, AFKC, AHCh, AHW, AHh, AO, AR, AS, AST, AT, AY, Attendance, Avg<2.5, Avg>2.5, AvgA, AvgAHA, AvgAHH, AvgC<2.5, AvgC>2.5, AvgCA, AvgCAHA, AvgCAHH, AvgCD, AvgCH, AvgD, AvgH, B365<2.5, B365>2.5, B365AH, B365AHA, B365AHH, B365C<2.5, B365C>2.5, B365CA, B365CAHA, B365CAHH, B365CD, B365CH, BSA, BSD, BSH, BWCA, BWCD, BWCH, Bb1X2, BbAH, BbAHh, BbAv<2.5, BbAv>2.5, BbAvA, BbAvAHA, BbAvAHH, BbAvD, BbAvH, BbMx<2.5, BbMx>2.5, BbMxA, BbMxAHA, BbMxAHH, BbMxD, BbMxH, BbOU, Date, GB<2.5, GB>2.5, GBA, GBAH, GBAHA, GBAHH, GBD, GBH, HBP, HC, HF, HFKC, HHW, HO, HR, HS, HST, HT, HY, IWA, IWCA, IWCD, IWCH, IWD, IWH, LBAH, LBAHA, LBAHH, Max<2.5, Max>2.5, MaxA, MaxAHA, MaxAHH, MaxC<2.5, MaxC>2.5, MaxCA, MaxCAHA, MaxCAHH, MaxCD, MaxCH, MaxD, MaxH, P<2.5, P>2.5, PA, PAHA, PAHH, PC<2.5, PC>2.5, PCAHA, PCAHH, PD, PH, PSCA, PSCD, PSCH, SBA, SBD, SBH, SJA, SJD, SJH, SOA, SOD, SOH, SYA, SYD, SYH, Time, VCA, VCCA, VCCD, VCCH, VCD, VCH, WHA, WHCA, WHCD, WHCH, WHD, WHH, \n"
          ],
          "name": "stdout"
        }
      ]
    },
    {
      "cell_type": "markdown",
      "metadata": {
        "id": "l1GYNsKv-7dm"
      },
      "source": [
        "# **Data Pre-processing**"
      ]
    },
    {
      "cell_type": "markdown",
      "metadata": {
        "id": "QR5vgClwT4pU"
      },
      "source": [
        "# Inicio do Pré-processamento"
      ]
    },
    {
      "cell_type": "code",
      "metadata": {
        "id": "1SxV6wR8DYy4",
        "outputId": "531b9b57-21bf-4556-d371-72bd1617682e",
        "colab": {
          "base_uri": "https://localhost:8080/",
          "height": 412
        }
      },
      "source": [
        "full_soccer_data.head()"
      ],
      "execution_count": 12,
      "outputs": [
        {
          "output_type": "execute_result",
          "data": {
            "text/html": [
              "<div>\n",
              "<style scoped>\n",
              "    .dataframe tbody tr th:only-of-type {\n",
              "        vertical-align: middle;\n",
              "    }\n",
              "\n",
              "    .dataframe tbody tr th {\n",
              "        vertical-align: top;\n",
              "    }\n",
              "\n",
              "    .dataframe thead th {\n",
              "        text-align: right;\n",
              "    }\n",
              "</style>\n",
              "<table border=\"1\" class=\"dataframe\">\n",
              "  <thead>\n",
              "    <tr style=\"text-align: right;\">\n",
              "      <th></th>\n",
              "      <th>Season</th>\n",
              "      <th>Datetime</th>\n",
              "      <th>Div</th>\n",
              "      <th>Country</th>\n",
              "      <th>League</th>\n",
              "      <th>Referee</th>\n",
              "      <th>HomeTeam</th>\n",
              "      <th>AwayTeam</th>\n",
              "      <th>FTHG</th>\n",
              "      <th>FTAG</th>\n",
              "      <th>FTR</th>\n",
              "      <th>HTHG</th>\n",
              "      <th>HTAG</th>\n",
              "      <th>HTR</th>\n",
              "      <th>PSH</th>\n",
              "      <th>PSD</th>\n",
              "      <th>PSA</th>\n",
              "      <th>B365H</th>\n",
              "      <th>B365D</th>\n",
              "      <th>B365A</th>\n",
              "      <th>LBH</th>\n",
              "      <th>LBD</th>\n",
              "      <th>LBA</th>\n",
              "      <th>BWH</th>\n",
              "      <th>BWD</th>\n",
              "      <th>BWA</th>\n",
              "      <th>ABP</th>\n",
              "      <th>AC</th>\n",
              "      <th>AF</th>\n",
              "      <th>AFKC</th>\n",
              "      <th>AHCh</th>\n",
              "      <th>AHW</th>\n",
              "      <th>AHh</th>\n",
              "      <th>AO</th>\n",
              "      <th>AR</th>\n",
              "      <th>AS</th>\n",
              "      <th>AST</th>\n",
              "      <th>AT</th>\n",
              "      <th>AY</th>\n",
              "      <th>Attendance</th>\n",
              "      <th>...</th>\n",
              "      <th>MaxH</th>\n",
              "      <th>P&lt;2.5</th>\n",
              "      <th>P&gt;2.5</th>\n",
              "      <th>PA</th>\n",
              "      <th>PAHA</th>\n",
              "      <th>PAHH</th>\n",
              "      <th>PC&lt;2.5</th>\n",
              "      <th>PC&gt;2.5</th>\n",
              "      <th>PCAHA</th>\n",
              "      <th>PCAHH</th>\n",
              "      <th>PD</th>\n",
              "      <th>PH</th>\n",
              "      <th>PSCA</th>\n",
              "      <th>PSCD</th>\n",
              "      <th>PSCH</th>\n",
              "      <th>SBA</th>\n",
              "      <th>SBD</th>\n",
              "      <th>SBH</th>\n",
              "      <th>SJA</th>\n",
              "      <th>SJD</th>\n",
              "      <th>SJH</th>\n",
              "      <th>SOA</th>\n",
              "      <th>SOD</th>\n",
              "      <th>SOH</th>\n",
              "      <th>SYA</th>\n",
              "      <th>SYD</th>\n",
              "      <th>SYH</th>\n",
              "      <th>Time</th>\n",
              "      <th>VCA</th>\n",
              "      <th>VCCA</th>\n",
              "      <th>VCCD</th>\n",
              "      <th>VCCH</th>\n",
              "      <th>VCD</th>\n",
              "      <th>VCH</th>\n",
              "      <th>WHA</th>\n",
              "      <th>WHCA</th>\n",
              "      <th>WHCD</th>\n",
              "      <th>WHCH</th>\n",
              "      <th>WHD</th>\n",
              "      <th>WHH</th>\n",
              "    </tr>\n",
              "  </thead>\n",
              "  <tbody>\n",
              "    <tr>\n",
              "      <th>0</th>\n",
              "      <td>2020</td>\n",
              "      <td>2020-08-21 00:30:00</td>\n",
              "      <td>USA</td>\n",
              "      <td>USA</td>\n",
              "      <td>USA MLS</td>\n",
              "      <td>None</td>\n",
              "      <td>Columbus Crew</td>\n",
              "      <td>Chicago Fire</td>\n",
              "      <td>3</td>\n",
              "      <td>0</td>\n",
              "      <td>H</td>\n",
              "      <td>-1</td>\n",
              "      <td>-1</td>\n",
              "      <td>None</td>\n",
              "      <td>NaN</td>\n",
              "      <td>NaN</td>\n",
              "      <td>NaN</td>\n",
              "      <td>NaN</td>\n",
              "      <td>NaN</td>\n",
              "      <td>NaN</td>\n",
              "      <td>NaN</td>\n",
              "      <td>NaN</td>\n",
              "      <td>NaN</td>\n",
              "      <td>NaN</td>\n",
              "      <td>NaN</td>\n",
              "      <td>NaN</td>\n",
              "      <td>NaN</td>\n",
              "      <td>NaN</td>\n",
              "      <td>NaN</td>\n",
              "      <td>NaN</td>\n",
              "      <td>NaN</td>\n",
              "      <td>NaN</td>\n",
              "      <td>NaN</td>\n",
              "      <td>NaN</td>\n",
              "      <td>NaN</td>\n",
              "      <td>NaN</td>\n",
              "      <td>NaN</td>\n",
              "      <td>None</td>\n",
              "      <td>NaN</td>\n",
              "      <td>NaN</td>\n",
              "      <td>...</td>\n",
              "      <td>1.89</td>\n",
              "      <td>NaN</td>\n",
              "      <td>NaN</td>\n",
              "      <td>4.42</td>\n",
              "      <td>NaN</td>\n",
              "      <td>NaN</td>\n",
              "      <td>NaN</td>\n",
              "      <td>NaN</td>\n",
              "      <td>NaN</td>\n",
              "      <td>NaN</td>\n",
              "      <td>3.61</td>\n",
              "      <td>1.87</td>\n",
              "      <td>NaN</td>\n",
              "      <td>NaN</td>\n",
              "      <td>None</td>\n",
              "      <td>NaN</td>\n",
              "      <td>NaN</td>\n",
              "      <td>NaN</td>\n",
              "      <td>NaN</td>\n",
              "      <td>NaN</td>\n",
              "      <td>NaN</td>\n",
              "      <td>NaN</td>\n",
              "      <td>NaN</td>\n",
              "      <td>NaN</td>\n",
              "      <td>NaN</td>\n",
              "      <td>NaN</td>\n",
              "      <td>NaN</td>\n",
              "      <td>00:30</td>\n",
              "      <td>NaN</td>\n",
              "      <td>NaN</td>\n",
              "      <td>NaN</td>\n",
              "      <td>NaN</td>\n",
              "      <td>NaN</td>\n",
              "      <td>NaN</td>\n",
              "      <td>NaN</td>\n",
              "      <td>NaN</td>\n",
              "      <td>NaN</td>\n",
              "      <td>NaN</td>\n",
              "      <td>NaN</td>\n",
              "      <td>NaN</td>\n",
              "    </tr>\n",
              "    <tr>\n",
              "      <th>1</th>\n",
              "      <td>2020</td>\n",
              "      <td>2020-08-21 00:30:00</td>\n",
              "      <td>USA</td>\n",
              "      <td>USA</td>\n",
              "      <td>USA MLS</td>\n",
              "      <td>None</td>\n",
              "      <td>New England Revolution</td>\n",
              "      <td>Philadelphia Union</td>\n",
              "      <td>0</td>\n",
              "      <td>0</td>\n",
              "      <td>D</td>\n",
              "      <td>-1</td>\n",
              "      <td>-1</td>\n",
              "      <td>None</td>\n",
              "      <td>NaN</td>\n",
              "      <td>NaN</td>\n",
              "      <td>NaN</td>\n",
              "      <td>NaN</td>\n",
              "      <td>NaN</td>\n",
              "      <td>NaN</td>\n",
              "      <td>NaN</td>\n",
              "      <td>NaN</td>\n",
              "      <td>NaN</td>\n",
              "      <td>NaN</td>\n",
              "      <td>NaN</td>\n",
              "      <td>NaN</td>\n",
              "      <td>NaN</td>\n",
              "      <td>NaN</td>\n",
              "      <td>NaN</td>\n",
              "      <td>NaN</td>\n",
              "      <td>NaN</td>\n",
              "      <td>NaN</td>\n",
              "      <td>NaN</td>\n",
              "      <td>NaN</td>\n",
              "      <td>NaN</td>\n",
              "      <td>NaN</td>\n",
              "      <td>NaN</td>\n",
              "      <td>None</td>\n",
              "      <td>NaN</td>\n",
              "      <td>NaN</td>\n",
              "      <td>...</td>\n",
              "      <td>2.30</td>\n",
              "      <td>NaN</td>\n",
              "      <td>NaN</td>\n",
              "      <td>3.15</td>\n",
              "      <td>NaN</td>\n",
              "      <td>NaN</td>\n",
              "      <td>NaN</td>\n",
              "      <td>NaN</td>\n",
              "      <td>NaN</td>\n",
              "      <td>NaN</td>\n",
              "      <td>3.72</td>\n",
              "      <td>2.21</td>\n",
              "      <td>NaN</td>\n",
              "      <td>NaN</td>\n",
              "      <td>None</td>\n",
              "      <td>NaN</td>\n",
              "      <td>NaN</td>\n",
              "      <td>NaN</td>\n",
              "      <td>NaN</td>\n",
              "      <td>NaN</td>\n",
              "      <td>NaN</td>\n",
              "      <td>NaN</td>\n",
              "      <td>NaN</td>\n",
              "      <td>NaN</td>\n",
              "      <td>NaN</td>\n",
              "      <td>NaN</td>\n",
              "      <td>NaN</td>\n",
              "      <td>00:30</td>\n",
              "      <td>NaN</td>\n",
              "      <td>NaN</td>\n",
              "      <td>NaN</td>\n",
              "      <td>NaN</td>\n",
              "      <td>NaN</td>\n",
              "      <td>NaN</td>\n",
              "      <td>NaN</td>\n",
              "      <td>NaN</td>\n",
              "      <td>NaN</td>\n",
              "      <td>NaN</td>\n",
              "      <td>NaN</td>\n",
              "      <td>NaN</td>\n",
              "    </tr>\n",
              "    <tr>\n",
              "      <th>2</th>\n",
              "      <td>2020</td>\n",
              "      <td>2020-08-21 00:00:00</td>\n",
              "      <td>BRA</td>\n",
              "      <td>Brazil</td>\n",
              "      <td>Brazil Serie A</td>\n",
              "      <td>None</td>\n",
              "      <td>Ceara</td>\n",
              "      <td>Vasco</td>\n",
              "      <td>0</td>\n",
              "      <td>3</td>\n",
              "      <td>A</td>\n",
              "      <td>-1</td>\n",
              "      <td>-1</td>\n",
              "      <td>None</td>\n",
              "      <td>NaN</td>\n",
              "      <td>NaN</td>\n",
              "      <td>NaN</td>\n",
              "      <td>NaN</td>\n",
              "      <td>NaN</td>\n",
              "      <td>NaN</td>\n",
              "      <td>NaN</td>\n",
              "      <td>NaN</td>\n",
              "      <td>NaN</td>\n",
              "      <td>NaN</td>\n",
              "      <td>NaN</td>\n",
              "      <td>NaN</td>\n",
              "      <td>NaN</td>\n",
              "      <td>NaN</td>\n",
              "      <td>NaN</td>\n",
              "      <td>NaN</td>\n",
              "      <td>NaN</td>\n",
              "      <td>NaN</td>\n",
              "      <td>NaN</td>\n",
              "      <td>NaN</td>\n",
              "      <td>NaN</td>\n",
              "      <td>NaN</td>\n",
              "      <td>NaN</td>\n",
              "      <td>None</td>\n",
              "      <td>NaN</td>\n",
              "      <td>NaN</td>\n",
              "      <td>...</td>\n",
              "      <td>2.15</td>\n",
              "      <td>NaN</td>\n",
              "      <td>NaN</td>\n",
              "      <td>4.08</td>\n",
              "      <td>NaN</td>\n",
              "      <td>NaN</td>\n",
              "      <td>NaN</td>\n",
              "      <td>NaN</td>\n",
              "      <td>NaN</td>\n",
              "      <td>NaN</td>\n",
              "      <td>3.15</td>\n",
              "      <td>2.07</td>\n",
              "      <td>NaN</td>\n",
              "      <td>NaN</td>\n",
              "      <td>None</td>\n",
              "      <td>NaN</td>\n",
              "      <td>NaN</td>\n",
              "      <td>NaN</td>\n",
              "      <td>NaN</td>\n",
              "      <td>NaN</td>\n",
              "      <td>NaN</td>\n",
              "      <td>NaN</td>\n",
              "      <td>NaN</td>\n",
              "      <td>NaN</td>\n",
              "      <td>NaN</td>\n",
              "      <td>NaN</td>\n",
              "      <td>NaN</td>\n",
              "      <td>00:00</td>\n",
              "      <td>NaN</td>\n",
              "      <td>NaN</td>\n",
              "      <td>NaN</td>\n",
              "      <td>NaN</td>\n",
              "      <td>NaN</td>\n",
              "      <td>NaN</td>\n",
              "      <td>NaN</td>\n",
              "      <td>NaN</td>\n",
              "      <td>NaN</td>\n",
              "      <td>NaN</td>\n",
              "      <td>NaN</td>\n",
              "      <td>NaN</td>\n",
              "    </tr>\n",
              "    <tr>\n",
              "      <th>3</th>\n",
              "      <td>2020</td>\n",
              "      <td>2020-08-21 00:00:00</td>\n",
              "      <td>USA</td>\n",
              "      <td>USA</td>\n",
              "      <td>USA MLS</td>\n",
              "      <td>None</td>\n",
              "      <td>New York Red Bulls</td>\n",
              "      <td>New York City</td>\n",
              "      <td>1</td>\n",
              "      <td>0</td>\n",
              "      <td>H</td>\n",
              "      <td>-1</td>\n",
              "      <td>-1</td>\n",
              "      <td>None</td>\n",
              "      <td>NaN</td>\n",
              "      <td>NaN</td>\n",
              "      <td>NaN</td>\n",
              "      <td>NaN</td>\n",
              "      <td>NaN</td>\n",
              "      <td>NaN</td>\n",
              "      <td>NaN</td>\n",
              "      <td>NaN</td>\n",
              "      <td>NaN</td>\n",
              "      <td>NaN</td>\n",
              "      <td>NaN</td>\n",
              "      <td>NaN</td>\n",
              "      <td>NaN</td>\n",
              "      <td>NaN</td>\n",
              "      <td>NaN</td>\n",
              "      <td>NaN</td>\n",
              "      <td>NaN</td>\n",
              "      <td>NaN</td>\n",
              "      <td>NaN</td>\n",
              "      <td>NaN</td>\n",
              "      <td>NaN</td>\n",
              "      <td>NaN</td>\n",
              "      <td>NaN</td>\n",
              "      <td>None</td>\n",
              "      <td>NaN</td>\n",
              "      <td>NaN</td>\n",
              "      <td>...</td>\n",
              "      <td>2.90</td>\n",
              "      <td>NaN</td>\n",
              "      <td>NaN</td>\n",
              "      <td>2.55</td>\n",
              "      <td>NaN</td>\n",
              "      <td>NaN</td>\n",
              "      <td>NaN</td>\n",
              "      <td>NaN</td>\n",
              "      <td>NaN</td>\n",
              "      <td>NaN</td>\n",
              "      <td>3.64</td>\n",
              "      <td>2.69</td>\n",
              "      <td>NaN</td>\n",
              "      <td>NaN</td>\n",
              "      <td>None</td>\n",
              "      <td>NaN</td>\n",
              "      <td>NaN</td>\n",
              "      <td>NaN</td>\n",
              "      <td>NaN</td>\n",
              "      <td>NaN</td>\n",
              "      <td>NaN</td>\n",
              "      <td>NaN</td>\n",
              "      <td>NaN</td>\n",
              "      <td>NaN</td>\n",
              "      <td>NaN</td>\n",
              "      <td>NaN</td>\n",
              "      <td>NaN</td>\n",
              "      <td>00:00</td>\n",
              "      <td>NaN</td>\n",
              "      <td>NaN</td>\n",
              "      <td>NaN</td>\n",
              "      <td>NaN</td>\n",
              "      <td>NaN</td>\n",
              "      <td>NaN</td>\n",
              "      <td>NaN</td>\n",
              "      <td>NaN</td>\n",
              "      <td>NaN</td>\n",
              "      <td>NaN</td>\n",
              "      <td>NaN</td>\n",
              "      <td>NaN</td>\n",
              "    </tr>\n",
              "    <tr>\n",
              "      <th>4</th>\n",
              "      <td>2020</td>\n",
              "      <td>2020-08-21 00:00:00</td>\n",
              "      <td>BRA</td>\n",
              "      <td>Brazil</td>\n",
              "      <td>Brazil Serie A</td>\n",
              "      <td>None</td>\n",
              "      <td>Sao Paulo</td>\n",
              "      <td>Bahia</td>\n",
              "      <td>1</td>\n",
              "      <td>1</td>\n",
              "      <td>D</td>\n",
              "      <td>-1</td>\n",
              "      <td>-1</td>\n",
              "      <td>None</td>\n",
              "      <td>NaN</td>\n",
              "      <td>NaN</td>\n",
              "      <td>NaN</td>\n",
              "      <td>NaN</td>\n",
              "      <td>NaN</td>\n",
              "      <td>NaN</td>\n",
              "      <td>NaN</td>\n",
              "      <td>NaN</td>\n",
              "      <td>NaN</td>\n",
              "      <td>NaN</td>\n",
              "      <td>NaN</td>\n",
              "      <td>NaN</td>\n",
              "      <td>NaN</td>\n",
              "      <td>NaN</td>\n",
              "      <td>NaN</td>\n",
              "      <td>NaN</td>\n",
              "      <td>NaN</td>\n",
              "      <td>NaN</td>\n",
              "      <td>NaN</td>\n",
              "      <td>NaN</td>\n",
              "      <td>NaN</td>\n",
              "      <td>NaN</td>\n",
              "      <td>NaN</td>\n",
              "      <td>None</td>\n",
              "      <td>NaN</td>\n",
              "      <td>NaN</td>\n",
              "      <td>...</td>\n",
              "      <td>1.87</td>\n",
              "      <td>NaN</td>\n",
              "      <td>NaN</td>\n",
              "      <td>5.22</td>\n",
              "      <td>NaN</td>\n",
              "      <td>NaN</td>\n",
              "      <td>NaN</td>\n",
              "      <td>NaN</td>\n",
              "      <td>NaN</td>\n",
              "      <td>NaN</td>\n",
              "      <td>3.58</td>\n",
              "      <td>1.74</td>\n",
              "      <td>NaN</td>\n",
              "      <td>NaN</td>\n",
              "      <td>None</td>\n",
              "      <td>NaN</td>\n",
              "      <td>NaN</td>\n",
              "      <td>NaN</td>\n",
              "      <td>NaN</td>\n",
              "      <td>NaN</td>\n",
              "      <td>NaN</td>\n",
              "      <td>NaN</td>\n",
              "      <td>NaN</td>\n",
              "      <td>NaN</td>\n",
              "      <td>NaN</td>\n",
              "      <td>NaN</td>\n",
              "      <td>NaN</td>\n",
              "      <td>00:00</td>\n",
              "      <td>NaN</td>\n",
              "      <td>NaN</td>\n",
              "      <td>NaN</td>\n",
              "      <td>NaN</td>\n",
              "      <td>NaN</td>\n",
              "      <td>NaN</td>\n",
              "      <td>NaN</td>\n",
              "      <td>NaN</td>\n",
              "      <td>NaN</td>\n",
              "      <td>NaN</td>\n",
              "      <td>NaN</td>\n",
              "      <td>NaN</td>\n",
              "    </tr>\n",
              "  </tbody>\n",
              "</table>\n",
              "<p>5 rows × 172 columns</p>\n",
              "</div>"
            ],
            "text/plain": [
              "  Season             Datetime  Div Country  ... WHCD WHCH WHD WHH\n",
              "0   2020  2020-08-21 00:30:00  USA     USA  ...  NaN  NaN NaN NaN\n",
              "1   2020  2020-08-21 00:30:00  USA     USA  ...  NaN  NaN NaN NaN\n",
              "2   2020  2020-08-21 00:00:00  BRA  Brazil  ...  NaN  NaN NaN NaN\n",
              "3   2020  2020-08-21 00:00:00  USA     USA  ...  NaN  NaN NaN NaN\n",
              "4   2020  2020-08-21 00:00:00  BRA  Brazil  ...  NaN  NaN NaN NaN\n",
              "\n",
              "[5 rows x 172 columns]"
            ]
          },
          "metadata": {
            "tags": []
          },
          "execution_count": 12
        }
      ]
    },
    {
      "cell_type": "code",
      "metadata": {
        "id": "AZR1HxN5X1sU"
      },
      "source": [
        "#Selecionando as colunas mais relevantes, e excluindo algumas colunas que não serão usadas no projeto\n",
        "#Match information columns select:'Season', 'Country', 'League', 'Div', 'Datetime', 'HomeTeam', 'AwayTeam', 'FTHG', 'FTAG', 'FTR', 'HTHG', 'HTAG', 'HTR'\n",
        "#Match statistics columns select: 'Attendance', 'Referee', 'HS', 'AS', 'HST', 'AST', 'HHW', 'AHW', 'HC', 'AC', 'HF', 'AF', 'HFKC', 'AKFC', 'HO', 'AO', 'HY', 'AY', 'HR', 'AR', 'HBP', 'ABP'\n",
        "#Match Odds betting odds data: 'AvgH', 'AvgD', 'AvgA', 'Avg>2.5', 'Avg<2.5', 'AvgAHH', 'AvgAHA' (como existem muitas casas de apostas diferentes, com valores que variam\n",
        "#                                                                                                pouco, e o foco não é analisar as odd's em si, vamos utilizar as médias)\n",
        "#Assim reduzimos de 175 para 42 colunas\n",
        "soccer_data = full_soccer_data[['Season', 'Country', 'League',\n",
        "                           'Div', 'Datetime', 'HomeTeam', 'AwayTeam', 'FTHG', 'FTAG', 'FTR', 'HTHG', 'HTAG', 'HTR',\n",
        "                           'Attendance', 'Referee', 'HS', 'AS', 'HST', 'AST', 'HHW', 'AHW', 'HC', 'AC', 'HF', 'AF', 'HFKC', 'AFKC', 'HO', 'AO', 'HY', 'AY', 'HR', 'AR', 'HBP', 'ABP',\n",
        "                           'AvgH', 'AvgD', 'AvgA', 'Avg>2.5', 'Avg<2.5', 'AvgAHH', 'AvgAHA']].copy()"
      ],
      "execution_count": 13,
      "outputs": []
    },
    {
      "cell_type": "code",
      "metadata": {
        "id": "xJ7OeZF31H4a",
        "outputId": "ed297232-5c29-4ff2-e0aa-bb348691ff5b",
        "colab": {
          "base_uri": "https://localhost:8080/",
          "height": 739
        }
      },
      "source": [
        "soccer_data.dtypes"
      ],
      "execution_count": 14,
      "outputs": [
        {
          "output_type": "execute_result",
          "data": {
            "text/plain": [
              "Season         object\n",
              "Country        object\n",
              "League         object\n",
              "Div            object\n",
              "Datetime       object\n",
              "HomeTeam       object\n",
              "AwayTeam       object\n",
              "FTHG            int64\n",
              "FTAG            int64\n",
              "FTR            object\n",
              "HTHG            int64\n",
              "HTAG            int64\n",
              "HTR            object\n",
              "Attendance    float64\n",
              "Referee        object\n",
              "HS            float64\n",
              "AS            float64\n",
              "HST           float64\n",
              "AST           float64\n",
              "HHW           float64\n",
              "AHW           float64\n",
              "HC            float64\n",
              "AC            float64\n",
              "HF            float64\n",
              "AF            float64\n",
              "HFKC          float64\n",
              "AFKC          float64\n",
              "HO            float64\n",
              "AO            float64\n",
              "HY            float64\n",
              "AY            float64\n",
              "HR            float64\n",
              "AR            float64\n",
              "HBP           float64\n",
              "ABP           float64\n",
              "AvgH          float64\n",
              "AvgD          float64\n",
              "AvgA          float64\n",
              "Avg>2.5       float64\n",
              "Avg<2.5       float64\n",
              "AvgAHH        float64\n",
              "AvgAHA        float64\n",
              "dtype: object"
            ]
          },
          "metadata": {
            "tags": []
          },
          "execution_count": 14
        }
      ]
    },
    {
      "cell_type": "code",
      "metadata": {
        "id": "fvoQeDTO1XFx"
      },
      "source": [
        "#ajustando tipos dos dados\n",
        "\n",
        "soccer_data['Country'] = soccer_data['Country'].astype('category')\n",
        "soccer_data['League'] = soccer_data['League'].astype('category')\n",
        "soccer_data['Div'] = soccer_data['Div'].astype('category')\n",
        "soccer_data['Datetime'] = soccer_data['Datetime'].astype('datetime64[ns]') \n",
        "soccer_data['HomeTeam'] = soccer_data['HomeTeam'].astype('category')\n",
        "soccer_data['AwayTeam'] = soccer_data['AwayTeam'].astype('category')\n",
        "soccer_data['FTR'] = soccer_data['FTR'].astype('category')\n",
        "soccer_data['HTR'] = soccer_data['HTR'].astype('category')\n",
        "soccer_data['Referee'] = soccer_data['Referee'].astype('category')\n",
        "soccer_data['Referee'] = soccer_data['Referee'].astype('category')"
      ],
      "execution_count": 15,
      "outputs": []
    },
    {
      "cell_type": "code",
      "metadata": {
        "id": "PLEqkEzlLwDe",
        "outputId": "085114cf-ef9b-4637-afd9-488850790eb3",
        "colab": {
          "base_uri": "https://localhost:8080/",
          "height": 118
        }
      },
      "source": [
        "soccer_data['Season'].unique()"
      ],
      "execution_count": 16,
      "outputs": [
        {
          "output_type": "execute_result",
          "data": {
            "text/plain": [
              "array(['2020', '2020/2021', '2019/2020', '2019', '2018/2019', '2018',\n",
              "       '2017/2018', '2017', '2016/2017', '2016', '2015/2016', '2015',\n",
              "       '2014/2015', '2013/2014', '2014', '2013', '2012/2013', '2012',\n",
              "       '2011/2012', '2010/2011', '2009/2010', '2008/2009', '2007/2008',\n",
              "       '2006/2007', '2005/2006', '2004/2005', '2003/2004', '2002/2003',\n",
              "       '2001/2002', '2000/2001'], dtype=object)"
            ]
          },
          "metadata": {
            "tags": []
          },
          "execution_count": 16
        }
      ]
    },
    {
      "cell_type": "markdown",
      "metadata": {
        "id": "sVqBx4IQL8CQ"
      },
      "source": [
        "As temporadas de alguns campeonatos (Principalmente europeus) começam num ano e terminam no ano seguinte; Para analisar melhor (e transformar a coluna season em dados categóricos), vamos reescrever utilizando apenas o ano em que a temporada se inicia; Ou seja, sempre que tivermos a temporada \"2020\", saberemos que se refere a 2020/2021, ou se tivermos \"2019\", saberemos que se refere a temporada \"2019/2020\" e assim por diante\n"
      ]
    },
    {
      "cell_type": "code",
      "metadata": {
        "id": "MxzW6cokNPkv",
        "outputId": "fe6cf3c3-f547-463d-c0d5-6a7fa6548643",
        "colab": {
          "base_uri": "https://localhost:8080/",
          "height": 50
        }
      },
      "source": [
        "soccer_data['Season'] = soccer_data['Season'].str.split('/').str[0]\n",
        "soccer_data['Season'] = soccer_data['Season'].astype('int64') #TIRAR DUVIDA SE SERIA MELHOR TRATAR ISSO COMO CATEGORY\n",
        "print(soccer_data['Season'].unique())"
      ],
      "execution_count": 17,
      "outputs": [
        {
          "output_type": "stream",
          "text": [
            "[2020 2019 2018 2017 2016 2015 2014 2013 2012 2011 2010 2009 2008 2007\n",
            " 2006 2005 2004 2003 2002 2001 2000]\n"
          ],
          "name": "stdout"
        }
      ]
    },
    {
      "cell_type": "code",
      "metadata": {
        "id": "_P51u5U32_3J",
        "outputId": "41ac7954-3daa-4a33-c143-7204d4c9e908",
        "colab": {
          "base_uri": "https://localhost:8080/",
          "height": 739
        }
      },
      "source": [
        "soccer_data.dtypes"
      ],
      "execution_count": 18,
      "outputs": [
        {
          "output_type": "execute_result",
          "data": {
            "text/plain": [
              "Season                 int64\n",
              "Country             category\n",
              "League              category\n",
              "Div                 category\n",
              "Datetime      datetime64[ns]\n",
              "HomeTeam            category\n",
              "AwayTeam            category\n",
              "FTHG                   int64\n",
              "FTAG                   int64\n",
              "FTR                 category\n",
              "HTHG                   int64\n",
              "HTAG                   int64\n",
              "HTR                 category\n",
              "Attendance           float64\n",
              "Referee             category\n",
              "HS                   float64\n",
              "AS                   float64\n",
              "HST                  float64\n",
              "AST                  float64\n",
              "HHW                  float64\n",
              "AHW                  float64\n",
              "HC                   float64\n",
              "AC                   float64\n",
              "HF                   float64\n",
              "AF                   float64\n",
              "HFKC                 float64\n",
              "AFKC                 float64\n",
              "HO                   float64\n",
              "AO                   float64\n",
              "HY                   float64\n",
              "AY                   float64\n",
              "HR                   float64\n",
              "AR                   float64\n",
              "HBP                  float64\n",
              "ABP                  float64\n",
              "AvgH                 float64\n",
              "AvgD                 float64\n",
              "AvgA                 float64\n",
              "Avg>2.5              float64\n",
              "Avg<2.5              float64\n",
              "AvgAHH               float64\n",
              "AvgAHA               float64\n",
              "dtype: object"
            ]
          },
          "metadata": {
            "tags": []
          },
          "execution_count": 18
        }
      ]
    },
    {
      "cell_type": "markdown",
      "metadata": {
        "id": "E8-3Es3m3h0z"
      },
      "source": [
        "# Remover instâncias"
      ]
    },
    {
      "cell_type": "code",
      "metadata": {
        "id": "rVWnuk1K3dmo",
        "outputId": "d4eec7a9-63a9-467f-9bbd-192e9980b6ef",
        "colab": {
          "base_uri": "https://localhost:8080/",
          "height": 34
        }
      },
      "source": [
        "soccer_data.shape"
      ],
      "execution_count": 19,
      "outputs": [
        {
          "output_type": "execute_result",
          "data": {
            "text/plain": [
              "(179807, 42)"
            ]
          },
          "metadata": {
            "tags": []
          },
          "execution_count": 19
        }
      ]
    },
    {
      "cell_type": "code",
      "metadata": {
        "id": "l239kFrz3rps",
        "outputId": "bf45cb5c-af50-4003-f7a5-de7b5dd4fb30",
        "colab": {
          "base_uri": "https://localhost:8080/",
          "height": 739
        }
      },
      "source": [
        "(soccer_data.isnull().sum())"
      ],
      "execution_count": 20,
      "outputs": [
        {
          "output_type": "execute_result",
          "data": {
            "text/plain": [
              "Season             0\n",
              "Country            0\n",
              "League             0\n",
              "Div                0\n",
              "Datetime           0\n",
              "HomeTeam           0\n",
              "AwayTeam           0\n",
              "FTHG               0\n",
              "FTAG               0\n",
              "FTR                0\n",
              "HTHG               0\n",
              "HTAG               0\n",
              "HTR            34410\n",
              "Attendance    172991\n",
              "Referee       126070\n",
              "HS             95647\n",
              "AS             95644\n",
              "HST            96453\n",
              "AST            96450\n",
              "HHW           173152\n",
              "AHW           173152\n",
              "HC             96019\n",
              "AC             96019\n",
              "HF             97741\n",
              "AF             97741\n",
              "HFKC          178473\n",
              "AFKC          178473\n",
              "HO            173151\n",
              "AO            173151\n",
              "HY             93348\n",
              "AY             93347\n",
              "HR             93347\n",
              "AR             93349\n",
              "HBP           172980\n",
              "ABP           172980\n",
              "AvgH          138538\n",
              "AvgD          138538\n",
              "AvgA          138538\n",
              "Avg>2.5       172875\n",
              "Avg<2.5       172875\n",
              "AvgAHH        172875\n",
              "AvgAHA        172875\n",
              "dtype: int64"
            ]
          },
          "metadata": {
            "tags": []
          },
          "execution_count": 20
        }
      ]
    },
    {
      "cell_type": "code",
      "metadata": {
        "id": "Tx_QE9fzX0_8",
        "outputId": "83ca1a2f-cc24-490c-85d3-b18caa999652",
        "colab": {
          "base_uri": "https://localhost:8080/",
          "height": 50
        }
      },
      "source": [
        "#O que aconteceria se removessemos instâncias com ao menos 1 coluna com dado ausente? =(\n",
        "print(len(soccer_data))\n",
        "soccer_data1 = soccer_data.dropna()\n",
        "soccer_data1.head()\n",
        "print(len(soccer_data1))"
      ],
      "execution_count": 21,
      "outputs": [
        {
          "output_type": "stream",
          "text": [
            "179807\n",
            "0\n"
          ],
          "name": "stdout"
        }
      ]
    },
    {
      "cell_type": "markdown",
      "metadata": {
        "id": "pkJZ4OvvYunO"
      },
      "source": [
        "Removendo algumas colunas quase vazias"
      ]
    },
    {
      "cell_type": "code",
      "metadata": {
        "id": "uka4eGwmYP3U"
      },
      "source": [
        "#remove colunas com ao menos 70% de dados ausentes\n",
        "soccer_data2 = soccer_data.dropna(thresh=0.3*len(soccer_data), axis=1) # Threshold is defined as 'Require that many non-NA values'."
      ],
      "execution_count": 22,
      "outputs": []
    },
    {
      "cell_type": "code",
      "metadata": {
        "id": "DMgShV_8ZMtz",
        "outputId": "42320163-9a7f-4991-9836-de5bac6f9a4d",
        "colab": {
          "base_uri": "https://localhost:8080/",
          "height": 302
        }
      },
      "source": [
        "#Colunas excluídas\n",
        "for column in soccer_data.columns:\n",
        "  if column not in soccer_data2.columns:\n",
        "    print(column)"
      ],
      "execution_count": 23,
      "outputs": [
        {
          "output_type": "stream",
          "text": [
            "Attendance\n",
            "Referee\n",
            "HHW\n",
            "AHW\n",
            "HFKC\n",
            "AFKC\n",
            "HO\n",
            "AO\n",
            "HBP\n",
            "ABP\n",
            "AvgH\n",
            "AvgD\n",
            "AvgA\n",
            "Avg>2.5\n",
            "Avg<2.5\n",
            "AvgAHH\n",
            "AvgAHA\n"
          ],
          "name": "stdout"
        }
      ]
    },
    {
      "cell_type": "markdown",
      "metadata": {
        "id": "mA37w8npKZi0"
      },
      "source": [
        "# Inputando dados ausentes"
      ]
    },
    {
      "cell_type": "markdown",
      "metadata": {
        "id": "bkwXQcJMWAqp"
      },
      "source": [
        "\n",
        "A fazer\n",
        "\n",
        "*   Verificar se os dados mudaram muito após a inputação de dados\n",
        "*   Inputar os dados de 'Avg>2.5', 'Avg<2.5', 'AvgAHH', 'AvgAHA'\n",
        "*   Verificar, acho q ta errado\n",
        "\n"
      ]
    },
    {
      "cell_type": "markdown",
      "metadata": {
        "id": "o1LkQ8LSKuFb"
      },
      "source": [
        "Nossa ideia seria usar apenas as colunas com as médias das odd's. No entanto, existem muitos valores nulos nelas (AvgH, AvgD e AvgA). Vamos usar uma estratpegia para preencher os dados dessa coluna. Para isso será preciso preencher os valores nulos das colunas AvgH', 'AvgD', 'AvgA', 'Avg>2.5', 'Avg'<'2.5', 'AvgAHH', 'AvgAHA' com as médias das outras colunas com odd's\n",
        "(\"Replacing NaN with row average\")\n",
        "\n",
        "----------------------------------------------------\n",
        "\n",
        "\n",
        "1X2 (match) betting odds data:\n",
        "\n",
        "Home Win odds columns: B365H, BSH, BWH, GBH, IWH, LBH, PSH, PH, SOH, SBH, SJH, SYH, VCH, WHH\n",
        "\n",
        "Draw odds columns: 'B365D', 'BSD', 'BWD', 'GBD', 'IWD', 'LBD', 'PSD', 'PD', 'SOD', 'SBD', 'SJD', 'SYD', 'VCD', 'WHD'\n",
        "\n",
        "Away Win odds columns: B365H, BSH, BWH, GBH, IWH, LBH, PSH, PH, SOH, SBH, SJH, SYH, VCH, WHH"
      ]
    },
    {
      "cell_type": "code",
      "metadata": {
        "id": "RehnfTRW36VY",
        "outputId": "94052586-45be-4445-b441-cb4a8dff79dc",
        "colab": {
          "base_uri": "https://localhost:8080/",
          "height": 269
        }
      },
      "source": [
        "#Obtendo as médias das linhas que nós queremos\n",
        "cols_home_win_odds_mean = np.nanmean(full_soccer_data[['B365H', 'BSH', 'BWH', 'GBH', 'IWH', 'LBH', 'PSH', 'PH', 'SOH', 'SBH', 'SJH', 'SYH', 'VCH', 'WHH']], axis=1) #verificar isso: quero pegar a média de cada  LINHA\n",
        "cols_draw_odds_mean = np.nanmean(full_soccer_data[['B365D', 'BSD', 'BWD', 'GBD', 'IWD', 'LBD', 'PSD', 'PD', 'SOD', 'SBD', 'SJD', 'SYD', 'VCD', 'WHD']], axis=1)\n",
        "cols_away_win_odds_mean = np.nanmean(full_soccer_data[['B365A', 'BSA', 'BWA', 'GBA', 'IWA', 'LBA', 'PSA', 'PA', 'SOA', 'SBA', 'SJA', 'SYA', 'VCA', 'WHA']], axis=1)\n",
        "#/\\ correto\n",
        "\n",
        "#Checando quantos valores nulos em cada numpy array com os dados que usaremos para substituir\n",
        "print(np.count_nonzero(np.isnan(cols_home_win_odds_mean)))\n",
        "print(np.count_nonzero(np.isnan(cols_draw_odds_mean)))\n",
        "print(np.count_nonzero(np.isnan(cols_away_win_odds_mean)))\n",
        "\n",
        "#Checando quais indices precisamos substituir\n",
        "inds_H = np.where(np.isnan(full_soccer_data[['AvgH']]))\n",
        "inds_D = np.where(np.isnan(full_soccer_data[['AvgD']]))\n",
        "inds_A = np.where(np.isnan(full_soccer_data[['AvgA']]))\n",
        "\n",
        "#Colcando as médias das colunas nos índices (do dataframe soccer_data). Alinhando os arrays usando take\n",
        "full_AvgH_to_replace = full_soccer_data[['AvgH']].to_numpy()\n",
        "full_AvgH_to_replace[inds_H] = np.take(cols_home_win_odds_mean, inds_H[0])\n",
        "soccer_data[['AvgH']] = full_AvgH_to_replace\n",
        "#----#\n",
        "full_AvgD_to_replace = full_soccer_data[['AvgD']].to_numpy()\n",
        "full_AvgD_to_replace[inds_D] = np.take(cols_draw_odds_mean, inds_D[0])\n",
        "soccer_data[['AvgD']] = full_AvgD_to_replace\n",
        "#----#\n",
        "full_AvgA_to_replace = full_soccer_data[['AvgA']].to_numpy()\n",
        "full_AvgA_to_replace[inds_A] = np.take(cols_away_win_odds_mean, inds_A[0])\n",
        "soccer_data[['AvgA']] = full_AvgD_to_replace\n",
        "\n",
        "print(soccer_data[['AvgH']].isnull().sum())\n",
        "print(soccer_data[['AvgA']].isnull().sum())\n",
        "print(soccer_data[['AvgD']].isnull().sum())"
      ],
      "execution_count": 24,
      "outputs": [
        {
          "output_type": "stream",
          "text": [
            "682\n",
            "682\n",
            "682\n",
            "AvgH    571\n",
            "dtype: int64\n",
            "AvgA    571\n",
            "dtype: int64\n",
            "AvgD    571\n",
            "dtype: int64\n"
          ],
          "name": "stdout"
        },
        {
          "output_type": "stream",
          "text": [
            "/usr/local/lib/python3.6/dist-packages/ipykernel_launcher.py:2: RuntimeWarning: Mean of empty slice\n",
            "  \n",
            "/usr/local/lib/python3.6/dist-packages/ipykernel_launcher.py:3: RuntimeWarning: Mean of empty slice\n",
            "  This is separate from the ipykernel package so we can avoid doing imports until\n",
            "/usr/local/lib/python3.6/dist-packages/ipykernel_launcher.py:4: RuntimeWarning: Mean of empty slice\n",
            "  after removing the cwd from sys.path.\n"
          ],
          "name": "stderr"
        }
      ]
    },
    {
      "cell_type": "code",
      "metadata": {
        "id": "RTA7lwM2Rf0d",
        "outputId": "7b1cd964-8e0f-4b8b-922c-a57ed60604f5",
        "colab": {
          "base_uri": "https://localhost:8080/",
          "height": 739
        }
      },
      "source": [
        "(soccer_data.isnull().sum())"
      ],
      "execution_count": 25,
      "outputs": [
        {
          "output_type": "execute_result",
          "data": {
            "text/plain": [
              "Season             0\n",
              "Country            0\n",
              "League             0\n",
              "Div                0\n",
              "Datetime           0\n",
              "HomeTeam           0\n",
              "AwayTeam           0\n",
              "FTHG               0\n",
              "FTAG               0\n",
              "FTR                0\n",
              "HTHG               0\n",
              "HTAG               0\n",
              "HTR            34410\n",
              "Attendance    172991\n",
              "Referee       126070\n",
              "HS             95647\n",
              "AS             95644\n",
              "HST            96453\n",
              "AST            96450\n",
              "HHW           173152\n",
              "AHW           173152\n",
              "HC             96019\n",
              "AC             96019\n",
              "HF             97741\n",
              "AF             97741\n",
              "HFKC          178473\n",
              "AFKC          178473\n",
              "HO            173151\n",
              "AO            173151\n",
              "HY             93348\n",
              "AY             93347\n",
              "HR             93347\n",
              "AR             93349\n",
              "HBP           172980\n",
              "ABP           172980\n",
              "AvgH             571\n",
              "AvgD             571\n",
              "AvgA             571\n",
              "Avg>2.5       172875\n",
              "Avg<2.5       172875\n",
              "AvgAHH        172875\n",
              "AvgAHA        172875\n",
              "dtype: int64"
            ]
          },
          "metadata": {
            "tags": []
          },
          "execution_count": 25
        }
      ]
    },
    {
      "cell_type": "code",
      "metadata": {
        "id": "8sW-48S4JyXD",
        "outputId": "56fbb138-a58d-4f83-c947-378bead14320",
        "colab": {
          "base_uri": "https://localhost:8080/",
          "height": 218
        }
      },
      "source": [
        "soccer_data['AvgH']"
      ],
      "execution_count": 26,
      "outputs": [
        {
          "output_type": "execute_result",
          "data": {
            "text/plain": [
              "0         1.8100\n",
              "1         2.1800\n",
              "2         2.0700\n",
              "3         2.6500\n",
              "4         1.7400\n",
              "           ...  \n",
              "179802       NaN\n",
              "179803    2.3575\n",
              "179804    1.4375\n",
              "179805    1.5200\n",
              "179806       NaN\n",
              "Name: AvgH, Length: 179807, dtype: float64"
            ]
          },
          "metadata": {
            "tags": []
          },
          "execution_count": 26
        }
      ]
    },
    {
      "cell_type": "markdown",
      "metadata": {
        "id": "qFdwYcIBRCk3"
      },
      "source": [
        "# **Otimizar uso de memoria**\n",
        "Agora que todas as features estão prontas, vamos reduzir a memória utilizada pelos datasets e preparar para treinar nosso modelo com alguns classificadores.\n",
        "\n",
        "(bonus?)"
      ]
    },
    {
      "cell_type": "code",
      "metadata": {
        "id": "aQtCCvBQRHIU",
        "outputId": "598b0da8-4c03-426b-d8e4-aeb091fd4c29",
        "colab": {
          "base_uri": "https://localhost:8080/",
          "height": 34
        }
      },
      "source": [
        "soccer_data = reduce_mem_usage(soccer_data)"
      ],
      "execution_count": 27,
      "outputs": [
        {
          "output_type": "stream",
          "text": [
            "Mem. usage decreased to 21.58 Mb (55.7% reduction)\n"
          ],
          "name": "stdout"
        }
      ]
    },
    {
      "cell_type": "code",
      "metadata": {
        "id": "Jm-xPkJpSIbp",
        "outputId": "342ee5cd-16e6-4d3c-f9e7-e5892b8e717c",
        "colab": {
          "base_uri": "https://localhost:8080/",
          "height": 739
        }
      },
      "source": [
        "soccer_data.dtypes"
      ],
      "execution_count": 28,
      "outputs": [
        {
          "output_type": "execute_result",
          "data": {
            "text/plain": [
              "Season                 int16\n",
              "Country             category\n",
              "League              category\n",
              "Div                 category\n",
              "Datetime      datetime64[ns]\n",
              "HomeTeam            category\n",
              "AwayTeam            category\n",
              "FTHG                    int8\n",
              "FTAG                    int8\n",
              "FTR                 category\n",
              "HTHG                    int8\n",
              "HTAG                    int8\n",
              "HTR                 category\n",
              "Attendance           float32\n",
              "Referee             category\n",
              "HS                   float16\n",
              "AS                   float16\n",
              "HST                  float16\n",
              "AST                  float16\n",
              "HHW                  float16\n",
              "AHW                  float16\n",
              "HC                   float16\n",
              "AC                   float16\n",
              "HF                   float16\n",
              "AF                   float16\n",
              "HFKC                 float16\n",
              "AFKC                 float16\n",
              "HO                   float16\n",
              "AO                   float16\n",
              "HY                   float16\n",
              "AY                   float16\n",
              "HR                   float16\n",
              "AR                   float16\n",
              "HBP                  float16\n",
              "ABP                  float16\n",
              "AvgH                 float64\n",
              "AvgD                 float64\n",
              "AvgA                 float64\n",
              "Avg>2.5              float64\n",
              "Avg<2.5              float64\n",
              "AvgAHH               float64\n",
              "AvgAHA               float64\n",
              "dtype: object"
            ]
          },
          "metadata": {
            "tags": []
          },
          "execution_count": 28
        }
      ]
    },
    {
      "cell_type": "markdown",
      "metadata": {
        "id": "l6ysKXGbDc9X"
      },
      "source": [
        "# **Explore Data**"
      ]
    },
    {
      "cell_type": "markdown",
      "metadata": {
        "id": "Q50VLZ20Xe19"
      },
      "source": [
        "# Best Teams of each league stats"
      ]
    },
    {
      "cell_type": "code",
      "metadata": {
        "id": "wezJ0iZ3UJqM",
        "outputId": "8e78aaef-d62e-4c4f-d9db-b29550570bc8",
        "colab": {
          "base_uri": "https://localhost:8080/",
          "height": 0
        }
      },
      "source": [
        "#Checando a quantidade de jogos por temporada em cada liga\n",
        "season_gr = soccer_data[['League', 'Season']].groupby(by=['League', 'Season']).size().unstack(fill_value=0)\n",
        "season_gr"
      ],
      "execution_count": 29,
      "outputs": [
        {
          "output_type": "execute_result",
          "data": {
            "text/html": [
              "<div>\n",
              "<style scoped>\n",
              "    .dataframe tbody tr th:only-of-type {\n",
              "        vertical-align: middle;\n",
              "    }\n",
              "\n",
              "    .dataframe tbody tr th {\n",
              "        vertical-align: top;\n",
              "    }\n",
              "\n",
              "    .dataframe thead th {\n",
              "        text-align: right;\n",
              "    }\n",
              "</style>\n",
              "<table border=\"1\" class=\"dataframe\">\n",
              "  <thead>\n",
              "    <tr style=\"text-align: right;\">\n",
              "      <th>Season</th>\n",
              "      <th>2000</th>\n",
              "      <th>2001</th>\n",
              "      <th>2002</th>\n",
              "      <th>2003</th>\n",
              "      <th>2004</th>\n",
              "      <th>2005</th>\n",
              "      <th>2006</th>\n",
              "      <th>2007</th>\n",
              "      <th>2008</th>\n",
              "      <th>2009</th>\n",
              "      <th>2010</th>\n",
              "      <th>2011</th>\n",
              "      <th>2012</th>\n",
              "      <th>2013</th>\n",
              "      <th>2014</th>\n",
              "      <th>2015</th>\n",
              "      <th>2016</th>\n",
              "      <th>2017</th>\n",
              "      <th>2018</th>\n",
              "      <th>2019</th>\n",
              "      <th>2020</th>\n",
              "    </tr>\n",
              "    <tr>\n",
              "      <th>League</th>\n",
              "      <th></th>\n",
              "      <th></th>\n",
              "      <th></th>\n",
              "      <th></th>\n",
              "      <th></th>\n",
              "      <th></th>\n",
              "      <th></th>\n",
              "      <th></th>\n",
              "      <th></th>\n",
              "      <th></th>\n",
              "      <th></th>\n",
              "      <th></th>\n",
              "      <th></th>\n",
              "      <th></th>\n",
              "      <th></th>\n",
              "      <th></th>\n",
              "      <th></th>\n",
              "      <th></th>\n",
              "      <th></th>\n",
              "      <th></th>\n",
              "      <th></th>\n",
              "    </tr>\n",
              "  </thead>\n",
              "  <tbody>\n",
              "    <tr>\n",
              "      <th>Argentina Primera Division</th>\n",
              "      <td>0</td>\n",
              "      <td>0</td>\n",
              "      <td>0</td>\n",
              "      <td>0</td>\n",
              "      <td>0</td>\n",
              "      <td>0</td>\n",
              "      <td>0</td>\n",
              "      <td>0</td>\n",
              "      <td>0</td>\n",
              "      <td>0</td>\n",
              "      <td>0</td>\n",
              "      <td>0</td>\n",
              "      <td>381</td>\n",
              "      <td>383</td>\n",
              "      <td>190</td>\n",
              "      <td>468</td>\n",
              "      <td>692</td>\n",
              "      <td>378</td>\n",
              "      <td>324</td>\n",
              "      <td>276</td>\n",
              "      <td>0</td>\n",
              "    </tr>\n",
              "    <tr>\n",
              "      <th>Belgium Jupiler League</th>\n",
              "      <td>306</td>\n",
              "      <td>306</td>\n",
              "      <td>111</td>\n",
              "      <td>306</td>\n",
              "      <td>162</td>\n",
              "      <td>306</td>\n",
              "      <td>306</td>\n",
              "      <td>306</td>\n",
              "      <td>306</td>\n",
              "      <td>210</td>\n",
              "      <td>240</td>\n",
              "      <td>240</td>\n",
              "      <td>240</td>\n",
              "      <td>240</td>\n",
              "      <td>240</td>\n",
              "      <td>240</td>\n",
              "      <td>240</td>\n",
              "      <td>240</td>\n",
              "      <td>240</td>\n",
              "      <td>232</td>\n",
              "      <td>18</td>\n",
              "    </tr>\n",
              "    <tr>\n",
              "      <th>Brazil Serie A</th>\n",
              "      <td>0</td>\n",
              "      <td>0</td>\n",
              "      <td>0</td>\n",
              "      <td>0</td>\n",
              "      <td>0</td>\n",
              "      <td>0</td>\n",
              "      <td>0</td>\n",
              "      <td>0</td>\n",
              "      <td>0</td>\n",
              "      <td>0</td>\n",
              "      <td>0</td>\n",
              "      <td>0</td>\n",
              "      <td>380</td>\n",
              "      <td>380</td>\n",
              "      <td>380</td>\n",
              "      <td>380</td>\n",
              "      <td>380</td>\n",
              "      <td>380</td>\n",
              "      <td>380</td>\n",
              "      <td>380</td>\n",
              "      <td>36</td>\n",
              "    </tr>\n",
              "    <tr>\n",
              "      <th>China Super League</th>\n",
              "      <td>0</td>\n",
              "      <td>0</td>\n",
              "      <td>0</td>\n",
              "      <td>0</td>\n",
              "      <td>0</td>\n",
              "      <td>0</td>\n",
              "      <td>0</td>\n",
              "      <td>0</td>\n",
              "      <td>0</td>\n",
              "      <td>0</td>\n",
              "      <td>0</td>\n",
              "      <td>0</td>\n",
              "      <td>0</td>\n",
              "      <td>0</td>\n",
              "      <td>240</td>\n",
              "      <td>240</td>\n",
              "      <td>240</td>\n",
              "      <td>240</td>\n",
              "      <td>240</td>\n",
              "      <td>240</td>\n",
              "      <td>44</td>\n",
              "    </tr>\n",
              "    <tr>\n",
              "      <th>Denmark Superliga</th>\n",
              "      <td>0</td>\n",
              "      <td>0</td>\n",
              "      <td>0</td>\n",
              "      <td>0</td>\n",
              "      <td>0</td>\n",
              "      <td>0</td>\n",
              "      <td>0</td>\n",
              "      <td>0</td>\n",
              "      <td>0</td>\n",
              "      <td>0</td>\n",
              "      <td>0</td>\n",
              "      <td>0</td>\n",
              "      <td>198</td>\n",
              "      <td>198</td>\n",
              "      <td>198</td>\n",
              "      <td>198</td>\n",
              "      <td>255</td>\n",
              "      <td>255</td>\n",
              "      <td>251</td>\n",
              "      <td>243</td>\n",
              "      <td>0</td>\n",
              "    </tr>\n",
              "    <tr>\n",
              "      <th>England Championship</th>\n",
              "      <td>552</td>\n",
              "      <td>552</td>\n",
              "      <td>520</td>\n",
              "      <td>552</td>\n",
              "      <td>392</td>\n",
              "      <td>552</td>\n",
              "      <td>552</td>\n",
              "      <td>552</td>\n",
              "      <td>552</td>\n",
              "      <td>552</td>\n",
              "      <td>552</td>\n",
              "      <td>552</td>\n",
              "      <td>552</td>\n",
              "      <td>552</td>\n",
              "      <td>552</td>\n",
              "      <td>552</td>\n",
              "      <td>552</td>\n",
              "      <td>552</td>\n",
              "      <td>552</td>\n",
              "      <td>552</td>\n",
              "      <td>0</td>\n",
              "    </tr>\n",
              "    <tr>\n",
              "      <th>England Conference</th>\n",
              "      <td>0</td>\n",
              "      <td>0</td>\n",
              "      <td>0</td>\n",
              "      <td>0</td>\n",
              "      <td>0</td>\n",
              "      <td>462</td>\n",
              "      <td>552</td>\n",
              "      <td>552</td>\n",
              "      <td>552</td>\n",
              "      <td>506</td>\n",
              "      <td>552</td>\n",
              "      <td>552</td>\n",
              "      <td>552</td>\n",
              "      <td>552</td>\n",
              "      <td>552</td>\n",
              "      <td>552</td>\n",
              "      <td>552</td>\n",
              "      <td>552</td>\n",
              "      <td>552</td>\n",
              "      <td>451</td>\n",
              "      <td>0</td>\n",
              "    </tr>\n",
              "    <tr>\n",
              "      <th>England League 1</th>\n",
              "      <td>552</td>\n",
              "      <td>552</td>\n",
              "      <td>351</td>\n",
              "      <td>504</td>\n",
              "      <td>376</td>\n",
              "      <td>552</td>\n",
              "      <td>552</td>\n",
              "      <td>552</td>\n",
              "      <td>552</td>\n",
              "      <td>552</td>\n",
              "      <td>552</td>\n",
              "      <td>552</td>\n",
              "      <td>552</td>\n",
              "      <td>552</td>\n",
              "      <td>552</td>\n",
              "      <td>552</td>\n",
              "      <td>552</td>\n",
              "      <td>552</td>\n",
              "      <td>552</td>\n",
              "      <td>400</td>\n",
              "      <td>0</td>\n",
              "    </tr>\n",
              "    <tr>\n",
              "      <th>England League 2</th>\n",
              "      <td>552</td>\n",
              "      <td>552</td>\n",
              "      <td>335</td>\n",
              "      <td>472</td>\n",
              "      <td>440</td>\n",
              "      <td>552</td>\n",
              "      <td>552</td>\n",
              "      <td>552</td>\n",
              "      <td>552</td>\n",
              "      <td>552</td>\n",
              "      <td>552</td>\n",
              "      <td>552</td>\n",
              "      <td>552</td>\n",
              "      <td>552</td>\n",
              "      <td>552</td>\n",
              "      <td>552</td>\n",
              "      <td>552</td>\n",
              "      <td>552</td>\n",
              "      <td>552</td>\n",
              "      <td>440</td>\n",
              "      <td>0</td>\n",
              "    </tr>\n",
              "    <tr>\n",
              "      <th>England Premier League</th>\n",
              "      <td>380</td>\n",
              "      <td>380</td>\n",
              "      <td>380</td>\n",
              "      <td>335</td>\n",
              "      <td>335</td>\n",
              "      <td>380</td>\n",
              "      <td>380</td>\n",
              "      <td>380</td>\n",
              "      <td>380</td>\n",
              "      <td>380</td>\n",
              "      <td>380</td>\n",
              "      <td>380</td>\n",
              "      <td>380</td>\n",
              "      <td>380</td>\n",
              "      <td>380</td>\n",
              "      <td>380</td>\n",
              "      <td>380</td>\n",
              "      <td>380</td>\n",
              "      <td>380</td>\n",
              "      <td>380</td>\n",
              "      <td>0</td>\n",
              "    </tr>\n",
              "    <tr>\n",
              "      <th>Finland Veikkausliiga</th>\n",
              "      <td>0</td>\n",
              "      <td>0</td>\n",
              "      <td>0</td>\n",
              "      <td>0</td>\n",
              "      <td>0</td>\n",
              "      <td>0</td>\n",
              "      <td>0</td>\n",
              "      <td>0</td>\n",
              "      <td>0</td>\n",
              "      <td>0</td>\n",
              "      <td>0</td>\n",
              "      <td>0</td>\n",
              "      <td>198</td>\n",
              "      <td>198</td>\n",
              "      <td>198</td>\n",
              "      <td>200</td>\n",
              "      <td>200</td>\n",
              "      <td>200</td>\n",
              "      <td>200</td>\n",
              "      <td>169</td>\n",
              "      <td>58</td>\n",
              "    </tr>\n",
              "    <tr>\n",
              "      <th>France Division 2</th>\n",
              "      <td>380</td>\n",
              "      <td>351</td>\n",
              "      <td>159</td>\n",
              "      <td>15</td>\n",
              "      <td>380</td>\n",
              "      <td>380</td>\n",
              "      <td>380</td>\n",
              "      <td>348</td>\n",
              "      <td>380</td>\n",
              "      <td>380</td>\n",
              "      <td>380</td>\n",
              "      <td>380</td>\n",
              "      <td>380</td>\n",
              "      <td>380</td>\n",
              "      <td>380</td>\n",
              "      <td>380</td>\n",
              "      <td>380</td>\n",
              "      <td>380</td>\n",
              "      <td>380</td>\n",
              "      <td>280</td>\n",
              "      <td>0</td>\n",
              "    </tr>\n",
              "    <tr>\n",
              "      <th>France Le Championnat</th>\n",
              "      <td>306</td>\n",
              "      <td>306</td>\n",
              "      <td>191</td>\n",
              "      <td>223</td>\n",
              "      <td>380</td>\n",
              "      <td>380</td>\n",
              "      <td>380</td>\n",
              "      <td>380</td>\n",
              "      <td>380</td>\n",
              "      <td>380</td>\n",
              "      <td>380</td>\n",
              "      <td>380</td>\n",
              "      <td>380</td>\n",
              "      <td>380</td>\n",
              "      <td>380</td>\n",
              "      <td>380</td>\n",
              "      <td>380</td>\n",
              "      <td>380</td>\n",
              "      <td>380</td>\n",
              "      <td>279</td>\n",
              "      <td>0</td>\n",
              "    </tr>\n",
              "    <tr>\n",
              "      <th>Germany Bundesliga 1</th>\n",
              "      <td>306</td>\n",
              "      <td>306</td>\n",
              "      <td>290</td>\n",
              "      <td>194</td>\n",
              "      <td>306</td>\n",
              "      <td>306</td>\n",
              "      <td>306</td>\n",
              "      <td>306</td>\n",
              "      <td>306</td>\n",
              "      <td>306</td>\n",
              "      <td>306</td>\n",
              "      <td>306</td>\n",
              "      <td>306</td>\n",
              "      <td>306</td>\n",
              "      <td>306</td>\n",
              "      <td>306</td>\n",
              "      <td>306</td>\n",
              "      <td>306</td>\n",
              "      <td>306</td>\n",
              "      <td>306</td>\n",
              "      <td>0</td>\n",
              "    </tr>\n",
              "    <tr>\n",
              "      <th>Germany Bundesliga 2</th>\n",
              "      <td>306</td>\n",
              "      <td>306</td>\n",
              "      <td>143</td>\n",
              "      <td>15</td>\n",
              "      <td>271</td>\n",
              "      <td>306</td>\n",
              "      <td>306</td>\n",
              "      <td>306</td>\n",
              "      <td>306</td>\n",
              "      <td>306</td>\n",
              "      <td>306</td>\n",
              "      <td>306</td>\n",
              "      <td>306</td>\n",
              "      <td>306</td>\n",
              "      <td>306</td>\n",
              "      <td>306</td>\n",
              "      <td>306</td>\n",
              "      <td>306</td>\n",
              "      <td>306</td>\n",
              "      <td>306</td>\n",
              "      <td>0</td>\n",
              "    </tr>\n",
              "    <tr>\n",
              "      <th>Greece Bundesliga</th>\n",
              "      <td>0</td>\n",
              "      <td>0</td>\n",
              "      <td>0</td>\n",
              "      <td>0</td>\n",
              "      <td>0</td>\n",
              "      <td>0</td>\n",
              "      <td>0</td>\n",
              "      <td>0</td>\n",
              "      <td>0</td>\n",
              "      <td>0</td>\n",
              "      <td>0</td>\n",
              "      <td>0</td>\n",
              "      <td>180</td>\n",
              "      <td>180</td>\n",
              "      <td>180</td>\n",
              "      <td>180</td>\n",
              "      <td>180</td>\n",
              "      <td>182</td>\n",
              "      <td>195</td>\n",
              "      <td>195</td>\n",
              "      <td>0</td>\n",
              "    </tr>\n",
              "    <tr>\n",
              "      <th>Greece Ethniki Katigoria</th>\n",
              "      <td>240</td>\n",
              "      <td>182</td>\n",
              "      <td>240</td>\n",
              "      <td>240</td>\n",
              "      <td>144</td>\n",
              "      <td>240</td>\n",
              "      <td>240</td>\n",
              "      <td>240</td>\n",
              "      <td>240</td>\n",
              "      <td>240</td>\n",
              "      <td>240</td>\n",
              "      <td>240</td>\n",
              "      <td>240</td>\n",
              "      <td>306</td>\n",
              "      <td>306</td>\n",
              "      <td>240</td>\n",
              "      <td>240</td>\n",
              "      <td>240</td>\n",
              "      <td>240</td>\n",
              "      <td>240</td>\n",
              "      <td>0</td>\n",
              "    </tr>\n",
              "    <tr>\n",
              "      <th>Ireland Premier Division</th>\n",
              "      <td>0</td>\n",
              "      <td>0</td>\n",
              "      <td>0</td>\n",
              "      <td>0</td>\n",
              "      <td>0</td>\n",
              "      <td>0</td>\n",
              "      <td>0</td>\n",
              "      <td>0</td>\n",
              "      <td>0</td>\n",
              "      <td>0</td>\n",
              "      <td>0</td>\n",
              "      <td>0</td>\n",
              "      <td>183</td>\n",
              "      <td>202</td>\n",
              "      <td>202</td>\n",
              "      <td>202</td>\n",
              "      <td>202</td>\n",
              "      <td>198</td>\n",
              "      <td>185</td>\n",
              "      <td>186</td>\n",
              "      <td>0</td>\n",
              "    </tr>\n",
              "    <tr>\n",
              "      <th>Italy Serie A</th>\n",
              "      <td>306</td>\n",
              "      <td>306</td>\n",
              "      <td>306</td>\n",
              "      <td>194</td>\n",
              "      <td>300</td>\n",
              "      <td>380</td>\n",
              "      <td>380</td>\n",
              "      <td>380</td>\n",
              "      <td>380</td>\n",
              "      <td>380</td>\n",
              "      <td>380</td>\n",
              "      <td>380</td>\n",
              "      <td>380</td>\n",
              "      <td>380</td>\n",
              "      <td>380</td>\n",
              "      <td>380</td>\n",
              "      <td>380</td>\n",
              "      <td>380</td>\n",
              "      <td>380</td>\n",
              "      <td>380</td>\n",
              "      <td>0</td>\n",
              "    </tr>\n",
              "    <tr>\n",
              "      <th>Italy Serie B</th>\n",
              "      <td>380</td>\n",
              "      <td>332</td>\n",
              "      <td>159</td>\n",
              "      <td>328</td>\n",
              "      <td>94</td>\n",
              "      <td>462</td>\n",
              "      <td>462</td>\n",
              "      <td>462</td>\n",
              "      <td>462</td>\n",
              "      <td>462</td>\n",
              "      <td>462</td>\n",
              "      <td>462</td>\n",
              "      <td>462</td>\n",
              "      <td>462</td>\n",
              "      <td>462</td>\n",
              "      <td>462</td>\n",
              "      <td>462</td>\n",
              "      <td>462</td>\n",
              "      <td>342</td>\n",
              "      <td>380</td>\n",
              "      <td>0</td>\n",
              "    </tr>\n",
              "    <tr>\n",
              "      <th>Japan J-League</th>\n",
              "      <td>0</td>\n",
              "      <td>0</td>\n",
              "      <td>0</td>\n",
              "      <td>0</td>\n",
              "      <td>0</td>\n",
              "      <td>0</td>\n",
              "      <td>0</td>\n",
              "      <td>0</td>\n",
              "      <td>0</td>\n",
              "      <td>0</td>\n",
              "      <td>0</td>\n",
              "      <td>0</td>\n",
              "      <td>306</td>\n",
              "      <td>306</td>\n",
              "      <td>306</td>\n",
              "      <td>309</td>\n",
              "      <td>309</td>\n",
              "      <td>306</td>\n",
              "      <td>309</td>\n",
              "      <td>299</td>\n",
              "      <td>0</td>\n",
              "    </tr>\n",
              "    <tr>\n",
              "      <th>Mexico Liga MX</th>\n",
              "      <td>0</td>\n",
              "      <td>0</td>\n",
              "      <td>0</td>\n",
              "      <td>0</td>\n",
              "      <td>0</td>\n",
              "      <td>0</td>\n",
              "      <td>0</td>\n",
              "      <td>0</td>\n",
              "      <td>0</td>\n",
              "      <td>0</td>\n",
              "      <td>0</td>\n",
              "      <td>0</td>\n",
              "      <td>334</td>\n",
              "      <td>334</td>\n",
              "      <td>334</td>\n",
              "      <td>334</td>\n",
              "      <td>334</td>\n",
              "      <td>334</td>\n",
              "      <td>334</td>\n",
              "      <td>274</td>\n",
              "      <td>45</td>\n",
              "    </tr>\n",
              "    <tr>\n",
              "      <th>Netherlands Eredivisie</th>\n",
              "      <td>306</td>\n",
              "      <td>306</td>\n",
              "      <td>130</td>\n",
              "      <td>306</td>\n",
              "      <td>226</td>\n",
              "      <td>306</td>\n",
              "      <td>306</td>\n",
              "      <td>274</td>\n",
              "      <td>306</td>\n",
              "      <td>306</td>\n",
              "      <td>306</td>\n",
              "      <td>306</td>\n",
              "      <td>306</td>\n",
              "      <td>306</td>\n",
              "      <td>306</td>\n",
              "      <td>306</td>\n",
              "      <td>306</td>\n",
              "      <td>306</td>\n",
              "      <td>306</td>\n",
              "      <td>232</td>\n",
              "      <td>0</td>\n",
              "    </tr>\n",
              "    <tr>\n",
              "      <th>Norway Eliteserien</th>\n",
              "      <td>0</td>\n",
              "      <td>0</td>\n",
              "      <td>0</td>\n",
              "      <td>0</td>\n",
              "      <td>0</td>\n",
              "      <td>0</td>\n",
              "      <td>0</td>\n",
              "      <td>0</td>\n",
              "      <td>0</td>\n",
              "      <td>0</td>\n",
              "      <td>0</td>\n",
              "      <td>0</td>\n",
              "      <td>242</td>\n",
              "      <td>242</td>\n",
              "      <td>242</td>\n",
              "      <td>242</td>\n",
              "      <td>242</td>\n",
              "      <td>242</td>\n",
              "      <td>241</td>\n",
              "      <td>242</td>\n",
              "      <td>113</td>\n",
              "    </tr>\n",
              "    <tr>\n",
              "      <th>Poland Ekstraklasa</th>\n",
              "      <td>0</td>\n",
              "      <td>0</td>\n",
              "      <td>0</td>\n",
              "      <td>0</td>\n",
              "      <td>0</td>\n",
              "      <td>0</td>\n",
              "      <td>0</td>\n",
              "      <td>0</td>\n",
              "      <td>0</td>\n",
              "      <td>0</td>\n",
              "      <td>0</td>\n",
              "      <td>0</td>\n",
              "      <td>240</td>\n",
              "      <td>296</td>\n",
              "      <td>296</td>\n",
              "      <td>296</td>\n",
              "      <td>296</td>\n",
              "      <td>296</td>\n",
              "      <td>296</td>\n",
              "      <td>296</td>\n",
              "      <td>0</td>\n",
              "    </tr>\n",
              "    <tr>\n",
              "      <th>Portugal Liga I</th>\n",
              "      <td>306</td>\n",
              "      <td>306</td>\n",
              "      <td>98</td>\n",
              "      <td>290</td>\n",
              "      <td>306</td>\n",
              "      <td>306</td>\n",
              "      <td>240</td>\n",
              "      <td>208</td>\n",
              "      <td>240</td>\n",
              "      <td>240</td>\n",
              "      <td>240</td>\n",
              "      <td>240</td>\n",
              "      <td>240</td>\n",
              "      <td>240</td>\n",
              "      <td>306</td>\n",
              "      <td>306</td>\n",
              "      <td>306</td>\n",
              "      <td>306</td>\n",
              "      <td>306</td>\n",
              "      <td>306</td>\n",
              "      <td>0</td>\n",
              "    </tr>\n",
              "    <tr>\n",
              "      <th>Romania Liga 1</th>\n",
              "      <td>0</td>\n",
              "      <td>0</td>\n",
              "      <td>0</td>\n",
              "      <td>0</td>\n",
              "      <td>0</td>\n",
              "      <td>0</td>\n",
              "      <td>0</td>\n",
              "      <td>0</td>\n",
              "      <td>0</td>\n",
              "      <td>0</td>\n",
              "      <td>0</td>\n",
              "      <td>0</td>\n",
              "      <td>307</td>\n",
              "      <td>306</td>\n",
              "      <td>306</td>\n",
              "      <td>272</td>\n",
              "      <td>270</td>\n",
              "      <td>270</td>\n",
              "      <td>270</td>\n",
              "      <td>262</td>\n",
              "      <td>0</td>\n",
              "    </tr>\n",
              "    <tr>\n",
              "      <th>Russia Premier League</th>\n",
              "      <td>0</td>\n",
              "      <td>0</td>\n",
              "      <td>0</td>\n",
              "      <td>0</td>\n",
              "      <td>0</td>\n",
              "      <td>0</td>\n",
              "      <td>0</td>\n",
              "      <td>0</td>\n",
              "      <td>0</td>\n",
              "      <td>0</td>\n",
              "      <td>0</td>\n",
              "      <td>0</td>\n",
              "      <td>244</td>\n",
              "      <td>244</td>\n",
              "      <td>244</td>\n",
              "      <td>244</td>\n",
              "      <td>244</td>\n",
              "      <td>244</td>\n",
              "      <td>244</td>\n",
              "      <td>240</td>\n",
              "      <td>24</td>\n",
              "    </tr>\n",
              "    <tr>\n",
              "      <th>Scotland Division 1</th>\n",
              "      <td>180</td>\n",
              "      <td>180</td>\n",
              "      <td>79</td>\n",
              "      <td>180</td>\n",
              "      <td>164</td>\n",
              "      <td>180</td>\n",
              "      <td>180</td>\n",
              "      <td>180</td>\n",
              "      <td>180</td>\n",
              "      <td>180</td>\n",
              "      <td>180</td>\n",
              "      <td>180</td>\n",
              "      <td>180</td>\n",
              "      <td>180</td>\n",
              "      <td>180</td>\n",
              "      <td>180</td>\n",
              "      <td>180</td>\n",
              "      <td>180</td>\n",
              "      <td>180</td>\n",
              "      <td>137</td>\n",
              "      <td>0</td>\n",
              "    </tr>\n",
              "    <tr>\n",
              "      <th>Scotland Division 2</th>\n",
              "      <td>180</td>\n",
              "      <td>180</td>\n",
              "      <td>79</td>\n",
              "      <td>180</td>\n",
              "      <td>180</td>\n",
              "      <td>180</td>\n",
              "      <td>180</td>\n",
              "      <td>180</td>\n",
              "      <td>180</td>\n",
              "      <td>180</td>\n",
              "      <td>180</td>\n",
              "      <td>180</td>\n",
              "      <td>180</td>\n",
              "      <td>180</td>\n",
              "      <td>180</td>\n",
              "      <td>180</td>\n",
              "      <td>180</td>\n",
              "      <td>180</td>\n",
              "      <td>180</td>\n",
              "      <td>139</td>\n",
              "      <td>0</td>\n",
              "    </tr>\n",
              "    <tr>\n",
              "      <th>Scotland Division 3</th>\n",
              "      <td>180</td>\n",
              "      <td>180</td>\n",
              "      <td>79</td>\n",
              "      <td>111</td>\n",
              "      <td>164</td>\n",
              "      <td>180</td>\n",
              "      <td>180</td>\n",
              "      <td>180</td>\n",
              "      <td>180</td>\n",
              "      <td>180</td>\n",
              "      <td>180</td>\n",
              "      <td>180</td>\n",
              "      <td>180</td>\n",
              "      <td>180</td>\n",
              "      <td>180</td>\n",
              "      <td>180</td>\n",
              "      <td>180</td>\n",
              "      <td>180</td>\n",
              "      <td>180</td>\n",
              "      <td>137</td>\n",
              "      <td>0</td>\n",
              "    </tr>\n",
              "    <tr>\n",
              "      <th>Scotland Premier League</th>\n",
              "      <td>228</td>\n",
              "      <td>228</td>\n",
              "      <td>175</td>\n",
              "      <td>111</td>\n",
              "      <td>127</td>\n",
              "      <td>228</td>\n",
              "      <td>228</td>\n",
              "      <td>228</td>\n",
              "      <td>228</td>\n",
              "      <td>228</td>\n",
              "      <td>228</td>\n",
              "      <td>228</td>\n",
              "      <td>228</td>\n",
              "      <td>228</td>\n",
              "      <td>228</td>\n",
              "      <td>228</td>\n",
              "      <td>228</td>\n",
              "      <td>228</td>\n",
              "      <td>228</td>\n",
              "      <td>179</td>\n",
              "      <td>21</td>\n",
              "    </tr>\n",
              "    <tr>\n",
              "      <th>Spain La Liga Primera Division</th>\n",
              "      <td>380</td>\n",
              "      <td>380</td>\n",
              "      <td>380</td>\n",
              "      <td>380</td>\n",
              "      <td>268</td>\n",
              "      <td>380</td>\n",
              "      <td>380</td>\n",
              "      <td>380</td>\n",
              "      <td>380</td>\n",
              "      <td>380</td>\n",
              "      <td>380</td>\n",
              "      <td>380</td>\n",
              "      <td>380</td>\n",
              "      <td>380</td>\n",
              "      <td>380</td>\n",
              "      <td>380</td>\n",
              "      <td>380</td>\n",
              "      <td>380</td>\n",
              "      <td>380</td>\n",
              "      <td>380</td>\n",
              "      <td>0</td>\n",
              "    </tr>\n",
              "    <tr>\n",
              "      <th>Spain La Liga Segunda Division</th>\n",
              "      <td>462</td>\n",
              "      <td>414</td>\n",
              "      <td>239</td>\n",
              "      <td>158</td>\n",
              "      <td>462</td>\n",
              "      <td>462</td>\n",
              "      <td>462</td>\n",
              "      <td>446</td>\n",
              "      <td>462</td>\n",
              "      <td>462</td>\n",
              "      <td>462</td>\n",
              "      <td>462</td>\n",
              "      <td>462</td>\n",
              "      <td>462</td>\n",
              "      <td>462</td>\n",
              "      <td>462</td>\n",
              "      <td>462</td>\n",
              "      <td>462</td>\n",
              "      <td>462</td>\n",
              "      <td>462</td>\n",
              "      <td>0</td>\n",
              "    </tr>\n",
              "    <tr>\n",
              "      <th>Sweden Allsvenskan</th>\n",
              "      <td>0</td>\n",
              "      <td>0</td>\n",
              "      <td>0</td>\n",
              "      <td>0</td>\n",
              "      <td>0</td>\n",
              "      <td>0</td>\n",
              "      <td>0</td>\n",
              "      <td>0</td>\n",
              "      <td>0</td>\n",
              "      <td>0</td>\n",
              "      <td>0</td>\n",
              "      <td>0</td>\n",
              "      <td>242</td>\n",
              "      <td>242</td>\n",
              "      <td>242</td>\n",
              "      <td>242</td>\n",
              "      <td>242</td>\n",
              "      <td>242</td>\n",
              "      <td>242</td>\n",
              "      <td>242</td>\n",
              "      <td>128</td>\n",
              "    </tr>\n",
              "    <tr>\n",
              "      <th>Switzerland Super League</th>\n",
              "      <td>0</td>\n",
              "      <td>0</td>\n",
              "      <td>0</td>\n",
              "      <td>0</td>\n",
              "      <td>0</td>\n",
              "      <td>0</td>\n",
              "      <td>0</td>\n",
              "      <td>0</td>\n",
              "      <td>0</td>\n",
              "      <td>0</td>\n",
              "      <td>0</td>\n",
              "      <td>0</td>\n",
              "      <td>180</td>\n",
              "      <td>180</td>\n",
              "      <td>180</td>\n",
              "      <td>180</td>\n",
              "      <td>180</td>\n",
              "      <td>180</td>\n",
              "      <td>182</td>\n",
              "      <td>182</td>\n",
              "      <td>0</td>\n",
              "    </tr>\n",
              "    <tr>\n",
              "      <th>Turkey Futbol Ligi 1</th>\n",
              "      <td>306</td>\n",
              "      <td>306</td>\n",
              "      <td>130</td>\n",
              "      <td>306</td>\n",
              "      <td>306</td>\n",
              "      <td>306</td>\n",
              "      <td>290</td>\n",
              "      <td>306</td>\n",
              "      <td>306</td>\n",
              "      <td>272</td>\n",
              "      <td>306</td>\n",
              "      <td>306</td>\n",
              "      <td>306</td>\n",
              "      <td>306</td>\n",
              "      <td>306</td>\n",
              "      <td>306</td>\n",
              "      <td>306</td>\n",
              "      <td>306</td>\n",
              "      <td>306</td>\n",
              "      <td>306</td>\n",
              "      <td>0</td>\n",
              "    </tr>\n",
              "    <tr>\n",
              "      <th>USA MLS</th>\n",
              "      <td>0</td>\n",
              "      <td>0</td>\n",
              "      <td>0</td>\n",
              "      <td>0</td>\n",
              "      <td>0</td>\n",
              "      <td>0</td>\n",
              "      <td>0</td>\n",
              "      <td>0</td>\n",
              "      <td>0</td>\n",
              "      <td>0</td>\n",
              "      <td>0</td>\n",
              "      <td>0</td>\n",
              "      <td>338</td>\n",
              "      <td>338</td>\n",
              "      <td>338</td>\n",
              "      <td>357</td>\n",
              "      <td>357</td>\n",
              "      <td>391</td>\n",
              "      <td>408</td>\n",
              "      <td>421</td>\n",
              "      <td>83</td>\n",
              "    </tr>\n",
              "  </tbody>\n",
              "</table>\n",
              "</div>"
            ],
            "text/plain": [
              "Season                          2000  2001  2002  2003  ...  2017  2018  2019  2020\n",
              "League                                                  ...                        \n",
              "Argentina Primera Division         0     0     0     0  ...   378   324   276     0\n",
              "Belgium Jupiler League           306   306   111   306  ...   240   240   232    18\n",
              "Brazil Serie A                     0     0     0     0  ...   380   380   380    36\n",
              "China Super League                 0     0     0     0  ...   240   240   240    44\n",
              "Denmark Superliga                  0     0     0     0  ...   255   251   243     0\n",
              "England Championship             552   552   520   552  ...   552   552   552     0\n",
              "England Conference                 0     0     0     0  ...   552   552   451     0\n",
              "England League 1                 552   552   351   504  ...   552   552   400     0\n",
              "England League 2                 552   552   335   472  ...   552   552   440     0\n",
              "England Premier League           380   380   380   335  ...   380   380   380     0\n",
              "Finland Veikkausliiga              0     0     0     0  ...   200   200   169    58\n",
              "France Division 2                380   351   159    15  ...   380   380   280     0\n",
              "France Le Championnat            306   306   191   223  ...   380   380   279     0\n",
              "Germany Bundesliga 1             306   306   290   194  ...   306   306   306     0\n",
              "Germany Bundesliga 2             306   306   143    15  ...   306   306   306     0\n",
              "Greece Bundesliga                  0     0     0     0  ...   182   195   195     0\n",
              "Greece Ethniki Katigoria         240   182   240   240  ...   240   240   240     0\n",
              "Ireland Premier Division           0     0     0     0  ...   198   185   186     0\n",
              "Italy Serie A                    306   306   306   194  ...   380   380   380     0\n",
              "Italy Serie B                    380   332   159   328  ...   462   342   380     0\n",
              "Japan J-League                     0     0     0     0  ...   306   309   299     0\n",
              "Mexico Liga MX                     0     0     0     0  ...   334   334   274    45\n",
              "Netherlands Eredivisie           306   306   130   306  ...   306   306   232     0\n",
              "Norway Eliteserien                 0     0     0     0  ...   242   241   242   113\n",
              "Poland Ekstraklasa                 0     0     0     0  ...   296   296   296     0\n",
              "Portugal Liga I                  306   306    98   290  ...   306   306   306     0\n",
              "Romania Liga 1                     0     0     0     0  ...   270   270   262     0\n",
              "Russia Premier League              0     0     0     0  ...   244   244   240    24\n",
              "Scotland Division 1              180   180    79   180  ...   180   180   137     0\n",
              "Scotland Division 2              180   180    79   180  ...   180   180   139     0\n",
              "Scotland Division 3              180   180    79   111  ...   180   180   137     0\n",
              "Scotland Premier League          228   228   175   111  ...   228   228   179    21\n",
              "Spain La Liga Primera Division   380   380   380   380  ...   380   380   380     0\n",
              "Spain La Liga Segunda Division   462   414   239   158  ...   462   462   462     0\n",
              "Sweden Allsvenskan                 0     0     0     0  ...   242   242   242   128\n",
              "Switzerland Super League           0     0     0     0  ...   180   182   182     0\n",
              "Turkey Futbol Ligi 1             306   306   130   306  ...   306   306   306     0\n",
              "USA MLS                            0     0     0     0  ...   391   408   421    83\n",
              "\n",
              "[38 rows x 21 columns]"
            ]
          },
          "metadata": {
            "tags": []
          },
          "execution_count": 29
        }
      ]
    },
    {
      "cell_type": "markdown",
      "metadata": {
        "id": "piPi2ZuUXaU7"
      },
      "source": [
        "# Wins/Draws stats"
      ]
    },
    {
      "cell_type": "code",
      "metadata": {
        "id": "IhYDO1QGh1lJ",
        "outputId": "b0b2e836-6586-45db-9a4d-d24ca136fe15",
        "colab": {
          "base_uri": "https://localhost:8080/",
          "height": 0
        }
      },
      "source": [
        "soccer_data['FTR'].unique()"
      ],
      "execution_count": 30,
      "outputs": [
        {
          "output_type": "execute_result",
          "data": {
            "text/plain": [
              "['H', 'D', 'A', '']\n",
              "Categories (4, object): ['H', 'D', 'A', '']"
            ]
          },
          "metadata": {
            "tags": []
          },
          "execution_count": 30
        }
      ]
    },
    {
      "cell_type": "markdown",
      "metadata": {
        "id": "IYhxwIYfh6dS"
      },
      "source": [
        "Vemos que há algumas linhas com resultado não definido, vamos adicionar o resultado paseado nas colunas FTHG e FTAG(Full Time Home Team Goals and Full Time AWAY Team Goals)"
      ]
    },
    {
      "cell_type": "code",
      "metadata": {
        "id": "tyvzPZZpiAk0"
      },
      "source": [
        "soccer_data.loc[((soccer_data['FTR'] == '') & (soccer_data['FTHG'] > soccer_data['FTAG'])), 'FTR'] = 'H'\n",
        "soccer_data.loc[((soccer_data['FTR'] == '') & (soccer_data['FTHG'] < soccer_data['FTAG'])), 'FTR'] = 'A'\n",
        "soccer_data.loc[((soccer_data['FTR'] == '') & (soccer_data['FTHG'] == soccer_data['FTAG'])), 'FTR'] = 'D'"
      ],
      "execution_count": 31,
      "outputs": []
    },
    {
      "cell_type": "code",
      "metadata": {
        "id": "jL9xF6txMBf3",
        "outputId": "3ad6f088-b881-4799-be92-2471959f666c",
        "colab": {
          "base_uri": "https://localhost:8080/",
          "height": 0
        }
      },
      "source": [
        "p_wins_draw = soccer_data[\"FTR\"].value_counts(normalize=True) * 100\n",
        "p_wins_draw.plot.bar(title='Percentage of Home/Away Wins and Draws');\n",
        "print(p_wins_draw)"
      ],
      "execution_count": 32,
      "outputs": [
        {
          "output_type": "stream",
          "text": [
            "H    45.113372\n",
            "A    28.332601\n",
            "D    26.554027\n",
            "      0.000000\n",
            "Name: FTR, dtype: float64\n"
          ],
          "name": "stdout"
        },
        {
          "output_type": "display_data",
          "data": {
            "image/png": "[encoded data removed]",
            "text/plain": [
              "<Figure size 432x288 with 1 Axes>"
            ]
          },
          "metadata": {
            "tags": [],
            "needs_background": "light"
          }
        }
      ]
    },
    {
      "cell_type": "code",
      "metadata": {
        "id": "5lAcNVfcEgW9",
        "outputId": "7a99c520-9968-41b1-9240-e290cdd5fe62",
        "colab": {
          "base_uri": "https://localhost:8080/",
          "height": 0
        }
      },
      "source": [
        "result_by_league = soccer_data.groupby(\"League\")[\"FTR\"].value_counts(normalize=True) * 100\n",
        "\n",
        "#result_by_league.unstack(0).plot.bar(rot=1, subplots=True,figsize=(20,100));\n",
        "\n",
        "fig, axes = plt.subplots(2,2, figsize=(35,20))\n",
        "\n",
        "result_by_league[:30].unstack(1).plot.bar(rot=45, ax=axes[0][0])\n",
        "result_by_league[30:60].unstack(1).plot.bar(rot=45, ax=axes[0][1])\n",
        "result_by_league[60:90].unstack(1).plot.bar(rot=45, ax=axes[1][0])\n",
        "result_by_league[90:].unstack(1).plot.bar(rot=45, ax=axes[1][1])\n",
        "\n",
        "plt.show()"
      ],
      "execution_count": 33,
      "outputs": [
        {
          "output_type": "display_data",
          "data": {
            "image/png": "[encoded data removed]",
            "text/plain": [
              "<Figure size 2520x1440 with 4 Axes>"
            ]
          },
          "metadata": {
            "tags": [],
            "needs_background": "light"
          }
        }
      ]
    },
    {
      "cell_type": "code",
      "metadata": {
        "id": "wehEkKyaM3kr"
      },
      "source": [
        "result_by_league.unstack(1).columns = ['AwayWin', 'Draw', 'HomeWin']"
      ],
      "execution_count": 34,
      "outputs": []
    },
    {
      "cell_type": "markdown",
      "metadata": {
        "id": "hcmgKYujhLL9"
      },
      "source": [
        "É possivel observar que em todas as ligas a vitória do Mandante é mais provável que a vitória do visitante. Vamos checar agora em quais ligas o empate é mais provavél que uma vitória do time visitante"
      ]
    },
    {
      "cell_type": "code",
      "metadata": {
        "id": "tBESPpNYKGvD",
        "outputId": "b5644a36-63a1-42fd-f21c-5a1a17789796",
        "colab": {
          "base_uri": "https://localhost:8080/",
          "height": 0
        }
      },
      "source": [
        "#Ligas onde há mais empates que vitórias do visitante\n",
        "soccer_data.loc[((soccer_data['FTR'] == '') & (soccer_data['FTHG'] == soccer_data['FTAG'])), 'FTR'] = 'D'\n",
        "draws_bigger_than_away_win_leagues = result_by_league.unstack(1).loc[result_by_league.unstack(1)['D'] > result_by_league.unstack(1)['A']]\n",
        "print(\"Quantidade de ligas com mais empates que vitórias do visitante: \", (draws_bigger_than_away_win_leagues.index.size))\n",
        "\n",
        "#Ligas onde há mais vitórias do visitante que empates\n",
        "soccer_data.loc[((soccer_data['FTR'] == '') & (soccer_data['FTHG'] == soccer_data['FTAG'])), 'FTR'] = 'D'\n",
        "draws_less_than_away_win_leagues = result_by_league.unstack(1).loc[result_by_league.unstack(1)['D'] < result_by_league.unstack(1)['A']]\n",
        "print(\"Quantidade de ligas com mais vitórias do visitante que empates: \", (draws_less_than_away_win_leagues.index.size))\n"
      ],
      "execution_count": 35,
      "outputs": [
        {
          "output_type": "stream",
          "text": [
            "Quantidade de ligas com mais empates que vitórias do visitante:  8\n",
            "Quantidade de ligas com mais vitórias do visitante que empates:  30\n"
          ],
          "name": "stdout"
        }
      ]
    },
    {
      "cell_type": "markdown",
      "metadata": {
        "id": "qj3mQmHzsefJ"
      },
      "source": [
        "Vimos que a vitória do mandante é, em geral, mais provavél que a vitoria dos time visitante, que, em geral, é mais provavél que o empate. Vamos checar como isso pode se relacionar com as ODD's"
      ]
    },
    {
      "cell_type": "code",
      "metadata": {
        "id": "V7U8AC17sdNi"
      },
      "source": [
        "odds_data = soccer_data[['League','AvgH', 'AvgD', 'AvgA']].dropna(how='any')\n",
        "odds_data.columns = ['League','HomeWin','Draw', 'AwayWin']\n"
      ],
      "execution_count": 36,
      "outputs": []
    },
    {
      "cell_type": "code",
      "metadata": {
        "id": "nFy32lctCndX",
        "outputId": "2d8ef264-d7a4-4c1e-a9ac-c87767e25b03",
        "colab": {
          "base_uri": "https://localhost:8080/",
          "height": 0
        }
      },
      "source": [
        "odds_data"
      ],
      "execution_count": 37,
      "outputs": [
        {
          "output_type": "execute_result",
          "data": {
            "text/html": [
              "<div>\n",
              "<style scoped>\n",
              "    .dataframe tbody tr th:only-of-type {\n",
              "        vertical-align: middle;\n",
              "    }\n",
              "\n",
              "    .dataframe tbody tr th {\n",
              "        vertical-align: top;\n",
              "    }\n",
              "\n",
              "    .dataframe thead th {\n",
              "        text-align: right;\n",
              "    }\n",
              "</style>\n",
              "<table border=\"1\" class=\"dataframe\">\n",
              "  <thead>\n",
              "    <tr style=\"text-align: right;\">\n",
              "      <th></th>\n",
              "      <th>League</th>\n",
              "      <th>HomeWin</th>\n",
              "      <th>Draw</th>\n",
              "      <th>AwayWin</th>\n",
              "    </tr>\n",
              "  </thead>\n",
              "  <tbody>\n",
              "    <tr>\n",
              "      <th>0</th>\n",
              "      <td>USA MLS</td>\n",
              "      <td>1.8100</td>\n",
              "      <td>3.6200</td>\n",
              "      <td>3.6200</td>\n",
              "    </tr>\n",
              "    <tr>\n",
              "      <th>1</th>\n",
              "      <td>USA MLS</td>\n",
              "      <td>2.1800</td>\n",
              "      <td>3.6200</td>\n",
              "      <td>3.6200</td>\n",
              "    </tr>\n",
              "    <tr>\n",
              "      <th>2</th>\n",
              "      <td>Brazil Serie A</td>\n",
              "      <td>2.0700</td>\n",
              "      <td>3.0700</td>\n",
              "      <td>3.0700</td>\n",
              "    </tr>\n",
              "    <tr>\n",
              "      <th>3</th>\n",
              "      <td>USA MLS</td>\n",
              "      <td>2.6500</td>\n",
              "      <td>3.5300</td>\n",
              "      <td>3.5300</td>\n",
              "    </tr>\n",
              "    <tr>\n",
              "      <th>4</th>\n",
              "      <td>Brazil Serie A</td>\n",
              "      <td>1.7400</td>\n",
              "      <td>3.4100</td>\n",
              "      <td>3.4100</td>\n",
              "    </tr>\n",
              "    <tr>\n",
              "      <th>...</th>\n",
              "      <td>...</td>\n",
              "      <td>...</td>\n",
              "      <td>...</td>\n",
              "      <td>...</td>\n",
              "    </tr>\n",
              "    <tr>\n",
              "      <th>179798</th>\n",
              "      <td>France Le Championnat</td>\n",
              "      <td>1.9625</td>\n",
              "      <td>3.0375</td>\n",
              "      <td>3.0375</td>\n",
              "    </tr>\n",
              "    <tr>\n",
              "      <th>179799</th>\n",
              "      <td>Scotland Premier League</td>\n",
              "      <td>2.3500</td>\n",
              "      <td>3.1500</td>\n",
              "      <td>3.1500</td>\n",
              "    </tr>\n",
              "    <tr>\n",
              "      <th>179803</th>\n",
              "      <td>Scotland Premier League</td>\n",
              "      <td>2.3575</td>\n",
              "      <td>3.1625</td>\n",
              "      <td>3.1625</td>\n",
              "    </tr>\n",
              "    <tr>\n",
              "      <th>179804</th>\n",
              "      <td>France Le Championnat</td>\n",
              "      <td>1.4375</td>\n",
              "      <td>3.6125</td>\n",
              "      <td>3.6125</td>\n",
              "    </tr>\n",
              "    <tr>\n",
              "      <th>179805</th>\n",
              "      <td>France Le Championnat</td>\n",
              "      <td>1.5200</td>\n",
              "      <td>3.4500</td>\n",
              "      <td>3.4500</td>\n",
              "    </tr>\n",
              "  </tbody>\n",
              "</table>\n",
              "<p>179236 rows × 4 columns</p>\n",
              "</div>"
            ],
            "text/plain": [
              "                         League  HomeWin    Draw  AwayWin\n",
              "0                       USA MLS   1.8100  3.6200   3.6200\n",
              "1                       USA MLS   2.1800  3.6200   3.6200\n",
              "2                Brazil Serie A   2.0700  3.0700   3.0700\n",
              "3                       USA MLS   2.6500  3.5300   3.5300\n",
              "4                Brazil Serie A   1.7400  3.4100   3.4100\n",
              "...                         ...      ...     ...      ...\n",
              "179798    France Le Championnat   1.9625  3.0375   3.0375\n",
              "179799  Scotland Premier League   2.3500  3.1500   3.1500\n",
              "179803  Scotland Premier League   2.3575  3.1625   3.1625\n",
              "179804    France Le Championnat   1.4375  3.6125   3.6125\n",
              "179805    France Le Championnat   1.5200  3.4500   3.4500\n",
              "\n",
              "[179236 rows x 4 columns]"
            ]
          },
          "metadata": {
            "tags": []
          },
          "execution_count": 37
        }
      ]
    },
    {
      "cell_type": "code",
      "metadata": {
        "id": "ffLyuo34CQFP",
        "outputId": "68170477-e4fa-46e3-b694-5690357d8938",
        "colab": {
          "base_uri": "https://localhost:8080/",
          "height": 0
        }
      },
      "source": [
        "ax = odds_data.mean().plot.bar(title='Média das ODDs')\n",
        "ax.set_xticklabels(['Home','Draw', 'Away'])\n",
        "\n",
        "odds_data.mean()"
      ],
      "execution_count": 38,
      "outputs": [
        {
          "output_type": "execute_result",
          "data": {
            "text/plain": [
              "HomeWin    2.383848\n",
              "Draw       3.516196\n",
              "AwayWin    3.516196\n",
              "dtype: float64"
            ]
          },
          "metadata": {
            "tags": []
          },
          "execution_count": 38
        },
        {
          "output_type": "display_data",
          "data": {
            "image/png": "[encoded data removed]",
            "text/plain": [
              "<Figure size 432x288 with 1 Axes>"
            ]
          },
          "metadata": {
            "tags": [],
            "needs_background": "light"
          }
        }
      ]
    },
    {
      "cell_type": "code",
      "metadata": {
        "id": "aOvSkmDYDFOZ",
        "outputId": "251379c9-91e0-4c68-cbb7-5206e0823c3e",
        "colab": {
          "base_uri": "https://localhost:8080/",
          "height": 0
        }
      },
      "source": [
        "odds_data = odds_data.groupby(\"League\").mean()\n",
        "#odds_data.plot.bar(figsize=(100,25))\n",
        "#odds_data.unstack(0).plot.bar(rot=1, subplots=True,figsize=(20,100));\n",
        "\n",
        "fig, axes = plt.subplots(2,2, figsize=(35,20))\n",
        "\n",
        "odds_data[:10].plot.bar(rot=45, ax=axes[0][0])\n",
        "odds_data[10:20].plot.bar(rot=45, ax=axes[0][1])\n",
        "odds_data[20:30].plot.bar(rot=45, ax=axes[1][0])\n",
        "odds_data[30:].plot.bar(rot=45, ax=axes[1][1])\n",
        "plt.show()"
      ],
      "execution_count": 39,
      "outputs": [
        {
          "output_type": "display_data",
          "data": {
            "image/png": "[encoded data removed]",
            "text/plain": [
              "<Figure size 2520x1440 with 4 Axes>"
            ]
          },
          "metadata": {
            "tags": [],
            "needs_background": "light"
          }
        }
      ]
    },
    {
      "cell_type": "markdown",
      "metadata": {
        "id": "AB1JfO12TY6C"
      },
      "source": [
        "# Gols stats"
      ]
    },
    {
      "cell_type": "code",
      "metadata": {
        "id": "HrYpx7hLO2ax",
        "outputId": "b2d0dbf9-fd42-4af3-8926-185fa7bc762e",
        "colab": {
          "base_uri": "https://localhost:8080/",
          "height": 0
        }
      },
      "source": [
        "#Verificando as estatisticas de gols por jogo\n",
        "gols_in_dataset = soccer_data['FTHG'] + soccer_data['FTAG']\n",
        "print(gols_in_dataset.describe())\n",
        "\n",
        "%matplotlib inline\n",
        "plt.xlabel('Total de gols no jogo')\n",
        "plt.ylabel('Freq')\n",
        "plt.title('Estatisticas de gols por partida')\n",
        "plt.hist(gols_in_dataset, bins='auto');"
      ],
      "execution_count": 40,
      "outputs": [
        {
          "output_type": "stream",
          "text": [
            "count    179807.000000\n",
            "mean          2.628802\n",
            "std           1.650952\n",
            "min           0.000000\n",
            "25%           1.000000\n",
            "50%           2.000000\n",
            "75%           4.000000\n",
            "max          12.000000\n",
            "dtype: float64\n"
          ],
          "name": "stdout"
        },
        {
          "output_type": "display_data",
          "data": {
            "image/png": "[encoded data removed]",
            "text/plain": [
              "<Figure size 432x288 with 1 Axes>"
            ]
          },
          "metadata": {
            "tags": [],
            "needs_background": "light"
          }
        }
      ]
    },
    {
      "cell_type": "code",
      "metadata": {
        "id": "jJd5PVuPRqv6",
        "outputId": "1d4e1840-b155-44ea-d714-46bcf626daaa",
        "colab": {
          "base_uri": "https://localhost:8080/",
          "height": 0
        }
      },
      "source": [
        "#Verificando as estatisticas de gols do mandante por jogo\n",
        "gols_in_dataset = soccer_data['FTHG']\n",
        "print(gols_in_dataset.describe())\n",
        "\n",
        "%matplotlib inline\n",
        "plt.xlabel('Total de gols do mandante no jogo')\n",
        "plt.ylabel('Freq')\n",
        "plt.title('Estatisticas de gols do mandante por partida')\n",
        "plt.hist(gols_in_dataset, bins='auto');"
      ],
      "execution_count": 41,
      "outputs": [
        {
          "output_type": "stream",
          "text": [
            "count    179807.000000\n",
            "mean          1.492873\n",
            "std           1.258226\n",
            "min           0.000000\n",
            "25%           1.000000\n",
            "50%           1.000000\n",
            "75%           2.000000\n",
            "max          10.000000\n",
            "Name: FTHG, dtype: float64\n"
          ],
          "name": "stdout"
        },
        {
          "output_type": "display_data",
          "data": {
            "image/png": "[encoded data removed]",
            "text/plain": [
              "<Figure size 432x288 with 1 Axes>"
            ]
          },
          "metadata": {
            "tags": [],
            "needs_background": "light"
          }
        }
      ]
    },
    {
      "cell_type": "code",
      "metadata": {
        "id": "NCuwGzcWR_Q3",
        "outputId": "c25e0c9b-ece5-4f49-e6bb-bcc8621058a4",
        "colab": {
          "base_uri": "https://localhost:8080/",
          "height": 0
        }
      },
      "source": [
        "#Verificando as estatisticas de gols do visitante por jogo\n",
        "gols_in_dataset = soccer_data['FTAG']\n",
        "print(gols_in_dataset.describe())\n",
        "\n",
        "%matplotlib inline\n",
        "plt.xlabel('Total de gols do visitante no jogo')\n",
        "plt.ylabel('Freq')\n",
        "plt.title('Estatisticas de gols do visitante por partida')\n",
        "plt.hist(gols_in_dataset, bins='auto');"
      ],
      "execution_count": 42,
      "outputs": [
        {
          "output_type": "stream",
          "text": [
            "count    179807.000000\n",
            "mean          1.135929\n",
            "std           1.105913\n",
            "min           0.000000\n",
            "25%           0.000000\n",
            "50%           1.000000\n",
            "75%           2.000000\n",
            "max           9.000000\n",
            "Name: FTAG, dtype: float64\n"
          ],
          "name": "stdout"
        },
        {
          "output_type": "display_data",
          "data": {
            "image/png": "[encoded data removed]",
            "text/plain": [
              "<Figure size 432x288 with 1 Axes>"
            ]
          },
          "metadata": {
            "tags": [],
            "needs_background": "light"
          }
        }
      ]
    },
    {
      "cell_type": "code",
      "metadata": {
        "id": "YCWFBFFsTcMG"
      },
      "source": [
        ""
      ],
      "execution_count": 42,
      "outputs": []
    }
  ]
}