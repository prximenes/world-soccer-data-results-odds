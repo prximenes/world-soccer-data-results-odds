{
  "nbformat": 4,
  "nbformat_minor": 0,
  "metadata": {
    "colab": {
      "name": "data_processing",
      "provenance": [],
      "collapsed_sections": [
        "HF6AeVTABe2u",
        "oQUbW60hBZ73",
        "UAVrX_I2Bxr6",
        "QR5vgClwT4pU",
        "E8-3Es3m3h0z",
        "mA37w8npKZi0",
        "qFdwYcIBRCk3",
        "Q50VLZ20Xe19",
        "AB1JfO12TY6C"
      ],
      "authorship_tag": "ABX9TyNhbWDnrjRe/CBZ3fecJK8Q",
      "include_colab_link": true
    },
    "kernelspec": {
      "name": "python3",
      "display_name": "Python 3"
    }
  },
  "cells": [
    {
      "cell_type": "markdown",
      "metadata": {
        "id": "view-in-github",
        "colab_type": "text"
      },
      "source": [
        "<a href=\"https://colab.research.google.com/github/prximenes/world-soccer-data-results-odds/blob/master/data_processing.ipynb\" target=\"_parent\"><img src=\"https://colab.research.google.com/assets/colab-badge.svg\" alt=\"Open In Colab\"/></a>"
      ]
    },
    {
      "cell_type": "markdown",
      "metadata": {
        "id": "HF6AeVTABe2u"
      },
      "source": [
        "# **Notes**\n"
      ]
    },
    {
      "cell_type": "markdown",
      "metadata": {
        "id": "XgooQ1KKt1Nk"
      },
      "source": [
        "https://www.kaggle.com/sashchernuh/european-football\n",
        "\n",
        " **Match information columns select**:'Season', 'Country', 'League', 'Div', 'Datetime', 'HomeTeam', 'AwayTeam', 'FTHG', 'FTAG', 'FTR', 'HTHG', 'HTAG', 'HTR'\n",
        "\n",
        "**Match statistics columns selec**t: 'Attendance', 'Referee', 'HS', 'AS', 'HST', 'AST', 'HHW', 'AHW', 'HC', 'AC', 'HF', 'AF', 'HFKC', 'AKFC', 'HO', 'AO', 'HY', 'AY', 'HR', 'AR', 'HBP', 'ABP'\n",
        "\n",
        "**Match Odds betting odds data**: 'AvgH', 'AvgD', 'AvgA', 'Avg>2.5', 'Avg<2.5', 'AvgAHH', 'AvgAHA' \n",
        "\n",
        "(como existem muitas casas de apostas diferentes, com valores que variampouco, e o foco não é analisar as odd's em si, vamos utilizar as médias)"
      ]
    },
    {
      "cell_type": "markdown",
      "metadata": {
        "id": "5IJ1R8S-BWmf"
      },
      "source": [
        "\n",
        "Div = League Division <br>\n",
        "Date = Match Date (dd/mm/yy) <br>\n",
        "Time = Time of match kick off <br>\n",
        "HomeTeam = Home Team <br>\n",
        "AwayTeam = Away Team <br>\n",
        "FTHG and HG = Full Time Home Team Goals <br>\n",
        "FTAG and AG = Full Time Away Team Goals <br>\n",
        "FTR and Res = Full Time Result (H=Home Win, D=Draw, A=Away Win) <br>\n",
        "HTHG = Half Time Home Team Goals <br>\n",
        "HTAG = Half Time Away Team Goals <br>\n",
        "HTR = Half Time Result (H=Home Win, D=Draw, A=Away Win) <br>\n",
        "\n",
        "**Match Statistics (where available)**<br>\n",
        "Attendance = Crowd Attendance<br>\n",
        "Referee = Match Referee<br>\n",
        "HS = Home Team Shots<br>\n",
        "AS = Away Team Shots<br>\n",
        "HST = Home Team Shots on Target<br>\n",
        "AST = Away Team Shots on Target<br>\n",
        "HHW = Home Team Hit Woodwork<br>\n",
        "AHW = Away Team Hit Woodwork<br>\n",
        "HC = Home Team Corners<br>\n",
        "AC = Away Team Corners<br>\n",
        "HF = Home Team Fouls Committed<br>\n",
        "AF = Away Team Fouls Committed<br>\n",
        "HFKC = Home Team Free Kicks Conceded<br>\n",
        "AFKC = Away Team Free Kicks Conceded<br>\n",
        "HO = Home Team Offsides<br>\n",
        "AO = Away Team Offsides<br>\n",
        "HY = Home Team Yellow Cards<br>\n",
        "AY = Away Team Yellow Cards<br>\n",
        "HR = Home Team Red Cards<br>\n",
        "AR = Away Team Red Cards<br>\n",
        "HBP = Home Team Bookings Points (10 = yellow, 25 = red)<br>\n",
        "ABP = Away Team Bookings Points (10 = yellow, 25 = red)<br>\n",
        "\n",
        "Note that Free Kicks Conceeded includes fouls, offsides and any other offense commmitted and will always be equal to or higher than the number of fouls. Fouls make up the vast majority of Free Kicks Conceded. Free Kicks Conceded are shown when specific data on Fouls are not available (France 2nd, Belgium 1st and Greece 1st divisions).\n",
        "<br>\n",
        "Note also that English and Scottish yellow cards do not include the initial yellow card when a second is shown to a player converting it into a red, but this is included as a yellow (plus red) for European games.\n",
        "\n",
        "<br>\n",
        "Key to 1X2 (match) betting odds data:\n",
        "<br>\n",
        "B365H = Bet365 home win odds<br>\n",
        "B365D = Bet365 draw odds<br>\n",
        "B365A = Bet365 away win odds<br>\n",
        "BSH = Blue Square home win odds<br>\n",
        "BSD = Blue Square draw odds<br>\n",
        "BSA = Blue Square away win odds<br>\n",
        "BWH = Bet&Win home win odds<br>\n",
        "BWD = Bet&Win draw odds<br>\n",
        "BWA = Bet&Win away win odds<br>\n",
        "GBH = Gamebookers home win odds<br>\n",
        "GBD = Gamebookers draw odds<br>\n",
        "GBA = Gamebookers away win odds<br>\n",
        "IWH = Interwetten home win odds<br>\n",
        "IWD = Interwetten draw odds<br>\n",
        "IWA = Interwetten away win odds<br>\n",
        "LBH = Ladbrokes home win odds<br>\n",
        "LBD = Ladbrokes draw odds<br>\n",
        "LBA = Ladbrokes away win odds<br>\n",
        "PSH and PH = Pinnacle home win odds<br>\n",
        "PSD and PD = Pinnacle draw odds<br>\n",
        "PSA and PA = Pinnacle away win odds<br>\n",
        "SOH = Sporting Odds home win odds<br>\n",
        "SOD = Sporting Odds draw odds<br>\n",
        "SOA = Sporting Odds away win odds<br>\n",
        "SBH = Sportingbet home win odds<br>\n",
        "SBD = Sportingbet draw odds<br>\n",
        "SBA = Sportingbet away win odds<br>\n",
        "SJH = Stan James home win odds<br>\n",
        "SJD = Stan James draw odds<br>\n",
        "SJA = Stan James away win odds<br>\n",
        "SYH = Stanleybet home win odds<br>\n",
        "SYD = Stanleybet draw odds<br>\n",
        "SYA = Stanleybet away win odds<br>\n",
        "VCH = VC Bet home win odds<br>\n",
        "VCD = VC Bet draw odds<br>\n",
        "VCA = VC Bet away win odds<br>\n",
        "WHH = William Hill home win odds<br>\n",
        "WHD = William Hill draw odds<br>\n",
        "WHA = William Hill away win odds<br>\n",
        "\n",
        "Bb1X2 = Number of BetBrain bookmakers used to calculate match odds averages and maximums<br>\n",
        "BbMxH = Betbrain maximum home win odds<br>\n",
        "BbAvH = Betbrain average home win odds<br>\n",
        "BbMxD = Betbrain maximum draw odds<br>\n",
        "BbAvD = Betbrain average draw win odds<br>\n",
        "BbMxA = Betbrain maximum away win odds<br>\n",
        "BbAvA = Betbrain average away win odds<br>\n",
        "\n",
        "MaxH = Market maximum home win odds<br>\n",
        "MaxD = Market maximum draw win odds<br>\n",
        "MaxA = Market maximum away win odds<br>\n",
        "AvgH = Market average home win odds<br>\n",
        "AvgD = Market average draw win odds<br>\n",
        "AvgA = Market average away win odds<br>\n",
        "\n",
        "\n",
        "\n",
        "Key to total goals betting odds:<br>\n",
        "\n",
        "BbOU = Number of BetBrain bookmakers used to calculate over/under 2.5 goals (total goals) averages and maximums<br>\n",
        "BbMx>2.5 = Betbrain maximum over 2.5 goals<br>\n",
        "BbAv>2.5 = Betbrain average over 2.5 goals<br>\n",
        "BbMx<2.5 = Betbrain maximum under 2.5 goals<br>\n",
        "BbAv<2.5 = Betbrain average under 2.5 goals<br>\n",
        "\n",
        "GB>2.5 = Gamebookers over 2.5 goals<br>\n",
        "GB<2.5 = Gamebookers under 2.5 goals<br>\n",
        "B365>2.5 = Bet365 over 2.5 goals<br>\n",
        "B365<2.5 = Bet365 under 2.5 goals<br>\n",
        "P>2.5 = Pinnacle over 2.5 goals<br>\n",
        "P<2.5 = Pinnacle under 2.5 goals<br>\n",
        "Max>2.5 = Market maximum over 2.5 goals<br>\n",
        "Max<2.5 = Market maximum under 2.5 goals<br>\n",
        "Avg>2.5 = Market average over 2.5 goals<br>\n",
        "Avg<2.5 = Market average under 2.5 goals<br>\n",
        "\n",
        "\n",
        "\n",
        "Key to Asian handicap betting odds:<br>\n",
        "\n",
        "BbAH = Number of BetBrain bookmakers used to Asian handicap averages and maximums<br>\n",
        "BbAHh = Betbrain size of handicap (home team)<br>\n",
        "AHh = Market size of handicap (home team) (since 2019/2020)<br>\n",
        "BbMxAHH = Betbrain maximum Asian handicap home team odds<br>\n",
        "BbAvAHH = Betbrain average Asian handicap home team odds<br>\n",
        "BbMxAHA = Betbrain maximum Asian handicap away team odds<br>\n",
        "BbAvAHA = Betbrain average Asian handicap away team odds<br>\n",
        "\n",
        "GBAHH = Gamebookers Asian handicap home team odds<br>\n",
        "GBAHA = Gamebookers Asian handicap away team odds<br>\n",
        "GBAH = Gamebookers size of handicap (home team)<br>\n",
        "LBAHH = Ladbrokes Asian handicap home team odds<br>\n",
        "LBAHA = Ladbrokes Asian handicap away team odds<br>\n",
        "LBAH = Ladbrokes size of handicap (home team)<br>\n",
        "B365AHH = Bet365 Asian handicap home team odds<br>\n",
        "B365AHA = Bet365 Asian handicap away team odds<br>\n",
        "B365AH = Bet365 size of handicap (home team)<br>\n",
        "PAHH = Pinnacle Asian handicap home team odds<br>\n",
        "PAHA = Pinnacle Asian handicap away team odds<br>\n",
        "MaxAHH = Market maximum Asian handicap home team odds<br>\n",
        "MaxAHA = Market maximum Asian handicap away team odds<br>\n",
        "AvgAHH = Market average Asian handicap home team odds<br>\n",
        "AvgAHA = Market average Asian handicap away team odds<br>\n",
        "\n",
        "\n",
        "\n",
        "Closing odds (last odds before match starts)<br>\n",
        "\n",
        "As above but with an additional \"C\" character following the bookmaker abbreviation/Max/Avg<br><br>\n",
        "\n",
        "Football-Data would like to acknowledge the following sources which have been utilised in the compilation of Football-Data's results and odds files.<br>\n",
        "<br>\n",
        "<br>\n",
        "Current results (full time, half time)<br>\n",
        "Xcores - http://www.xcores .com<br>\n",
        "\n",
        "Match statistics<br>\n",
        "BBC, ESPN Soccer, Bundesliga.de, Gazzetta.it and Football.fr<br>\n",
        "\n",
        "Bookmakers betting odds<br>\n",
        "Individual bookmakers<br>\n",
        "\n",
        "Betting odds for weekend games are collected Friday afternoons, and on Tuesday afternoons for midweek games.<br>\n",
        "\n",
        "Additional match statistics (corners, shots, bookings, referee etc.) for the 2000/01 and 2001/02 seasons for the English, Scottish and German leagues were provided by Sports.com (now under new ownership and no longer available).<br>"
      ]
    },
    {
      "cell_type": "markdown",
      "metadata": {
        "id": "oQUbW60hBZ73"
      },
      "source": [
        "# **Imports and define functions**"
      ]
    },
    {
      "cell_type": "code",
      "metadata": {
        "id": "bbc5Warj6aNc",
        "outputId": "35f021d7-a47f-4a3b-89a3-e77d98908da8",
        "colab": {
          "base_uri": "https://localhost:8080/",
          "height": 202
        }
      },
      "source": [
        "!wget https://cin.ufpe.br/~prxc/file/Projetos/data_science/european-football.zip"
      ],
      "execution_count": 1,
      "outputs": [
        {
          "output_type": "stream",
          "text": [
            "--2020-10-14 12:30:25--  https://cin.ufpe.br/~prxc/file/Projetos/data_science/european-football.zip\n",
            "Resolving cin.ufpe.br (cin.ufpe.br)... 150.161.2.9\n",
            "Connecting to cin.ufpe.br (cin.ufpe.br)|150.161.2.9|:443... connected.\n",
            "HTTP request sent, awaiting response... 200 OK\n",
            "Length: 50165734 (48M) [application/zip]\n",
            "Saving to: ‘european-football.zip’\n",
            "\n",
            "european-football.z 100%[===================>]  47.84M  14.0MB/s    in 4.3s    \n",
            "\n",
            "2020-10-14 12:30:30 (11.0 MB/s) - ‘european-football.zip’ saved [50165734/50165734]\n",
            "\n"
          ],
          "name": "stdout"
        }
      ]
    },
    {
      "cell_type": "code",
      "metadata": {
        "id": "jrpryCU_6UAW"
      },
      "source": [
        "import numpy as np\n",
        "import pandas as pd\n",
        "import sqlite3\n",
        "import matplotlib.pyplot as plt\n",
        "import urllib\n",
        "\n",
        "import os\n",
        "\n",
        "import warnings\n",
        "warnings.filterwarnings('ignore')\n",
        "\n",
        "from matplotlib.axes._axes import _log as matplotlib_axes_logger\n",
        "matplotlib_axes_logger.setLevel('ERROR')\n",
        "\n",
        "from scipy import stats\n",
        "import seaborn as sns"
      ],
      "execution_count": 199,
      "outputs": []
    },
    {
      "cell_type": "code",
      "metadata": {
        "id": "08ndxHHXDzSp"
      },
      "source": [
        "import zipfile\n",
        "with zipfile.ZipFile('european-football.zip', 'r') as zip_ref:\n",
        "    zip_ref.extractall()\n",
        "!mv database.sqlite database.db"
      ],
      "execution_count": 3,
      "outputs": []
    },
    {
      "cell_type": "code",
      "metadata": {
        "id": "q-iUHlu68esP",
        "outputId": "a7d2e17f-f67e-43d7-dcfb-5f9583c71be0",
        "colab": {
          "base_uri": "https://localhost:8080/",
          "height": 34
        }
      },
      "source": [
        "!ls"
      ],
      "execution_count": 4,
      "outputs": [
        {
          "output_type": "stream",
          "text": [
            "database.db  european-football.zip  sample_data\n"
          ],
          "name": "stdout"
        }
      ]
    },
    {
      "cell_type": "code",
      "metadata": {
        "id": "XpgB7bT8BtOc"
      },
      "source": [
        "def load_database(custom_query='SELECT * from football_data'):\n",
        "    #with sqlite3.connect('database.sqlite') as con:\n",
        "    with sqlite3.connect('database.db') as con:\n",
        "        all_data = pd.read_sql_query(custom_query, con)\n",
        "        \n",
        "    return all_data\n",
        "\n",
        "def print_columns(data):\n",
        "  colunas = ''\n",
        "  for col in data.columns:\n",
        "      colunas += col + ', '\n",
        "  print(colunas)"
      ],
      "execution_count": 5,
      "outputs": []
    },
    {
      "cell_type": "markdown",
      "metadata": {
        "id": "zpWKszRkQrMx"
      },
      "source": [
        "**Utilities**\n",
        "\n",
        "Introduziremos uma função para reduzir a memória utilizada pelo nosso dataset ao escolher o menor tipo em tamanho de bytes capaz de armazenar todos os valores de uma determinada coluna."
      ]
    },
    {
      "cell_type": "code",
      "metadata": {
        "id": "5NG7zY1cQo_6"
      },
      "source": [
        "# Reduce memory usage\n",
        "def get_optimized_column(column):\n",
        "    if column.dtype.name == 'category':\n",
        "      return column\n",
        "    if not np.issubdtype(column.dtypes, np.number):\n",
        "        return column\n",
        "    integers = [np.int8, np.int16, np.int32, np.int64]\n",
        "    floats = [np.float16, np.float32, np.float64]\n",
        "    max = column.max()\n",
        "    relevant_types = integers if np.issubdtype(column.dtypes, np.integer) else floats\n",
        "    for dtype in relevant_types:\n",
        "        if dtype(max) == max:\n",
        "            return column.astype(dtype)\n",
        "    return column\n",
        "\n",
        "\n",
        "def reduce_mem_usage(df, verbose=True):\n",
        "    start_mem = df.memory_usage().sum() / 1024**2    \n",
        "    for column in df.columns:\n",
        "        df[column] = get_optimized_column(df[column]) \n",
        "    end_mem = df.memory_usage().sum() / 1024**2\n",
        "    if verbose: print('Mem. usage decreased to {:5.2f} Mb ({:.1f}% reduction)'.format(end_mem, 100 * (start_mem - end_mem) / start_mem))\n",
        "    return df"
      ],
      "execution_count": 6,
      "outputs": []
    },
    {
      "cell_type": "code",
      "metadata": {
        "id": "AGUALFF6HhAS"
      },
      "source": [
        "pd.set_option('display.max_rows', 50)"
      ],
      "execution_count": 7,
      "outputs": []
    },
    {
      "cell_type": "markdown",
      "metadata": {
        "id": "UAVrX_I2Bxr6"
      },
      "source": [
        "# **Load Data**"
      ]
    },
    {
      "cell_type": "markdown",
      "metadata": {
        "id": "zAYU9pdbkwS_"
      },
      "source": [
        "Aqui vamos apenas carregar o banco de dados na variável 'full_soccer_data' "
      ]
    },
    {
      "cell_type": "code",
      "metadata": {
        "id": "NRA6yHZWBv4D"
      },
      "source": [
        "full_soccer_data = load_database()"
      ],
      "execution_count": 8,
      "outputs": []
    },
    {
      "cell_type": "markdown",
      "metadata": {
        "id": "ymfoSxE4lBbf"
      },
      "source": [
        "Aqui vamos adicionar a informação de Nome do País à coluna Liga // Algumas ligas de paises diferentes possuem o mesmo nome!"
      ]
    },
    {
      "cell_type": "code",
      "metadata": {
        "id": "nNnJXNbEUxvA"
      },
      "source": [
        "full_soccer_data['League'] = full_soccer_data[['Country', 'League']].agg(' '.join, axis=1)"
      ],
      "execution_count": 9,
      "outputs": []
    },
    {
      "cell_type": "code",
      "metadata": {
        "id": "7Ubg6lAfezjk",
        "outputId": "3424abc5-f5e8-4b18-c62c-b921b1f8c721",
        "colab": {
          "base_uri": "https://localhost:8080/",
          "height": 0
        }
      },
      "source": [
        "(print_columns(full_soccer_data))"
      ],
      "execution_count": 10,
      "outputs": [
        {
          "output_type": "stream",
          "text": [
            "Season, Datetime, Div, Country, League, Referee, HomeTeam, AwayTeam, FTHG, FTAG, FTR, HTHG, HTAG, HTR, PSH, PSD, PSA, B365H, B365D, B365A, LBH, LBD, LBA, BWH, BWD, BWA, ABP, AC, AF, AFKC, AHCh, AHW, AHh, AO, AR, AS, AST, AT, AY, Attendance, Avg<2.5, Avg>2.5, AvgA, AvgAHA, AvgAHH, AvgC<2.5, AvgC>2.5, AvgCA, AvgCAHA, AvgCAHH, AvgCD, AvgCH, AvgD, AvgH, B365<2.5, B365>2.5, B365AH, B365AHA, B365AHH, B365C<2.5, B365C>2.5, B365CA, B365CAHA, B365CAHH, B365CD, B365CH, BSA, BSD, BSH, BWCA, BWCD, BWCH, Bb1X2, BbAH, BbAHh, BbAv<2.5, BbAv>2.5, BbAvA, BbAvAHA, BbAvAHH, BbAvD, BbAvH, BbMx<2.5, BbMx>2.5, BbMxA, BbMxAHA, BbMxAHH, BbMxD, BbMxH, BbOU, Date, GB<2.5, GB>2.5, GBA, GBAH, GBAHA, GBAHH, GBD, GBH, HBP, HC, HF, HFKC, HHW, HO, HR, HS, HST, HT, HY, IWA, IWCA, IWCD, IWCH, IWD, IWH, LBAH, LBAHA, LBAHH, Max<2.5, Max>2.5, MaxA, MaxAHA, MaxAHH, MaxC<2.5, MaxC>2.5, MaxCA, MaxCAHA, MaxCAHH, MaxCD, MaxCH, MaxD, MaxH, P<2.5, P>2.5, PA, PAHA, PAHH, PC<2.5, PC>2.5, PCAHA, PCAHH, PD, PH, PSCA, PSCD, PSCH, SBA, SBD, SBH, SJA, SJD, SJH, SOA, SOD, SOH, SYA, SYD, SYH, Time, VCA, VCCA, VCCD, VCCH, VCD, VCH, WHA, WHCA, WHCD, WHCH, WHD, WHH, \n"
          ],
          "name": "stdout"
        }
      ]
    },
    {
      "cell_type": "markdown",
      "metadata": {
        "id": "l1GYNsKv-7dm"
      },
      "source": [
        "# **Data Pre-processing**"
      ]
    },
    {
      "cell_type": "markdown",
      "metadata": {
        "id": "QR5vgClwT4pU"
      },
      "source": [
        "# Inicio do Pré-processamento"
      ]
    },
    {
      "cell_type": "code",
      "metadata": {
        "id": "1SxV6wR8DYy4",
        "outputId": "b9751417-c52f-4ecf-a4ad-07d7fc72942a",
        "colab": {
          "base_uri": "https://localhost:8080/",
          "height": 0
        }
      },
      "source": [
        "full_soccer_data.head()"
      ],
      "execution_count": 11,
      "outputs": [
        {
          "output_type": "execute_result",
          "data": {
            "text/html": [
              "<div>\n",
              "<style scoped>\n",
              "    .dataframe tbody tr th:only-of-type {\n",
              "        vertical-align: middle;\n",
              "    }\n",
              "\n",
              "    .dataframe tbody tr th {\n",
              "        vertical-align: top;\n",
              "    }\n",
              "\n",
              "    .dataframe thead th {\n",
              "        text-align: right;\n",
              "    }\n",
              "</style>\n",
              "<table border=\"1\" class=\"dataframe\">\n",
              "  <thead>\n",
              "    <tr style=\"text-align: right;\">\n",
              "      <th></th>\n",
              "      <th>Season</th>\n",
              "      <th>Datetime</th>\n",
              "      <th>Div</th>\n",
              "      <th>Country</th>\n",
              "      <th>League</th>\n",
              "      <th>Referee</th>\n",
              "      <th>HomeTeam</th>\n",
              "      <th>AwayTeam</th>\n",
              "      <th>FTHG</th>\n",
              "      <th>FTAG</th>\n",
              "      <th>FTR</th>\n",
              "      <th>HTHG</th>\n",
              "      <th>HTAG</th>\n",
              "      <th>HTR</th>\n",
              "      <th>PSH</th>\n",
              "      <th>PSD</th>\n",
              "      <th>PSA</th>\n",
              "      <th>B365H</th>\n",
              "      <th>B365D</th>\n",
              "      <th>B365A</th>\n",
              "      <th>LBH</th>\n",
              "      <th>LBD</th>\n",
              "      <th>LBA</th>\n",
              "      <th>BWH</th>\n",
              "      <th>BWD</th>\n",
              "      <th>BWA</th>\n",
              "      <th>ABP</th>\n",
              "      <th>AC</th>\n",
              "      <th>AF</th>\n",
              "      <th>AFKC</th>\n",
              "      <th>AHCh</th>\n",
              "      <th>AHW</th>\n",
              "      <th>AHh</th>\n",
              "      <th>AO</th>\n",
              "      <th>AR</th>\n",
              "      <th>AS</th>\n",
              "      <th>AST</th>\n",
              "      <th>AT</th>\n",
              "      <th>AY</th>\n",
              "      <th>Attendance</th>\n",
              "      <th>...</th>\n",
              "      <th>MaxH</th>\n",
              "      <th>P&lt;2.5</th>\n",
              "      <th>P&gt;2.5</th>\n",
              "      <th>PA</th>\n",
              "      <th>PAHA</th>\n",
              "      <th>PAHH</th>\n",
              "      <th>PC&lt;2.5</th>\n",
              "      <th>PC&gt;2.5</th>\n",
              "      <th>PCAHA</th>\n",
              "      <th>PCAHH</th>\n",
              "      <th>PD</th>\n",
              "      <th>PH</th>\n",
              "      <th>PSCA</th>\n",
              "      <th>PSCD</th>\n",
              "      <th>PSCH</th>\n",
              "      <th>SBA</th>\n",
              "      <th>SBD</th>\n",
              "      <th>SBH</th>\n",
              "      <th>SJA</th>\n",
              "      <th>SJD</th>\n",
              "      <th>SJH</th>\n",
              "      <th>SOA</th>\n",
              "      <th>SOD</th>\n",
              "      <th>SOH</th>\n",
              "      <th>SYA</th>\n",
              "      <th>SYD</th>\n",
              "      <th>SYH</th>\n",
              "      <th>Time</th>\n",
              "      <th>VCA</th>\n",
              "      <th>VCCA</th>\n",
              "      <th>VCCD</th>\n",
              "      <th>VCCH</th>\n",
              "      <th>VCD</th>\n",
              "      <th>VCH</th>\n",
              "      <th>WHA</th>\n",
              "      <th>WHCA</th>\n",
              "      <th>WHCD</th>\n",
              "      <th>WHCH</th>\n",
              "      <th>WHD</th>\n",
              "      <th>WHH</th>\n",
              "    </tr>\n",
              "  </thead>\n",
              "  <tbody>\n",
              "    <tr>\n",
              "      <th>0</th>\n",
              "      <td>2020</td>\n",
              "      <td>2020-08-21 00:30:00</td>\n",
              "      <td>USA</td>\n",
              "      <td>USA</td>\n",
              "      <td>USA MLS</td>\n",
              "      <td>None</td>\n",
              "      <td>Columbus Crew</td>\n",
              "      <td>Chicago Fire</td>\n",
              "      <td>3</td>\n",
              "      <td>0</td>\n",
              "      <td>H</td>\n",
              "      <td>-1</td>\n",
              "      <td>-1</td>\n",
              "      <td>None</td>\n",
              "      <td>NaN</td>\n",
              "      <td>NaN</td>\n",
              "      <td>NaN</td>\n",
              "      <td>NaN</td>\n",
              "      <td>NaN</td>\n",
              "      <td>NaN</td>\n",
              "      <td>NaN</td>\n",
              "      <td>NaN</td>\n",
              "      <td>NaN</td>\n",
              "      <td>NaN</td>\n",
              "      <td>NaN</td>\n",
              "      <td>NaN</td>\n",
              "      <td>NaN</td>\n",
              "      <td>NaN</td>\n",
              "      <td>NaN</td>\n",
              "      <td>NaN</td>\n",
              "      <td>NaN</td>\n",
              "      <td>NaN</td>\n",
              "      <td>NaN</td>\n",
              "      <td>NaN</td>\n",
              "      <td>NaN</td>\n",
              "      <td>NaN</td>\n",
              "      <td>NaN</td>\n",
              "      <td>None</td>\n",
              "      <td>NaN</td>\n",
              "      <td>NaN</td>\n",
              "      <td>...</td>\n",
              "      <td>1.89</td>\n",
              "      <td>NaN</td>\n",
              "      <td>NaN</td>\n",
              "      <td>4.42</td>\n",
              "      <td>NaN</td>\n",
              "      <td>NaN</td>\n",
              "      <td>NaN</td>\n",
              "      <td>NaN</td>\n",
              "      <td>NaN</td>\n",
              "      <td>NaN</td>\n",
              "      <td>3.61</td>\n",
              "      <td>1.87</td>\n",
              "      <td>NaN</td>\n",
              "      <td>NaN</td>\n",
              "      <td>None</td>\n",
              "      <td>NaN</td>\n",
              "      <td>NaN</td>\n",
              "      <td>NaN</td>\n",
              "      <td>NaN</td>\n",
              "      <td>NaN</td>\n",
              "      <td>NaN</td>\n",
              "      <td>NaN</td>\n",
              "      <td>NaN</td>\n",
              "      <td>NaN</td>\n",
              "      <td>NaN</td>\n",
              "      <td>NaN</td>\n",
              "      <td>NaN</td>\n",
              "      <td>00:30</td>\n",
              "      <td>NaN</td>\n",
              "      <td>NaN</td>\n",
              "      <td>NaN</td>\n",
              "      <td>NaN</td>\n",
              "      <td>NaN</td>\n",
              "      <td>NaN</td>\n",
              "      <td>NaN</td>\n",
              "      <td>NaN</td>\n",
              "      <td>NaN</td>\n",
              "      <td>NaN</td>\n",
              "      <td>NaN</td>\n",
              "      <td>NaN</td>\n",
              "    </tr>\n",
              "    <tr>\n",
              "      <th>1</th>\n",
              "      <td>2020</td>\n",
              "      <td>2020-08-21 00:30:00</td>\n",
              "      <td>USA</td>\n",
              "      <td>USA</td>\n",
              "      <td>USA MLS</td>\n",
              "      <td>None</td>\n",
              "      <td>New England Revolution</td>\n",
              "      <td>Philadelphia Union</td>\n",
              "      <td>0</td>\n",
              "      <td>0</td>\n",
              "      <td>D</td>\n",
              "      <td>-1</td>\n",
              "      <td>-1</td>\n",
              "      <td>None</td>\n",
              "      <td>NaN</td>\n",
              "      <td>NaN</td>\n",
              "      <td>NaN</td>\n",
              "      <td>NaN</td>\n",
              "      <td>NaN</td>\n",
              "      <td>NaN</td>\n",
              "      <td>NaN</td>\n",
              "      <td>NaN</td>\n",
              "      <td>NaN</td>\n",
              "      <td>NaN</td>\n",
              "      <td>NaN</td>\n",
              "      <td>NaN</td>\n",
              "      <td>NaN</td>\n",
              "      <td>NaN</td>\n",
              "      <td>NaN</td>\n",
              "      <td>NaN</td>\n",
              "      <td>NaN</td>\n",
              "      <td>NaN</td>\n",
              "      <td>NaN</td>\n",
              "      <td>NaN</td>\n",
              "      <td>NaN</td>\n",
              "      <td>NaN</td>\n",
              "      <td>NaN</td>\n",
              "      <td>None</td>\n",
              "      <td>NaN</td>\n",
              "      <td>NaN</td>\n",
              "      <td>...</td>\n",
              "      <td>2.30</td>\n",
              "      <td>NaN</td>\n",
              "      <td>NaN</td>\n",
              "      <td>3.15</td>\n",
              "      <td>NaN</td>\n",
              "      <td>NaN</td>\n",
              "      <td>NaN</td>\n",
              "      <td>NaN</td>\n",
              "      <td>NaN</td>\n",
              "      <td>NaN</td>\n",
              "      <td>3.72</td>\n",
              "      <td>2.21</td>\n",
              "      <td>NaN</td>\n",
              "      <td>NaN</td>\n",
              "      <td>None</td>\n",
              "      <td>NaN</td>\n",
              "      <td>NaN</td>\n",
              "      <td>NaN</td>\n",
              "      <td>NaN</td>\n",
              "      <td>NaN</td>\n",
              "      <td>NaN</td>\n",
              "      <td>NaN</td>\n",
              "      <td>NaN</td>\n",
              "      <td>NaN</td>\n",
              "      <td>NaN</td>\n",
              "      <td>NaN</td>\n",
              "      <td>NaN</td>\n",
              "      <td>00:30</td>\n",
              "      <td>NaN</td>\n",
              "      <td>NaN</td>\n",
              "      <td>NaN</td>\n",
              "      <td>NaN</td>\n",
              "      <td>NaN</td>\n",
              "      <td>NaN</td>\n",
              "      <td>NaN</td>\n",
              "      <td>NaN</td>\n",
              "      <td>NaN</td>\n",
              "      <td>NaN</td>\n",
              "      <td>NaN</td>\n",
              "      <td>NaN</td>\n",
              "    </tr>\n",
              "    <tr>\n",
              "      <th>2</th>\n",
              "      <td>2020</td>\n",
              "      <td>2020-08-21 00:00:00</td>\n",
              "      <td>BRA</td>\n",
              "      <td>Brazil</td>\n",
              "      <td>Brazil Serie A</td>\n",
              "      <td>None</td>\n",
              "      <td>Ceara</td>\n",
              "      <td>Vasco</td>\n",
              "      <td>0</td>\n",
              "      <td>3</td>\n",
              "      <td>A</td>\n",
              "      <td>-1</td>\n",
              "      <td>-1</td>\n",
              "      <td>None</td>\n",
              "      <td>NaN</td>\n",
              "      <td>NaN</td>\n",
              "      <td>NaN</td>\n",
              "      <td>NaN</td>\n",
              "      <td>NaN</td>\n",
              "      <td>NaN</td>\n",
              "      <td>NaN</td>\n",
              "      <td>NaN</td>\n",
              "      <td>NaN</td>\n",
              "      <td>NaN</td>\n",
              "      <td>NaN</td>\n",
              "      <td>NaN</td>\n",
              "      <td>NaN</td>\n",
              "      <td>NaN</td>\n",
              "      <td>NaN</td>\n",
              "      <td>NaN</td>\n",
              "      <td>NaN</td>\n",
              "      <td>NaN</td>\n",
              "      <td>NaN</td>\n",
              "      <td>NaN</td>\n",
              "      <td>NaN</td>\n",
              "      <td>NaN</td>\n",
              "      <td>NaN</td>\n",
              "      <td>None</td>\n",
              "      <td>NaN</td>\n",
              "      <td>NaN</td>\n",
              "      <td>...</td>\n",
              "      <td>2.15</td>\n",
              "      <td>NaN</td>\n",
              "      <td>NaN</td>\n",
              "      <td>4.08</td>\n",
              "      <td>NaN</td>\n",
              "      <td>NaN</td>\n",
              "      <td>NaN</td>\n",
              "      <td>NaN</td>\n",
              "      <td>NaN</td>\n",
              "      <td>NaN</td>\n",
              "      <td>3.15</td>\n",
              "      <td>2.07</td>\n",
              "      <td>NaN</td>\n",
              "      <td>NaN</td>\n",
              "      <td>None</td>\n",
              "      <td>NaN</td>\n",
              "      <td>NaN</td>\n",
              "      <td>NaN</td>\n",
              "      <td>NaN</td>\n",
              "      <td>NaN</td>\n",
              "      <td>NaN</td>\n",
              "      <td>NaN</td>\n",
              "      <td>NaN</td>\n",
              "      <td>NaN</td>\n",
              "      <td>NaN</td>\n",
              "      <td>NaN</td>\n",
              "      <td>NaN</td>\n",
              "      <td>00:00</td>\n",
              "      <td>NaN</td>\n",
              "      <td>NaN</td>\n",
              "      <td>NaN</td>\n",
              "      <td>NaN</td>\n",
              "      <td>NaN</td>\n",
              "      <td>NaN</td>\n",
              "      <td>NaN</td>\n",
              "      <td>NaN</td>\n",
              "      <td>NaN</td>\n",
              "      <td>NaN</td>\n",
              "      <td>NaN</td>\n",
              "      <td>NaN</td>\n",
              "    </tr>\n",
              "    <tr>\n",
              "      <th>3</th>\n",
              "      <td>2020</td>\n",
              "      <td>2020-08-21 00:00:00</td>\n",
              "      <td>USA</td>\n",
              "      <td>USA</td>\n",
              "      <td>USA MLS</td>\n",
              "      <td>None</td>\n",
              "      <td>New York Red Bulls</td>\n",
              "      <td>New York City</td>\n",
              "      <td>1</td>\n",
              "      <td>0</td>\n",
              "      <td>H</td>\n",
              "      <td>-1</td>\n",
              "      <td>-1</td>\n",
              "      <td>None</td>\n",
              "      <td>NaN</td>\n",
              "      <td>NaN</td>\n",
              "      <td>NaN</td>\n",
              "      <td>NaN</td>\n",
              "      <td>NaN</td>\n",
              "      <td>NaN</td>\n",
              "      <td>NaN</td>\n",
              "      <td>NaN</td>\n",
              "      <td>NaN</td>\n",
              "      <td>NaN</td>\n",
              "      <td>NaN</td>\n",
              "      <td>NaN</td>\n",
              "      <td>NaN</td>\n",
              "      <td>NaN</td>\n",
              "      <td>NaN</td>\n",
              "      <td>NaN</td>\n",
              "      <td>NaN</td>\n",
              "      <td>NaN</td>\n",
              "      <td>NaN</td>\n",
              "      <td>NaN</td>\n",
              "      <td>NaN</td>\n",
              "      <td>NaN</td>\n",
              "      <td>NaN</td>\n",
              "      <td>None</td>\n",
              "      <td>NaN</td>\n",
              "      <td>NaN</td>\n",
              "      <td>...</td>\n",
              "      <td>2.90</td>\n",
              "      <td>NaN</td>\n",
              "      <td>NaN</td>\n",
              "      <td>2.55</td>\n",
              "      <td>NaN</td>\n",
              "      <td>NaN</td>\n",
              "      <td>NaN</td>\n",
              "      <td>NaN</td>\n",
              "      <td>NaN</td>\n",
              "      <td>NaN</td>\n",
              "      <td>3.64</td>\n",
              "      <td>2.69</td>\n",
              "      <td>NaN</td>\n",
              "      <td>NaN</td>\n",
              "      <td>None</td>\n",
              "      <td>NaN</td>\n",
              "      <td>NaN</td>\n",
              "      <td>NaN</td>\n",
              "      <td>NaN</td>\n",
              "      <td>NaN</td>\n",
              "      <td>NaN</td>\n",
              "      <td>NaN</td>\n",
              "      <td>NaN</td>\n",
              "      <td>NaN</td>\n",
              "      <td>NaN</td>\n",
              "      <td>NaN</td>\n",
              "      <td>NaN</td>\n",
              "      <td>00:00</td>\n",
              "      <td>NaN</td>\n",
              "      <td>NaN</td>\n",
              "      <td>NaN</td>\n",
              "      <td>NaN</td>\n",
              "      <td>NaN</td>\n",
              "      <td>NaN</td>\n",
              "      <td>NaN</td>\n",
              "      <td>NaN</td>\n",
              "      <td>NaN</td>\n",
              "      <td>NaN</td>\n",
              "      <td>NaN</td>\n",
              "      <td>NaN</td>\n",
              "    </tr>\n",
              "    <tr>\n",
              "      <th>4</th>\n",
              "      <td>2020</td>\n",
              "      <td>2020-08-21 00:00:00</td>\n",
              "      <td>BRA</td>\n",
              "      <td>Brazil</td>\n",
              "      <td>Brazil Serie A</td>\n",
              "      <td>None</td>\n",
              "      <td>Sao Paulo</td>\n",
              "      <td>Bahia</td>\n",
              "      <td>1</td>\n",
              "      <td>1</td>\n",
              "      <td>D</td>\n",
              "      <td>-1</td>\n",
              "      <td>-1</td>\n",
              "      <td>None</td>\n",
              "      <td>NaN</td>\n",
              "      <td>NaN</td>\n",
              "      <td>NaN</td>\n",
              "      <td>NaN</td>\n",
              "      <td>NaN</td>\n",
              "      <td>NaN</td>\n",
              "      <td>NaN</td>\n",
              "      <td>NaN</td>\n",
              "      <td>NaN</td>\n",
              "      <td>NaN</td>\n",
              "      <td>NaN</td>\n",
              "      <td>NaN</td>\n",
              "      <td>NaN</td>\n",
              "      <td>NaN</td>\n",
              "      <td>NaN</td>\n",
              "      <td>NaN</td>\n",
              "      <td>NaN</td>\n",
              "      <td>NaN</td>\n",
              "      <td>NaN</td>\n",
              "      <td>NaN</td>\n",
              "      <td>NaN</td>\n",
              "      <td>NaN</td>\n",
              "      <td>NaN</td>\n",
              "      <td>None</td>\n",
              "      <td>NaN</td>\n",
              "      <td>NaN</td>\n",
              "      <td>...</td>\n",
              "      <td>1.87</td>\n",
              "      <td>NaN</td>\n",
              "      <td>NaN</td>\n",
              "      <td>5.22</td>\n",
              "      <td>NaN</td>\n",
              "      <td>NaN</td>\n",
              "      <td>NaN</td>\n",
              "      <td>NaN</td>\n",
              "      <td>NaN</td>\n",
              "      <td>NaN</td>\n",
              "      <td>3.58</td>\n",
              "      <td>1.74</td>\n",
              "      <td>NaN</td>\n",
              "      <td>NaN</td>\n",
              "      <td>None</td>\n",
              "      <td>NaN</td>\n",
              "      <td>NaN</td>\n",
              "      <td>NaN</td>\n",
              "      <td>NaN</td>\n",
              "      <td>NaN</td>\n",
              "      <td>NaN</td>\n",
              "      <td>NaN</td>\n",
              "      <td>NaN</td>\n",
              "      <td>NaN</td>\n",
              "      <td>NaN</td>\n",
              "      <td>NaN</td>\n",
              "      <td>NaN</td>\n",
              "      <td>00:00</td>\n",
              "      <td>NaN</td>\n",
              "      <td>NaN</td>\n",
              "      <td>NaN</td>\n",
              "      <td>NaN</td>\n",
              "      <td>NaN</td>\n",
              "      <td>NaN</td>\n",
              "      <td>NaN</td>\n",
              "      <td>NaN</td>\n",
              "      <td>NaN</td>\n",
              "      <td>NaN</td>\n",
              "      <td>NaN</td>\n",
              "      <td>NaN</td>\n",
              "    </tr>\n",
              "  </tbody>\n",
              "</table>\n",
              "<p>5 rows × 172 columns</p>\n",
              "</div>"
            ],
            "text/plain": [
              "  Season             Datetime  Div Country  ... WHCD WHCH WHD WHH\n",
              "0   2020  2020-08-21 00:30:00  USA     USA  ...  NaN  NaN NaN NaN\n",
              "1   2020  2020-08-21 00:30:00  USA     USA  ...  NaN  NaN NaN NaN\n",
              "2   2020  2020-08-21 00:00:00  BRA  Brazil  ...  NaN  NaN NaN NaN\n",
              "3   2020  2020-08-21 00:00:00  USA     USA  ...  NaN  NaN NaN NaN\n",
              "4   2020  2020-08-21 00:00:00  BRA  Brazil  ...  NaN  NaN NaN NaN\n",
              "\n",
              "[5 rows x 172 columns]"
            ]
          },
          "metadata": {
            "tags": []
          },
          "execution_count": 11
        }
      ]
    },
    {
      "cell_type": "markdown",
      "metadata": {
        "id": "RM-JJ5l3lUEs"
      },
      "source": [
        "Selecionando as colunas mais relevantes, e excluindo algumas colunas que não serão usadas no projeto\n",
        "\n",
        "> Colunas selecionadas de Informações da Partida: 'Season', 'Country', 'League', 'Div', 'Datetime', 'HomeTeam', 'AwayTeam', 'FTHG', 'FTAG', 'FTR', 'HTHG', 'HTAG', 'HTR'\n",
        "\n",
        "> Colunas selecionadas de Estatísticas da Partida: 'Attendance', 'Referee', 'HS', 'AS', 'HST', 'AST', 'HHW', 'AHW', 'HC', 'AC', 'HF', 'AF', 'HFKC', 'AKFC', 'HO', 'AO', 'HY', 'AY', 'HR', 'AR', 'HBP', 'ABP'\n",
        "\n",
        "> Dados de probabilidades de apostas - Multiplicadores(\"Match Odds\"): 'AvgH', 'AvgD', 'AvgA', 'Avg>2.5', 'Avg<2.5' </br> (como existem muitas casas de apostas diferentes, com valores que variam pouco entre elaas, e o foco não é analisar as odd's em si, vamos utilizar as colunas com as médias)\n",
        "\n",
        "obs: Assim reduzimos de 175 para 42 colunas"
      ]
    },
    {
      "cell_type": "code",
      "metadata": {
        "id": "AZR1HxN5X1sU"
      },
      "source": [
        "#Selecionando as colunas mais relevantes, e excluindo algumas colunas que não serão usadas no projeto\n",
        "#Match information columns select:'Season', 'Country', 'League', 'Div', 'Datetime', 'HomeTeam', 'AwayTeam', 'FTHG', 'FTAG', 'FTR', 'HTHG', 'HTAG', 'HTR'\n",
        "#Match statistics columns select: 'Attendance', 'Referee', 'HS', 'AS', 'HST', 'AST', 'HHW', 'AHW', 'HC', 'AC', 'HF', 'AF', 'HFKC', 'AKFC', 'HO', 'AO', 'HY', 'AY', 'HR', 'AR', 'HBP', 'ABP'\n",
        "#Match Odds betting odds data: 'AvgH', 'AvgD', 'AvgA', 'Avg>2.5', 'Avg<2.5' (como existem muitas casas de apostas diferentes, com valores que variam\n",
        "#                                                                                                pouco, e o foco não é analisar as odd's em si, vamos utilizar as médias)\n",
        "#Assim reduzimos de 175 para 42 colunas\n",
        "soccer_data = full_soccer_data[['Season', 'Country', 'League',\n",
        "                           'Div', 'Datetime', 'HomeTeam', 'AwayTeam', 'FTHG', 'FTAG', 'FTR', 'HTHG', 'HTAG', 'HTR',\n",
        "                           'Attendance', 'Referee', 'HS', 'AS', 'HST', 'AST', 'HHW', 'AHW', 'HC', 'AC', 'HF', 'AF', 'HFKC', 'AFKC', 'HO', 'AO', 'HY', 'AY', 'HR', 'AR', 'HBP', 'ABP',\n",
        "                           'AvgH', 'AvgD', 'AvgA', 'Avg>2.5', 'Avg<2.5']].copy()"
      ],
      "execution_count": 12,
      "outputs": []
    },
    {
      "cell_type": "code",
      "metadata": {
        "id": "xJ7OeZF31H4a",
        "outputId": "b8ca6b2d-17af-45ec-9d08-15a55d09894d",
        "colab": {
          "base_uri": "https://localhost:8080/",
          "height": 0
        }
      },
      "source": [
        "soccer_data.dtypes"
      ],
      "execution_count": 13,
      "outputs": [
        {
          "output_type": "execute_result",
          "data": {
            "text/plain": [
              "Season         object\n",
              "Country        object\n",
              "League         object\n",
              "Div            object\n",
              "Datetime       object\n",
              "HomeTeam       object\n",
              "AwayTeam       object\n",
              "FTHG            int64\n",
              "FTAG            int64\n",
              "FTR            object\n",
              "HTHG            int64\n",
              "HTAG            int64\n",
              "HTR            object\n",
              "Attendance    float64\n",
              "Referee        object\n",
              "HS            float64\n",
              "AS            float64\n",
              "HST           float64\n",
              "AST           float64\n",
              "HHW           float64\n",
              "AHW           float64\n",
              "HC            float64\n",
              "AC            float64\n",
              "HF            float64\n",
              "AF            float64\n",
              "HFKC          float64\n",
              "AFKC          float64\n",
              "HO            float64\n",
              "AO            float64\n",
              "HY            float64\n",
              "AY            float64\n",
              "HR            float64\n",
              "AR            float64\n",
              "HBP           float64\n",
              "ABP           float64\n",
              "AvgH          float64\n",
              "AvgD          float64\n",
              "AvgA          float64\n",
              "Avg>2.5       float64\n",
              "Avg<2.5       float64\n",
              "dtype: object"
            ]
          },
          "metadata": {
            "tags": []
          },
          "execution_count": 13
        }
      ]
    },
    {
      "cell_type": "code",
      "metadata": {
        "id": "fvoQeDTO1XFx"
      },
      "source": [
        "#ajustando tipos dos dados\n",
        "\n",
        "soccer_data['Country'] = soccer_data['Country'].astype('category')\n",
        "soccer_data['League'] = soccer_data['League'].astype('category')\n",
        "soccer_data['Div'] = soccer_data['Div'].astype('category')\n",
        "soccer_data['Datetime'] = soccer_data['Datetime'].astype('datetime64[ns]') \n",
        "soccer_data['HomeTeam'] = soccer_data['HomeTeam'].astype('category')\n",
        "soccer_data['AwayTeam'] = soccer_data['AwayTeam'].astype('category')\n",
        "soccer_data['FTR'] = soccer_data['FTR'].astype('category')\n",
        "soccer_data['HTR'] = soccer_data['HTR'].astype('category')\n",
        "soccer_data['Referee'] = soccer_data['Referee'].astype('category')"
      ],
      "execution_count": 14,
      "outputs": []
    },
    {
      "cell_type": "code",
      "metadata": {
        "id": "PLEqkEzlLwDe",
        "outputId": "287100f4-7e6a-4ad4-bc50-40252c1e3036",
        "colab": {
          "base_uri": "https://localhost:8080/",
          "height": 0
        }
      },
      "source": [
        "soccer_data['Season'].unique()"
      ],
      "execution_count": 15,
      "outputs": [
        {
          "output_type": "execute_result",
          "data": {
            "text/plain": [
              "array(['2020', '2020/2021', '2019/2020', '2019', '2018/2019', '2018',\n",
              "       '2017/2018', '2017', '2016/2017', '2016', '2015/2016', '2015',\n",
              "       '2014/2015', '2013/2014', '2014', '2013', '2012/2013', '2012',\n",
              "       '2011/2012', '2010/2011', '2009/2010', '2008/2009', '2007/2008',\n",
              "       '2006/2007', '2005/2006', '2004/2005', '2003/2004', '2002/2003',\n",
              "       '2001/2002', '2000/2001'], dtype=object)"
            ]
          },
          "metadata": {
            "tags": []
          },
          "execution_count": 15
        }
      ]
    },
    {
      "cell_type": "markdown",
      "metadata": {
        "id": "sVqBx4IQL8CQ"
      },
      "source": [
        "As temporadas de alguns campeonatos (Principalmente europeus) começam num ano e terminam no ano seguinte; Para analisar melhor (e transformar a coluna season em dados categóricos), vamos reescrever utilizando apenas o ano em que a temporada se inicia; Ou seja, sempre que tivermos a temporada \"2020\", saberemos que se refere a 2020/2021, ou se tivermos \"2019\", saberemos que se refere a temporada \"2019/2020\" e assim por diante\n"
      ]
    },
    {
      "cell_type": "code",
      "metadata": {
        "id": "MxzW6cokNPkv",
        "outputId": "407ef6c3-366c-482b-a401-598ac6d7b3f2",
        "colab": {
          "base_uri": "https://localhost:8080/",
          "height": 0
        }
      },
      "source": [
        "soccer_data['Season'] = soccer_data['Season'].str.split('/').str[0]\n",
        "soccer_data['Season'] = pd.to_datetime(soccer_data['Season'], format='%Y') \n",
        "#TIRAR DUVIDA SE SERIA MELHOR TRATAR ISSO COMO CATEGORY\n",
        "\n",
        "print(soccer_data['Season'].unique())\n",
        "#datetime"
      ],
      "execution_count": 16,
      "outputs": [
        {
          "output_type": "stream",
          "text": [
            "['2020-01-01T00:00:00.000000000' '2019-01-01T00:00:00.000000000'\n",
            " '2018-01-01T00:00:00.000000000' '2017-01-01T00:00:00.000000000'\n",
            " '2016-01-01T00:00:00.000000000' '2015-01-01T00:00:00.000000000'\n",
            " '2014-01-01T00:00:00.000000000' '2013-01-01T00:00:00.000000000'\n",
            " '2012-01-01T00:00:00.000000000' '2011-01-01T00:00:00.000000000'\n",
            " '2010-01-01T00:00:00.000000000' '2009-01-01T00:00:00.000000000'\n",
            " '2008-01-01T00:00:00.000000000' '2007-01-01T00:00:00.000000000'\n",
            " '2006-01-01T00:00:00.000000000' '2005-01-01T00:00:00.000000000'\n",
            " '2004-01-01T00:00:00.000000000' '2003-01-01T00:00:00.000000000'\n",
            " '2002-01-01T00:00:00.000000000' '2001-01-01T00:00:00.000000000'\n",
            " '2000-01-01T00:00:00.000000000']\n"
          ],
          "name": "stdout"
        }
      ]
    },
    {
      "cell_type": "code",
      "metadata": {
        "id": "_P51u5U32_3J",
        "outputId": "cc42e129-3d40-47a0-cb87-a8c1df687200",
        "colab": {
          "base_uri": "https://localhost:8080/",
          "height": 0
        }
      },
      "source": [
        "soccer_data.dtypes"
      ],
      "execution_count": 17,
      "outputs": [
        {
          "output_type": "execute_result",
          "data": {
            "text/plain": [
              "Season        datetime64[ns]\n",
              "Country             category\n",
              "League              category\n",
              "Div                 category\n",
              "Datetime      datetime64[ns]\n",
              "HomeTeam            category\n",
              "AwayTeam            category\n",
              "FTHG                   int64\n",
              "FTAG                   int64\n",
              "FTR                 category\n",
              "HTHG                   int64\n",
              "HTAG                   int64\n",
              "HTR                 category\n",
              "Attendance           float64\n",
              "Referee             category\n",
              "HS                   float64\n",
              "AS                   float64\n",
              "HST                  float64\n",
              "AST                  float64\n",
              "HHW                  float64\n",
              "AHW                  float64\n",
              "HC                   float64\n",
              "AC                   float64\n",
              "HF                   float64\n",
              "AF                   float64\n",
              "HFKC                 float64\n",
              "AFKC                 float64\n",
              "HO                   float64\n",
              "AO                   float64\n",
              "HY                   float64\n",
              "AY                   float64\n",
              "HR                   float64\n",
              "AR                   float64\n",
              "HBP                  float64\n",
              "ABP                  float64\n",
              "AvgH                 float64\n",
              "AvgD                 float64\n",
              "AvgA                 float64\n",
              "Avg>2.5              float64\n",
              "Avg<2.5              float64\n",
              "dtype: object"
            ]
          },
          "metadata": {
            "tags": []
          },
          "execution_count": 17
        }
      ]
    },
    {
      "cell_type": "code",
      "metadata": {
        "id": "nppNVCFif1MD",
        "outputId": "955dca37-d96e-4244-a0ff-031dfe4804db",
        "colab": {
          "base_uri": "https://localhost:8080/",
          "height": 0
        }
      },
      "source": [
        "soccer_data.head()"
      ],
      "execution_count": 18,
      "outputs": [
        {
          "output_type": "execute_result",
          "data": {
            "text/html": [
              "<div>\n",
              "<style scoped>\n",
              "    .dataframe tbody tr th:only-of-type {\n",
              "        vertical-align: middle;\n",
              "    }\n",
              "\n",
              "    .dataframe tbody tr th {\n",
              "        vertical-align: top;\n",
              "    }\n",
              "\n",
              "    .dataframe thead th {\n",
              "        text-align: right;\n",
              "    }\n",
              "</style>\n",
              "<table border=\"1\" class=\"dataframe\">\n",
              "  <thead>\n",
              "    <tr style=\"text-align: right;\">\n",
              "      <th></th>\n",
              "      <th>Season</th>\n",
              "      <th>Country</th>\n",
              "      <th>League</th>\n",
              "      <th>Div</th>\n",
              "      <th>Datetime</th>\n",
              "      <th>HomeTeam</th>\n",
              "      <th>AwayTeam</th>\n",
              "      <th>FTHG</th>\n",
              "      <th>FTAG</th>\n",
              "      <th>FTR</th>\n",
              "      <th>HTHG</th>\n",
              "      <th>HTAG</th>\n",
              "      <th>HTR</th>\n",
              "      <th>Attendance</th>\n",
              "      <th>Referee</th>\n",
              "      <th>HS</th>\n",
              "      <th>AS</th>\n",
              "      <th>HST</th>\n",
              "      <th>AST</th>\n",
              "      <th>HHW</th>\n",
              "      <th>AHW</th>\n",
              "      <th>HC</th>\n",
              "      <th>AC</th>\n",
              "      <th>HF</th>\n",
              "      <th>AF</th>\n",
              "      <th>HFKC</th>\n",
              "      <th>AFKC</th>\n",
              "      <th>HO</th>\n",
              "      <th>AO</th>\n",
              "      <th>HY</th>\n",
              "      <th>AY</th>\n",
              "      <th>HR</th>\n",
              "      <th>AR</th>\n",
              "      <th>HBP</th>\n",
              "      <th>ABP</th>\n",
              "      <th>AvgH</th>\n",
              "      <th>AvgD</th>\n",
              "      <th>AvgA</th>\n",
              "      <th>Avg&gt;2.5</th>\n",
              "      <th>Avg&lt;2.5</th>\n",
              "    </tr>\n",
              "  </thead>\n",
              "  <tbody>\n",
              "    <tr>\n",
              "      <th>0</th>\n",
              "      <td>2020-01-01</td>\n",
              "      <td>USA</td>\n",
              "      <td>USA MLS</td>\n",
              "      <td>USA</td>\n",
              "      <td>2020-08-21 00:30:00</td>\n",
              "      <td>Columbus Crew</td>\n",
              "      <td>Chicago Fire</td>\n",
              "      <td>3</td>\n",
              "      <td>0</td>\n",
              "      <td>H</td>\n",
              "      <td>-1</td>\n",
              "      <td>-1</td>\n",
              "      <td>NaN</td>\n",
              "      <td>NaN</td>\n",
              "      <td>NaN</td>\n",
              "      <td>NaN</td>\n",
              "      <td>NaN</td>\n",
              "      <td>NaN</td>\n",
              "      <td>NaN</td>\n",
              "      <td>NaN</td>\n",
              "      <td>NaN</td>\n",
              "      <td>NaN</td>\n",
              "      <td>NaN</td>\n",
              "      <td>NaN</td>\n",
              "      <td>NaN</td>\n",
              "      <td>NaN</td>\n",
              "      <td>NaN</td>\n",
              "      <td>NaN</td>\n",
              "      <td>NaN</td>\n",
              "      <td>NaN</td>\n",
              "      <td>NaN</td>\n",
              "      <td>NaN</td>\n",
              "      <td>NaN</td>\n",
              "      <td>NaN</td>\n",
              "      <td>NaN</td>\n",
              "      <td>1.81</td>\n",
              "      <td>3.62</td>\n",
              "      <td>4.34</td>\n",
              "      <td>NaN</td>\n",
              "      <td>NaN</td>\n",
              "    </tr>\n",
              "    <tr>\n",
              "      <th>1</th>\n",
              "      <td>2020-01-01</td>\n",
              "      <td>USA</td>\n",
              "      <td>USA MLS</td>\n",
              "      <td>USA</td>\n",
              "      <td>2020-08-21 00:30:00</td>\n",
              "      <td>New England Revolution</td>\n",
              "      <td>Philadelphia Union</td>\n",
              "      <td>0</td>\n",
              "      <td>0</td>\n",
              "      <td>D</td>\n",
              "      <td>-1</td>\n",
              "      <td>-1</td>\n",
              "      <td>NaN</td>\n",
              "      <td>NaN</td>\n",
              "      <td>NaN</td>\n",
              "      <td>NaN</td>\n",
              "      <td>NaN</td>\n",
              "      <td>NaN</td>\n",
              "      <td>NaN</td>\n",
              "      <td>NaN</td>\n",
              "      <td>NaN</td>\n",
              "      <td>NaN</td>\n",
              "      <td>NaN</td>\n",
              "      <td>NaN</td>\n",
              "      <td>NaN</td>\n",
              "      <td>NaN</td>\n",
              "      <td>NaN</td>\n",
              "      <td>NaN</td>\n",
              "      <td>NaN</td>\n",
              "      <td>NaN</td>\n",
              "      <td>NaN</td>\n",
              "      <td>NaN</td>\n",
              "      <td>NaN</td>\n",
              "      <td>NaN</td>\n",
              "      <td>NaN</td>\n",
              "      <td>2.18</td>\n",
              "      <td>3.62</td>\n",
              "      <td>3.07</td>\n",
              "      <td>NaN</td>\n",
              "      <td>NaN</td>\n",
              "    </tr>\n",
              "    <tr>\n",
              "      <th>2</th>\n",
              "      <td>2020-01-01</td>\n",
              "      <td>Brazil</td>\n",
              "      <td>Brazil Serie A</td>\n",
              "      <td>BRA</td>\n",
              "      <td>2020-08-21 00:00:00</td>\n",
              "      <td>Ceara</td>\n",
              "      <td>Vasco</td>\n",
              "      <td>0</td>\n",
              "      <td>3</td>\n",
              "      <td>A</td>\n",
              "      <td>-1</td>\n",
              "      <td>-1</td>\n",
              "      <td>NaN</td>\n",
              "      <td>NaN</td>\n",
              "      <td>NaN</td>\n",
              "      <td>NaN</td>\n",
              "      <td>NaN</td>\n",
              "      <td>NaN</td>\n",
              "      <td>NaN</td>\n",
              "      <td>NaN</td>\n",
              "      <td>NaN</td>\n",
              "      <td>NaN</td>\n",
              "      <td>NaN</td>\n",
              "      <td>NaN</td>\n",
              "      <td>NaN</td>\n",
              "      <td>NaN</td>\n",
              "      <td>NaN</td>\n",
              "      <td>NaN</td>\n",
              "      <td>NaN</td>\n",
              "      <td>NaN</td>\n",
              "      <td>NaN</td>\n",
              "      <td>NaN</td>\n",
              "      <td>NaN</td>\n",
              "      <td>NaN</td>\n",
              "      <td>NaN</td>\n",
              "      <td>2.07</td>\n",
              "      <td>3.07</td>\n",
              "      <td>3.92</td>\n",
              "      <td>NaN</td>\n",
              "      <td>NaN</td>\n",
              "    </tr>\n",
              "    <tr>\n",
              "      <th>3</th>\n",
              "      <td>2020-01-01</td>\n",
              "      <td>USA</td>\n",
              "      <td>USA MLS</td>\n",
              "      <td>USA</td>\n",
              "      <td>2020-08-21 00:00:00</td>\n",
              "      <td>New York Red Bulls</td>\n",
              "      <td>New York City</td>\n",
              "      <td>1</td>\n",
              "      <td>0</td>\n",
              "      <td>H</td>\n",
              "      <td>-1</td>\n",
              "      <td>-1</td>\n",
              "      <td>NaN</td>\n",
              "      <td>NaN</td>\n",
              "      <td>NaN</td>\n",
              "      <td>NaN</td>\n",
              "      <td>NaN</td>\n",
              "      <td>NaN</td>\n",
              "      <td>NaN</td>\n",
              "      <td>NaN</td>\n",
              "      <td>NaN</td>\n",
              "      <td>NaN</td>\n",
              "      <td>NaN</td>\n",
              "      <td>NaN</td>\n",
              "      <td>NaN</td>\n",
              "      <td>NaN</td>\n",
              "      <td>NaN</td>\n",
              "      <td>NaN</td>\n",
              "      <td>NaN</td>\n",
              "      <td>NaN</td>\n",
              "      <td>NaN</td>\n",
              "      <td>NaN</td>\n",
              "      <td>NaN</td>\n",
              "      <td>NaN</td>\n",
              "      <td>NaN</td>\n",
              "      <td>2.65</td>\n",
              "      <td>3.53</td>\n",
              "      <td>2.49</td>\n",
              "      <td>NaN</td>\n",
              "      <td>NaN</td>\n",
              "    </tr>\n",
              "    <tr>\n",
              "      <th>4</th>\n",
              "      <td>2020-01-01</td>\n",
              "      <td>Brazil</td>\n",
              "      <td>Brazil Serie A</td>\n",
              "      <td>BRA</td>\n",
              "      <td>2020-08-21 00:00:00</td>\n",
              "      <td>Sao Paulo</td>\n",
              "      <td>Bahia</td>\n",
              "      <td>1</td>\n",
              "      <td>1</td>\n",
              "      <td>D</td>\n",
              "      <td>-1</td>\n",
              "      <td>-1</td>\n",
              "      <td>NaN</td>\n",
              "      <td>NaN</td>\n",
              "      <td>NaN</td>\n",
              "      <td>NaN</td>\n",
              "      <td>NaN</td>\n",
              "      <td>NaN</td>\n",
              "      <td>NaN</td>\n",
              "      <td>NaN</td>\n",
              "      <td>NaN</td>\n",
              "      <td>NaN</td>\n",
              "      <td>NaN</td>\n",
              "      <td>NaN</td>\n",
              "      <td>NaN</td>\n",
              "      <td>NaN</td>\n",
              "      <td>NaN</td>\n",
              "      <td>NaN</td>\n",
              "      <td>NaN</td>\n",
              "      <td>NaN</td>\n",
              "      <td>NaN</td>\n",
              "      <td>NaN</td>\n",
              "      <td>NaN</td>\n",
              "      <td>NaN</td>\n",
              "      <td>NaN</td>\n",
              "      <td>1.74</td>\n",
              "      <td>3.41</td>\n",
              "      <td>5.13</td>\n",
              "      <td>NaN</td>\n",
              "      <td>NaN</td>\n",
              "    </tr>\n",
              "  </tbody>\n",
              "</table>\n",
              "</div>"
            ],
            "text/plain": [
              "      Season Country          League  Div  ...  AvgD  AvgA Avg>2.5  Avg<2.5\n",
              "0 2020-01-01     USA         USA MLS  USA  ...  3.62  4.34     NaN      NaN\n",
              "1 2020-01-01     USA         USA MLS  USA  ...  3.62  3.07     NaN      NaN\n",
              "2 2020-01-01  Brazil  Brazil Serie A  BRA  ...  3.07  3.92     NaN      NaN\n",
              "3 2020-01-01     USA         USA MLS  USA  ...  3.53  2.49     NaN      NaN\n",
              "4 2020-01-01  Brazil  Brazil Serie A  BRA  ...  3.41  5.13     NaN      NaN\n",
              "\n",
              "[5 rows x 40 columns]"
            ]
          },
          "metadata": {
            "tags": []
          },
          "execution_count": 18
        }
      ]
    },
    {
      "cell_type": "markdown",
      "metadata": {
        "id": "E8-3Es3m3h0z"
      },
      "source": [
        "# Remover instâncias"
      ]
    },
    {
      "cell_type": "code",
      "metadata": {
        "id": "rVWnuk1K3dmo",
        "outputId": "6abcc090-a6dc-445b-baf6-9a49c39b0b9d",
        "colab": {
          "base_uri": "https://localhost:8080/",
          "height": 0
        }
      },
      "source": [
        "soccer_data.shape"
      ],
      "execution_count": 19,
      "outputs": [
        {
          "output_type": "execute_result",
          "data": {
            "text/plain": [
              "(179807, 40)"
            ]
          },
          "metadata": {
            "tags": []
          },
          "execution_count": 19
        }
      ]
    },
    {
      "cell_type": "code",
      "metadata": {
        "id": "l239kFrz3rps",
        "outputId": "f65eb9ab-c23a-493e-8ad2-a7655a9e31bf",
        "colab": {
          "base_uri": "https://localhost:8080/",
          "height": 0
        }
      },
      "source": [
        "(soccer_data.isnull().sum())"
      ],
      "execution_count": 20,
      "outputs": [
        {
          "output_type": "execute_result",
          "data": {
            "text/plain": [
              "Season             0\n",
              "Country            0\n",
              "League             0\n",
              "Div                0\n",
              "Datetime           0\n",
              "HomeTeam           0\n",
              "AwayTeam           0\n",
              "FTHG               0\n",
              "FTAG               0\n",
              "FTR                0\n",
              "HTHG               0\n",
              "HTAG               0\n",
              "HTR            34410\n",
              "Attendance    172991\n",
              "Referee       126070\n",
              "HS             95647\n",
              "AS             95644\n",
              "HST            96453\n",
              "AST            96450\n",
              "HHW           173152\n",
              "AHW           173152\n",
              "HC             96019\n",
              "AC             96019\n",
              "HF             97741\n",
              "AF             97741\n",
              "HFKC          178473\n",
              "AFKC          178473\n",
              "HO            173151\n",
              "AO            173151\n",
              "HY             93348\n",
              "AY             93347\n",
              "HR             93347\n",
              "AR             93349\n",
              "HBP           172980\n",
              "ABP           172980\n",
              "AvgH          138538\n",
              "AvgD          138538\n",
              "AvgA          138538\n",
              "Avg>2.5       172875\n",
              "Avg<2.5       172875\n",
              "dtype: int64"
            ]
          },
          "metadata": {
            "tags": []
          },
          "execution_count": 20
        }
      ]
    },
    {
      "cell_type": "markdown",
      "metadata": {
        "id": "lkjWHzfFp4Tr"
      },
      "source": [
        "Caso removessemos as instancias com ao menos 1 dado vazio, removeriamos todas as linhas do dataset"
      ]
    },
    {
      "cell_type": "code",
      "metadata": {
        "id": "Tx_QE9fzX0_8",
        "outputId": "c1a859b0-c60b-45af-ed76-122289708133",
        "colab": {
          "base_uri": "https://localhost:8080/",
          "height": 0
        }
      },
      "source": [
        "#O que aconteceria se removessemos instâncias com ao menos 1 coluna com dado ausente\n",
        "print(len(soccer_data))\n",
        "soccer_data1 = soccer_data.dropna()\n",
        "soccer_data1.head()\n",
        "print(len(soccer_data1))"
      ],
      "execution_count": 21,
      "outputs": [
        {
          "output_type": "stream",
          "text": [
            "179807\n",
            "0\n"
          ],
          "name": "stdout"
        }
      ]
    },
    {
      "cell_type": "markdown",
      "metadata": {
        "id": "pkJZ4OvvYunO"
      },
      "source": [
        "Removendo algumas colunas quase vazias"
      ]
    },
    {
      "cell_type": "code",
      "metadata": {
        "id": "uka4eGwmYP3U"
      },
      "source": [
        "#remove colunas com ao menos 70% de dados ausentes\n",
        "soccer_data2 = soccer_data.dropna(thresh=0.3*len(soccer_data), axis=1) # Threshold is defined as 'Require that many non-NA values'."
      ],
      "execution_count": 22,
      "outputs": []
    },
    {
      "cell_type": "code",
      "metadata": {
        "id": "DMgShV_8ZMtz",
        "outputId": "3abdc1a3-8dab-419e-e2fd-eb9249cadb3c",
        "colab": {
          "base_uri": "https://localhost:8080/",
          "height": 0
        }
      },
      "source": [
        "#Colunas excluídas\n",
        "for column in soccer_data.columns:\n",
        "  if column not in soccer_data2.columns:\n",
        "    print(column)"
      ],
      "execution_count": 23,
      "outputs": [
        {
          "output_type": "stream",
          "text": [
            "Attendance\n",
            "Referee\n",
            "HHW\n",
            "AHW\n",
            "HFKC\n",
            "AFKC\n",
            "HO\n",
            "AO\n",
            "HBP\n",
            "ABP\n",
            "AvgH\n",
            "AvgD\n",
            "AvgA\n",
            "Avg>2.5\n",
            "Avg<2.5\n"
          ],
          "name": "stdout"
        }
      ]
    },
    {
      "cell_type": "markdown",
      "metadata": {
        "id": "SxudR2GYtUjk"
      },
      "source": [
        "Colunas excluídas:<br>\n",
        "Referee = Match Referee<br>\n",
        "HHW = Home Team Hit Woodwork<br>\n",
        "AHW = Away Team Hit Woodwork<br>\n",
        "HO = Home Team Offsides<br>\n",
        "AO = Away Team Offsides<br>\n",
        "HBP = Home Team Bookings Points (10 = yellow, 25 = red)<br>\n",
        "ABP = Away Team Bookings Points (10 = yellow, 25 = red)<br>\n",
        "\n",
        "AvgH = Market average home win odds<br>\n",
        "AvgD = Market average draw win odds<br>\n",
        "AvgA = Market average away win odds<br>\n",
        "\n",
        "Avg>2.5 = Market average over 2.5 goals<br>\n",
        "Avg<2.5 = Market average under 2.5 goals<br>\n",
        "\n",
        "AvgAHH = Market average Asian handicap home team odds<br>\n",
        "AvgAHA = Market average Asian handicap away team odds<br>"
      ]
    },
    {
      "cell_type": "markdown",
      "metadata": {
        "id": "mA37w8npKZi0"
      },
      "source": [
        "# Inputando dados ausentes"
      ]
    },
    {
      "cell_type": "markdown",
      "metadata": {
        "id": "bkwXQcJMWAqp"
      },
      "source": [
        "\n",
        "A fazer\n",
        "\n",
        "*   Verificar se os dados mudaram muito após a inputação de dados\n"
      ]
    },
    {
      "cell_type": "markdown",
      "metadata": {
        "id": "o1LkQ8LSKuFb"
      },
      "source": [
        "Nossa ideia seria usar apenas as colunas com as médias das odd's. No entanto, existem muitos valores nulos nelas (AvgH, AvgD, AvgA, Avg>2.5, Avg<2.5, AvgAHH, AvgAHA). Vamos usar uma estratpegia para preencher os dados dessa coluna. Para isso será preciso preencher os valores nulos das colunas AvgH', 'AvgD', 'AvgA', 'Avg>2.5', 'Avg'<'2.5', 'AvgAHH', 'AvgAHA' com as médias das outras colunas com odd's\n",
        "(\"Replacing NaN with row average\")\n"
      ]
    },
    {
      "cell_type": "markdown",
      "metadata": {
        "id": "MGjN7eT2wgu0"
      },
      "source": [
        "\n",
        "----------------------------------------------------\n",
        "\n",
        "\n",
        "1X2 (match) betting odds data:\n",
        "\n",
        "Home Win odds columns: B365H, BSH, BWH, GBH, IWH, LBH, PSH, PH, SOH, SBH, SJH, SYH, VCH, WHH\n",
        "\n",
        "Draw odds columns: 'B365D', 'BSD', 'BWD', 'GBD', 'IWD', 'LBD', 'PSD', 'PD', 'SOD', 'SBD', 'SJD', 'SYD', 'VCD', 'WHD'\n",
        "\n",
        "Away Win odds columns: B365H, BSH, BWH, GBH, IWH, LBH, PSH, PH, SOH, SBH, SJH, SYH, VCH, WHH"
      ]
    },
    {
      "cell_type": "code",
      "metadata": {
        "id": "RehnfTRW36VY",
        "outputId": "0b534606-6d85-4320-b926-2e89a33e2487",
        "colab": {
          "base_uri": "https://localhost:8080/",
          "height": 0
        }
      },
      "source": [
        "#Obtendo as médias das linhas que nós queremos\n",
        "cols_home_win_odds_mean = np.nanmean(full_soccer_data[['B365H', 'BSH', 'BWH', 'GBH', 'IWH', 'LBH', 'PSH', 'PH', 'SOH', 'SBH', 'SJH', 'SYH', 'VCH', 'WHH']], axis=1) #verificar isso: quero pegar a média de cada  LINHA\n",
        "cols_draw_odds_mean = np.nanmean(full_soccer_data[['B365D', 'BSD', 'BWD', 'GBD', 'IWD', 'LBD', 'PSD', 'PD', 'SOD', 'SBD', 'SJD', 'SYD', 'VCD', 'WHD']], axis=1)\n",
        "cols_away_win_odds_mean = np.nanmean(full_soccer_data[['B365A', 'BSA', 'BWA', 'GBA', 'IWA', 'LBA', 'PSA', 'PA', 'SOA', 'SBA', 'SJA', 'SYA', 'VCA', 'WHA']], axis=1)\n",
        "#/\\ correto\n",
        "\n",
        "#Checando quantos valores nulos em cada numpy array com os dados que usaremos para substituir\n",
        "#print(np.count_nonzero(np.isnan(cols_home_win_odds_mean)))\n",
        "#print(np.count_nonzero(np.isnan(cols_draw_odds_mean)))\n",
        "#print(np.count_nonzero(np.isnan(cols_away_win_odds_mean)))\n",
        "\n",
        "#Checando quais indices precisamos substituir\n",
        "inds_H = np.where(np.isnan(full_soccer_data[['AvgH']]))\n",
        "inds_D = np.where(np.isnan(full_soccer_data[['AvgD']]))\n",
        "inds_A = np.where(np.isnan(full_soccer_data[['AvgA']]))\n",
        "\n",
        "#Colcando as médias das colunas nos índices (do dataframe soccer_data). Alinhando os arrays usando take\n",
        "full_AvgH_to_replace = full_soccer_data[['AvgH']].to_numpy()\n",
        "full_AvgH_to_replace[inds_H] = np.take(cols_home_win_odds_mean, inds_H[0])\n",
        "soccer_data[['AvgH']] = full_AvgH_to_replace\n",
        "#----#\n",
        "full_AvgD_to_replace = full_soccer_data[['AvgD']].to_numpy()\n",
        "full_AvgD_to_replace[inds_D] = np.take(cols_draw_odds_mean, inds_D[0])\n",
        "soccer_data[['AvgD']] = full_AvgD_to_replace\n",
        "#----#\n",
        "full_AvgA_to_replace = full_soccer_data[['AvgA']].to_numpy()\n",
        "full_AvgA_to_replace[inds_A] = np.take(cols_away_win_odds_mean, inds_A[0])\n",
        "soccer_data[['AvgA']] = full_AvgA_to_replace\n",
        "\n",
        "print(soccer_data[['AvgH']].isnull().sum())\n",
        "print(soccer_data[['AvgA']].isnull().sum())\n",
        "print(soccer_data[['AvgD']].isnull().sum())"
      ],
      "execution_count": 24,
      "outputs": [
        {
          "output_type": "stream",
          "text": [
            "AvgH    571\n",
            "dtype: int64\n",
            "AvgA    571\n",
            "dtype: int64\n",
            "AvgD    571\n",
            "dtype: int64\n"
          ],
          "name": "stdout"
        }
      ]
    },
    {
      "cell_type": "markdown",
      "metadata": {
        "id": "_NcjBtMRwlAI"
      },
      "source": [
        "\n",
        "----------------------------------------------------\n",
        "\n",
        "'> 2.5' or '< 2.5' (match) betting odds data:\n",
        "\n",
        "'> 2.5' odds columns: BbAv>2.5, GB>2.5, B365>2.5, P>2.5<br>\n",
        "'< 2.5' odds columns: BbAv<2.5, GB<2.5, B365<2.5, P<2.5\n"
      ]
    },
    {
      "cell_type": "code",
      "metadata": {
        "id": "nUbPNqLSwPGA",
        "outputId": "11261156-2efa-4c07-e28a-2c798718016c",
        "colab": {
          "base_uri": "https://localhost:8080/",
          "height": 0
        }
      },
      "source": [
        "#Obtendo as médias das linhas que nós queremos\n",
        "cols_over_goals_odds_mean = np.nanmean(full_soccer_data[['BbAv>2.5', 'GB>2.5', 'B365>2.5', 'P>2.5']], axis=1) #verificar isso: quero pegar a média de cada  LINHA\n",
        "cols_under_goals_odds_mean = np.nanmean(full_soccer_data[['BbAv<2.5', 'GB<2.5', 'B365<2.5', 'P<2.5']], axis=1)\n",
        "\n",
        "#Checando quantos valores nulos em cada numpy array com os dados que usaremos para substituir\n",
        "#print(np.count_nonzero(np.isnan(cols_over_goals_odds_mean)))\n",
        "#print(np.count_nonzero(np.isnan(cols_under_goals_odds_mean)))\n",
        "\n",
        "#Checando quais indices precisamos substituir\n",
        "inds_over_goals = np.where(np.isnan(full_soccer_data[['Avg>2.5']]))\n",
        "inds_under_goals = np.where(np.isnan(full_soccer_data[['Avg<2.5']]))\n",
        "\n",
        "#Colcando as médias das colunas nos índices (do dataframe soccer_data). Alinhando os arrays usando take\n",
        "full_over_goals_to_replace = full_soccer_data[['Avg>2.5']].to_numpy()\n",
        "full_over_goals_to_replace[inds_over_goals] = np.take(cols_over_goals_odds_mean, inds_over_goals[0])\n",
        "soccer_data[['Avg>2.5']] = full_over_goals_to_replace\n",
        "#----#\n",
        "full_under_goals_to_replace = full_soccer_data[['Avg<2.5']].to_numpy()\n",
        "full_under_goals_to_replace[inds_under_goals] = np.take(cols_under_goals_odds_mean, inds_under_goals[0])\n",
        "soccer_data[['Avg<2.5']] = full_under_goals_to_replace\n",
        "\n",
        "\n",
        "print(soccer_data[['Avg>2.5']].isnull().sum())\n",
        "print(soccer_data[['Avg<2.5']].isnull().sum())"
      ],
      "execution_count": 25,
      "outputs": [
        {
          "output_type": "stream",
          "text": [
            "Avg>2.5    51651\n",
            "dtype: int64\n",
            "Avg<2.5    51652\n",
            "dtype: int64\n"
          ],
          "name": "stdout"
        }
      ]
    },
    {
      "cell_type": "code",
      "metadata": {
        "id": "RTA7lwM2Rf0d",
        "outputId": "069efbd2-9cb8-4741-ad26-24be7c1320f2",
        "colab": {
          "base_uri": "https://localhost:8080/",
          "height": 0
        }
      },
      "source": [
        "(soccer_data.isnull().sum())"
      ],
      "execution_count": 26,
      "outputs": [
        {
          "output_type": "execute_result",
          "data": {
            "text/plain": [
              "Season             0\n",
              "Country            0\n",
              "League             0\n",
              "Div                0\n",
              "Datetime           0\n",
              "HomeTeam           0\n",
              "AwayTeam           0\n",
              "FTHG               0\n",
              "FTAG               0\n",
              "FTR                0\n",
              "HTHG               0\n",
              "HTAG               0\n",
              "HTR            34410\n",
              "Attendance    172991\n",
              "Referee       126070\n",
              "HS             95647\n",
              "AS             95644\n",
              "HST            96453\n",
              "AST            96450\n",
              "HHW           173152\n",
              "AHW           173152\n",
              "HC             96019\n",
              "AC             96019\n",
              "HF             97741\n",
              "AF             97741\n",
              "HFKC          178473\n",
              "AFKC          178473\n",
              "HO            173151\n",
              "AO            173151\n",
              "HY             93348\n",
              "AY             93347\n",
              "HR             93347\n",
              "AR             93349\n",
              "HBP           172980\n",
              "ABP           172980\n",
              "AvgH             571\n",
              "AvgD             571\n",
              "AvgA             571\n",
              "Avg>2.5        51651\n",
              "Avg<2.5        51652\n",
              "dtype: int64"
            ]
          },
          "metadata": {
            "tags": []
          },
          "execution_count": 26
        }
      ]
    },
    {
      "cell_type": "code",
      "metadata": {
        "id": "Q_CsnCDby-7E",
        "outputId": "4bd56d7c-92dd-43aa-b7c9-76e6c10a68b2",
        "colab": {
          "base_uri": "https://localhost:8080/",
          "height": 0
        }
      },
      "source": [
        "#remove colunas com ao menos 70% de dados ausentes\n",
        "soccer_data2 = soccer_data.dropna(thresh=0.3*len(soccer_data), axis=1) # Threshold is defined as 'Require that many non-NA values'.\n",
        "#Colunas excluídas\n",
        "for column in soccer_data.columns:\n",
        "  if column not in soccer_data2.columns:\n",
        "    print(column)"
      ],
      "execution_count": 27,
      "outputs": [
        {
          "output_type": "stream",
          "text": [
            "Attendance\n",
            "Referee\n",
            "HHW\n",
            "AHW\n",
            "HFKC\n",
            "AFKC\n",
            "HO\n",
            "AO\n",
            "HBP\n",
            "ABP\n"
          ],
          "name": "stdout"
        }
      ]
    },
    {
      "cell_type": "markdown",
      "metadata": {
        "id": "S4KyACQZzQ9v"
      },
      "source": [
        "**Detcção de outliers e registros duplicados**"
      ]
    },
    {
      "cell_type": "code",
      "metadata": {
        "id": "yBSWyxa7zYE0",
        "outputId": "8f12133d-b7a7-437b-81e1-a97a50fc4aa9",
        "colab": {
          "base_uri": "https://localhost:8080/",
          "height": 0
        }
      },
      "source": [
        "soccer_data2[soccer_data2.duplicated()]"
      ],
      "execution_count": 28,
      "outputs": [
        {
          "output_type": "execute_result",
          "data": {
            "text/html": [
              "<div>\n",
              "<style scoped>\n",
              "    .dataframe tbody tr th:only-of-type {\n",
              "        vertical-align: middle;\n",
              "    }\n",
              "\n",
              "    .dataframe tbody tr th {\n",
              "        vertical-align: top;\n",
              "    }\n",
              "\n",
              "    .dataframe thead th {\n",
              "        text-align: right;\n",
              "    }\n",
              "</style>\n",
              "<table border=\"1\" class=\"dataframe\">\n",
              "  <thead>\n",
              "    <tr style=\"text-align: right;\">\n",
              "      <th></th>\n",
              "      <th>Season</th>\n",
              "      <th>Country</th>\n",
              "      <th>League</th>\n",
              "      <th>Div</th>\n",
              "      <th>Datetime</th>\n",
              "      <th>HomeTeam</th>\n",
              "      <th>AwayTeam</th>\n",
              "      <th>FTHG</th>\n",
              "      <th>FTAG</th>\n",
              "      <th>FTR</th>\n",
              "      <th>HTHG</th>\n",
              "      <th>HTAG</th>\n",
              "      <th>HTR</th>\n",
              "      <th>HS</th>\n",
              "      <th>AS</th>\n",
              "      <th>HST</th>\n",
              "      <th>AST</th>\n",
              "      <th>HC</th>\n",
              "      <th>AC</th>\n",
              "      <th>HF</th>\n",
              "      <th>AF</th>\n",
              "      <th>HY</th>\n",
              "      <th>AY</th>\n",
              "      <th>HR</th>\n",
              "      <th>AR</th>\n",
              "      <th>AvgH</th>\n",
              "      <th>AvgD</th>\n",
              "      <th>AvgA</th>\n",
              "      <th>Avg&gt;2.5</th>\n",
              "      <th>Avg&lt;2.5</th>\n",
              "    </tr>\n",
              "  </thead>\n",
              "  <tbody>\n",
              "    <tr>\n",
              "      <th>175895</th>\n",
              "      <td>2000-01-01</td>\n",
              "      <td>Greece</td>\n",
              "      <td>Greece Ethniki Katigoria</td>\n",
              "      <td>G1</td>\n",
              "      <td>2001-01-21</td>\n",
              "      <td></td>\n",
              "      <td></td>\n",
              "      <td>1</td>\n",
              "      <td>0</td>\n",
              "      <td>H</td>\n",
              "      <td>1</td>\n",
              "      <td>0</td>\n",
              "      <td>H</td>\n",
              "      <td>NaN</td>\n",
              "      <td>NaN</td>\n",
              "      <td>NaN</td>\n",
              "      <td>NaN</td>\n",
              "      <td>NaN</td>\n",
              "      <td>NaN</td>\n",
              "      <td>NaN</td>\n",
              "      <td>NaN</td>\n",
              "      <td>NaN</td>\n",
              "      <td>NaN</td>\n",
              "      <td>NaN</td>\n",
              "      <td>NaN</td>\n",
              "      <td>NaN</td>\n",
              "      <td>NaN</td>\n",
              "      <td>NaN</td>\n",
              "      <td>NaN</td>\n",
              "      <td>NaN</td>\n",
              "    </tr>\n",
              "    <tr>\n",
              "      <th>176178</th>\n",
              "      <td>2000-01-01</td>\n",
              "      <td>Greece</td>\n",
              "      <td>Greece Ethniki Katigoria</td>\n",
              "      <td>G1</td>\n",
              "      <td>2001-01-03</td>\n",
              "      <td></td>\n",
              "      <td></td>\n",
              "      <td>2</td>\n",
              "      <td>1</td>\n",
              "      <td>H</td>\n",
              "      <td>1</td>\n",
              "      <td>0</td>\n",
              "      <td>H</td>\n",
              "      <td>NaN</td>\n",
              "      <td>NaN</td>\n",
              "      <td>NaN</td>\n",
              "      <td>NaN</td>\n",
              "      <td>NaN</td>\n",
              "      <td>NaN</td>\n",
              "      <td>NaN</td>\n",
              "      <td>NaN</td>\n",
              "      <td>NaN</td>\n",
              "      <td>NaN</td>\n",
              "      <td>NaN</td>\n",
              "      <td>NaN</td>\n",
              "      <td>NaN</td>\n",
              "      <td>NaN</td>\n",
              "      <td>NaN</td>\n",
              "      <td>NaN</td>\n",
              "      <td>NaN</td>\n",
              "    </tr>\n",
              "    <tr>\n",
              "      <th>177836</th>\n",
              "      <td>2000-01-01</td>\n",
              "      <td>Greece</td>\n",
              "      <td>Greece Ethniki Katigoria</td>\n",
              "      <td>G1</td>\n",
              "      <td>2000-10-29</td>\n",
              "      <td></td>\n",
              "      <td></td>\n",
              "      <td>0</td>\n",
              "      <td>0</td>\n",
              "      <td>D</td>\n",
              "      <td>0</td>\n",
              "      <td>0</td>\n",
              "      <td>D</td>\n",
              "      <td>NaN</td>\n",
              "      <td>NaN</td>\n",
              "      <td>NaN</td>\n",
              "      <td>NaN</td>\n",
              "      <td>NaN</td>\n",
              "      <td>NaN</td>\n",
              "      <td>NaN</td>\n",
              "      <td>NaN</td>\n",
              "      <td>NaN</td>\n",
              "      <td>NaN</td>\n",
              "      <td>NaN</td>\n",
              "      <td>NaN</td>\n",
              "      <td>NaN</td>\n",
              "      <td>NaN</td>\n",
              "      <td>NaN</td>\n",
              "      <td>NaN</td>\n",
              "      <td>NaN</td>\n",
              "    </tr>\n",
              "    <tr>\n",
              "      <th>178525</th>\n",
              "      <td>2000-01-01</td>\n",
              "      <td>Greece</td>\n",
              "      <td>Greece Ethniki Katigoria</td>\n",
              "      <td>G1</td>\n",
              "      <td>2000-10-01</td>\n",
              "      <td></td>\n",
              "      <td></td>\n",
              "      <td>0</td>\n",
              "      <td>0</td>\n",
              "      <td>D</td>\n",
              "      <td>0</td>\n",
              "      <td>0</td>\n",
              "      <td>D</td>\n",
              "      <td>NaN</td>\n",
              "      <td>NaN</td>\n",
              "      <td>NaN</td>\n",
              "      <td>NaN</td>\n",
              "      <td>NaN</td>\n",
              "      <td>NaN</td>\n",
              "      <td>NaN</td>\n",
              "      <td>NaN</td>\n",
              "      <td>NaN</td>\n",
              "      <td>NaN</td>\n",
              "      <td>NaN</td>\n",
              "      <td>NaN</td>\n",
              "      <td>NaN</td>\n",
              "      <td>NaN</td>\n",
              "      <td>NaN</td>\n",
              "      <td>NaN</td>\n",
              "      <td>NaN</td>\n",
              "    </tr>\n",
              "    <tr>\n",
              "      <th>178686</th>\n",
              "      <td>2000-01-01</td>\n",
              "      <td>Greece</td>\n",
              "      <td>Greece Ethniki Katigoria</td>\n",
              "      <td>G1</td>\n",
              "      <td>2000-09-24</td>\n",
              "      <td></td>\n",
              "      <td></td>\n",
              "      <td>1</td>\n",
              "      <td>0</td>\n",
              "      <td>H</td>\n",
              "      <td>1</td>\n",
              "      <td>0</td>\n",
              "      <td>H</td>\n",
              "      <td>NaN</td>\n",
              "      <td>NaN</td>\n",
              "      <td>NaN</td>\n",
              "      <td>NaN</td>\n",
              "      <td>NaN</td>\n",
              "      <td>NaN</td>\n",
              "      <td>NaN</td>\n",
              "      <td>NaN</td>\n",
              "      <td>NaN</td>\n",
              "      <td>NaN</td>\n",
              "      <td>NaN</td>\n",
              "      <td>NaN</td>\n",
              "      <td>NaN</td>\n",
              "      <td>NaN</td>\n",
              "      <td>NaN</td>\n",
              "      <td>NaN</td>\n",
              "      <td>NaN</td>\n",
              "    </tr>\n",
              "  </tbody>\n",
              "</table>\n",
              "</div>"
            ],
            "text/plain": [
              "           Season Country                    League  ... AvgA Avg>2.5 Avg<2.5\n",
              "175895 2000-01-01  Greece  Greece Ethniki Katigoria  ...  NaN     NaN     NaN\n",
              "176178 2000-01-01  Greece  Greece Ethniki Katigoria  ...  NaN     NaN     NaN\n",
              "177836 2000-01-01  Greece  Greece Ethniki Katigoria  ...  NaN     NaN     NaN\n",
              "178525 2000-01-01  Greece  Greece Ethniki Katigoria  ...  NaN     NaN     NaN\n",
              "178686 2000-01-01  Greece  Greece Ethniki Katigoria  ...  NaN     NaN     NaN\n",
              "\n",
              "[5 rows x 30 columns]"
            ]
          },
          "metadata": {
            "tags": []
          },
          "execution_count": 28
        }
      ]
    },
    {
      "cell_type": "code",
      "metadata": {
        "id": "f7julMQ-Fs4q",
        "outputId": "3769c7d6-72ef-400c-d164-4397636d6ccb",
        "colab": {
          "base_uri": "https://localhost:8080/",
          "height": 0
        }
      },
      "source": [
        "soccer_data2[soccer_data2.duplicated(subset=['Datetime','HomeTeam','AwayTeam','FTHG','FTAG', 'FTR'])]"
      ],
      "execution_count": 29,
      "outputs": [
        {
          "output_type": "execute_result",
          "data": {
            "text/html": [
              "<div>\n",
              "<style scoped>\n",
              "    .dataframe tbody tr th:only-of-type {\n",
              "        vertical-align: middle;\n",
              "    }\n",
              "\n",
              "    .dataframe tbody tr th {\n",
              "        vertical-align: top;\n",
              "    }\n",
              "\n",
              "    .dataframe thead th {\n",
              "        text-align: right;\n",
              "    }\n",
              "</style>\n",
              "<table border=\"1\" class=\"dataframe\">\n",
              "  <thead>\n",
              "    <tr style=\"text-align: right;\">\n",
              "      <th></th>\n",
              "      <th>Season</th>\n",
              "      <th>Country</th>\n",
              "      <th>League</th>\n",
              "      <th>Div</th>\n",
              "      <th>Datetime</th>\n",
              "      <th>HomeTeam</th>\n",
              "      <th>AwayTeam</th>\n",
              "      <th>FTHG</th>\n",
              "      <th>FTAG</th>\n",
              "      <th>FTR</th>\n",
              "      <th>HTHG</th>\n",
              "      <th>HTAG</th>\n",
              "      <th>HTR</th>\n",
              "      <th>HS</th>\n",
              "      <th>AS</th>\n",
              "      <th>HST</th>\n",
              "      <th>AST</th>\n",
              "      <th>HC</th>\n",
              "      <th>AC</th>\n",
              "      <th>HF</th>\n",
              "      <th>AF</th>\n",
              "      <th>HY</th>\n",
              "      <th>AY</th>\n",
              "      <th>HR</th>\n",
              "      <th>AR</th>\n",
              "      <th>AvgH</th>\n",
              "      <th>AvgD</th>\n",
              "      <th>AvgA</th>\n",
              "      <th>Avg&gt;2.5</th>\n",
              "      <th>Avg&lt;2.5</th>\n",
              "    </tr>\n",
              "  </thead>\n",
              "  <tbody>\n",
              "    <tr>\n",
              "      <th>151201</th>\n",
              "      <td>2004-01-01</td>\n",
              "      <td>Greece</td>\n",
              "      <td>Greece Ethniki Katigoria</td>\n",
              "      <td>G1</td>\n",
              "      <td>2005-03-20</td>\n",
              "      <td></td>\n",
              "      <td></td>\n",
              "      <td>2</td>\n",
              "      <td>1</td>\n",
              "      <td>H</td>\n",
              "      <td>1</td>\n",
              "      <td>1</td>\n",
              "      <td>D</td>\n",
              "      <td>NaN</td>\n",
              "      <td>NaN</td>\n",
              "      <td>NaN</td>\n",
              "      <td>NaN</td>\n",
              "      <td>NaN</td>\n",
              "      <td>NaN</td>\n",
              "      <td>NaN</td>\n",
              "      <td>NaN</td>\n",
              "      <td>NaN</td>\n",
              "      <td>NaN</td>\n",
              "      <td>NaN</td>\n",
              "      <td>NaN</td>\n",
              "      <td>1.606667</td>\n",
              "      <td>3.433333</td>\n",
              "      <td>4.855000</td>\n",
              "      <td>1.85</td>\n",
              "      <td>1.79</td>\n",
              "    </tr>\n",
              "    <tr>\n",
              "      <th>151526</th>\n",
              "      <td>2004-01-01</td>\n",
              "      <td>Greece</td>\n",
              "      <td>Greece Ethniki Katigoria</td>\n",
              "      <td>G1</td>\n",
              "      <td>2005-03-06</td>\n",
              "      <td></td>\n",
              "      <td></td>\n",
              "      <td>2</td>\n",
              "      <td>0</td>\n",
              "      <td>H</td>\n",
              "      <td>1</td>\n",
              "      <td>0</td>\n",
              "      <td>H</td>\n",
              "      <td>NaN</td>\n",
              "      <td>NaN</td>\n",
              "      <td>NaN</td>\n",
              "      <td>NaN</td>\n",
              "      <td>NaN</td>\n",
              "      <td>NaN</td>\n",
              "      <td>NaN</td>\n",
              "      <td>NaN</td>\n",
              "      <td>NaN</td>\n",
              "      <td>NaN</td>\n",
              "      <td>NaN</td>\n",
              "      <td>NaN</td>\n",
              "      <td>1.633333</td>\n",
              "      <td>3.266667</td>\n",
              "      <td>4.983333</td>\n",
              "      <td>1.65</td>\n",
              "      <td>2.00</td>\n",
              "    </tr>\n",
              "    <tr>\n",
              "      <th>152762</th>\n",
              "      <td>2004-01-01</td>\n",
              "      <td>Greece</td>\n",
              "      <td>Greece Ethniki Katigoria</td>\n",
              "      <td>G1</td>\n",
              "      <td>2004-12-29</td>\n",
              "      <td></td>\n",
              "      <td></td>\n",
              "      <td>2</td>\n",
              "      <td>1</td>\n",
              "      <td>H</td>\n",
              "      <td>1</td>\n",
              "      <td>1</td>\n",
              "      <td>D</td>\n",
              "      <td>NaN</td>\n",
              "      <td>NaN</td>\n",
              "      <td>NaN</td>\n",
              "      <td>NaN</td>\n",
              "      <td>NaN</td>\n",
              "      <td>NaN</td>\n",
              "      <td>NaN</td>\n",
              "      <td>NaN</td>\n",
              "      <td>NaN</td>\n",
              "      <td>NaN</td>\n",
              "      <td>NaN</td>\n",
              "      <td>NaN</td>\n",
              "      <td>2.141667</td>\n",
              "      <td>3.091667</td>\n",
              "      <td>3.058333</td>\n",
              "      <td>1.83</td>\n",
              "      <td>1.83</td>\n",
              "    </tr>\n",
              "    <tr>\n",
              "      <th>152763</th>\n",
              "      <td>2004-01-01</td>\n",
              "      <td>Greece</td>\n",
              "      <td>Greece Ethniki Katigoria</td>\n",
              "      <td>G1</td>\n",
              "      <td>2004-12-29</td>\n",
              "      <td></td>\n",
              "      <td></td>\n",
              "      <td>2</td>\n",
              "      <td>1</td>\n",
              "      <td>H</td>\n",
              "      <td>0</td>\n",
              "      <td>0</td>\n",
              "      <td>D</td>\n",
              "      <td>NaN</td>\n",
              "      <td>NaN</td>\n",
              "      <td>NaN</td>\n",
              "      <td>NaN</td>\n",
              "      <td>NaN</td>\n",
              "      <td>NaN</td>\n",
              "      <td>NaN</td>\n",
              "      <td>NaN</td>\n",
              "      <td>NaN</td>\n",
              "      <td>NaN</td>\n",
              "      <td>NaN</td>\n",
              "      <td>NaN</td>\n",
              "      <td>1.821667</td>\n",
              "      <td>3.108333</td>\n",
              "      <td>3.983333</td>\n",
              "      <td>1.79</td>\n",
              "      <td>1.85</td>\n",
              "    </tr>\n",
              "    <tr>\n",
              "      <th>152769</th>\n",
              "      <td>2004-01-01</td>\n",
              "      <td>Greece</td>\n",
              "      <td>Greece Ethniki Katigoria</td>\n",
              "      <td>G1</td>\n",
              "      <td>2004-12-29</td>\n",
              "      <td></td>\n",
              "      <td></td>\n",
              "      <td>2</td>\n",
              "      <td>1</td>\n",
              "      <td>H</td>\n",
              "      <td>1</td>\n",
              "      <td>1</td>\n",
              "      <td>D</td>\n",
              "      <td>NaN</td>\n",
              "      <td>NaN</td>\n",
              "      <td>NaN</td>\n",
              "      <td>NaN</td>\n",
              "      <td>NaN</td>\n",
              "      <td>NaN</td>\n",
              "      <td>NaN</td>\n",
              "      <td>NaN</td>\n",
              "      <td>NaN</td>\n",
              "      <td>NaN</td>\n",
              "      <td>NaN</td>\n",
              "      <td>NaN</td>\n",
              "      <td>1.296667</td>\n",
              "      <td>4.213333</td>\n",
              "      <td>9.000000</td>\n",
              "      <td>1.71</td>\n",
              "      <td>1.95</td>\n",
              "    </tr>\n",
              "    <tr>\n",
              "      <th>...</th>\n",
              "      <td>...</td>\n",
              "      <td>...</td>\n",
              "      <td>...</td>\n",
              "      <td>...</td>\n",
              "      <td>...</td>\n",
              "      <td>...</td>\n",
              "      <td>...</td>\n",
              "      <td>...</td>\n",
              "      <td>...</td>\n",
              "      <td>...</td>\n",
              "      <td>...</td>\n",
              "      <td>...</td>\n",
              "      <td>...</td>\n",
              "      <td>...</td>\n",
              "      <td>...</td>\n",
              "      <td>...</td>\n",
              "      <td>...</td>\n",
              "      <td>...</td>\n",
              "      <td>...</td>\n",
              "      <td>...</td>\n",
              "      <td>...</td>\n",
              "      <td>...</td>\n",
              "      <td>...</td>\n",
              "      <td>...</td>\n",
              "      <td>...</td>\n",
              "      <td>...</td>\n",
              "      <td>...</td>\n",
              "      <td>...</td>\n",
              "      <td>...</td>\n",
              "      <td>...</td>\n",
              "    </tr>\n",
              "    <tr>\n",
              "      <th>177836</th>\n",
              "      <td>2000-01-01</td>\n",
              "      <td>Greece</td>\n",
              "      <td>Greece Ethniki Katigoria</td>\n",
              "      <td>G1</td>\n",
              "      <td>2000-10-29</td>\n",
              "      <td></td>\n",
              "      <td></td>\n",
              "      <td>0</td>\n",
              "      <td>0</td>\n",
              "      <td>D</td>\n",
              "      <td>0</td>\n",
              "      <td>0</td>\n",
              "      <td>D</td>\n",
              "      <td>NaN</td>\n",
              "      <td>NaN</td>\n",
              "      <td>NaN</td>\n",
              "      <td>NaN</td>\n",
              "      <td>NaN</td>\n",
              "      <td>NaN</td>\n",
              "      <td>NaN</td>\n",
              "      <td>NaN</td>\n",
              "      <td>NaN</td>\n",
              "      <td>NaN</td>\n",
              "      <td>NaN</td>\n",
              "      <td>NaN</td>\n",
              "      <td>NaN</td>\n",
              "      <td>NaN</td>\n",
              "      <td>NaN</td>\n",
              "      <td>NaN</td>\n",
              "      <td>NaN</td>\n",
              "    </tr>\n",
              "    <tr>\n",
              "      <th>178525</th>\n",
              "      <td>2000-01-01</td>\n",
              "      <td>Greece</td>\n",
              "      <td>Greece Ethniki Katigoria</td>\n",
              "      <td>G1</td>\n",
              "      <td>2000-10-01</td>\n",
              "      <td></td>\n",
              "      <td></td>\n",
              "      <td>0</td>\n",
              "      <td>0</td>\n",
              "      <td>D</td>\n",
              "      <td>0</td>\n",
              "      <td>0</td>\n",
              "      <td>D</td>\n",
              "      <td>NaN</td>\n",
              "      <td>NaN</td>\n",
              "      <td>NaN</td>\n",
              "      <td>NaN</td>\n",
              "      <td>NaN</td>\n",
              "      <td>NaN</td>\n",
              "      <td>NaN</td>\n",
              "      <td>NaN</td>\n",
              "      <td>NaN</td>\n",
              "      <td>NaN</td>\n",
              "      <td>NaN</td>\n",
              "      <td>NaN</td>\n",
              "      <td>NaN</td>\n",
              "      <td>NaN</td>\n",
              "      <td>NaN</td>\n",
              "      <td>NaN</td>\n",
              "      <td>NaN</td>\n",
              "    </tr>\n",
              "    <tr>\n",
              "      <th>178526</th>\n",
              "      <td>2000-01-01</td>\n",
              "      <td>Greece</td>\n",
              "      <td>Greece Ethniki Katigoria</td>\n",
              "      <td>G1</td>\n",
              "      <td>2000-10-01</td>\n",
              "      <td></td>\n",
              "      <td></td>\n",
              "      <td>2</td>\n",
              "      <td>2</td>\n",
              "      <td>D</td>\n",
              "      <td>2</td>\n",
              "      <td>0</td>\n",
              "      <td>H</td>\n",
              "      <td>NaN</td>\n",
              "      <td>NaN</td>\n",
              "      <td>NaN</td>\n",
              "      <td>NaN</td>\n",
              "      <td>NaN</td>\n",
              "      <td>NaN</td>\n",
              "      <td>NaN</td>\n",
              "      <td>NaN</td>\n",
              "      <td>NaN</td>\n",
              "      <td>NaN</td>\n",
              "      <td>NaN</td>\n",
              "      <td>NaN</td>\n",
              "      <td>NaN</td>\n",
              "      <td>NaN</td>\n",
              "      <td>NaN</td>\n",
              "      <td>NaN</td>\n",
              "      <td>NaN</td>\n",
              "    </tr>\n",
              "    <tr>\n",
              "      <th>178686</th>\n",
              "      <td>2000-01-01</td>\n",
              "      <td>Greece</td>\n",
              "      <td>Greece Ethniki Katigoria</td>\n",
              "      <td>G1</td>\n",
              "      <td>2000-09-24</td>\n",
              "      <td></td>\n",
              "      <td></td>\n",
              "      <td>1</td>\n",
              "      <td>0</td>\n",
              "      <td>H</td>\n",
              "      <td>1</td>\n",
              "      <td>0</td>\n",
              "      <td>H</td>\n",
              "      <td>NaN</td>\n",
              "      <td>NaN</td>\n",
              "      <td>NaN</td>\n",
              "      <td>NaN</td>\n",
              "      <td>NaN</td>\n",
              "      <td>NaN</td>\n",
              "      <td>NaN</td>\n",
              "      <td>NaN</td>\n",
              "      <td>NaN</td>\n",
              "      <td>NaN</td>\n",
              "      <td>NaN</td>\n",
              "      <td>NaN</td>\n",
              "      <td>NaN</td>\n",
              "      <td>NaN</td>\n",
              "      <td>NaN</td>\n",
              "      <td>NaN</td>\n",
              "      <td>NaN</td>\n",
              "    </tr>\n",
              "    <tr>\n",
              "      <th>178846</th>\n",
              "      <td>2000-01-01</td>\n",
              "      <td>Greece</td>\n",
              "      <td>Greece Ethniki Katigoria</td>\n",
              "      <td>G1</td>\n",
              "      <td>2000-09-17</td>\n",
              "      <td></td>\n",
              "      <td></td>\n",
              "      <td>1</td>\n",
              "      <td>1</td>\n",
              "      <td>D</td>\n",
              "      <td>1</td>\n",
              "      <td>1</td>\n",
              "      <td>D</td>\n",
              "      <td>NaN</td>\n",
              "      <td>NaN</td>\n",
              "      <td>NaN</td>\n",
              "      <td>NaN</td>\n",
              "      <td>NaN</td>\n",
              "      <td>NaN</td>\n",
              "      <td>NaN</td>\n",
              "      <td>NaN</td>\n",
              "      <td>NaN</td>\n",
              "      <td>NaN</td>\n",
              "      <td>NaN</td>\n",
              "      <td>NaN</td>\n",
              "      <td>NaN</td>\n",
              "      <td>NaN</td>\n",
              "      <td>NaN</td>\n",
              "      <td>NaN</td>\n",
              "      <td>NaN</td>\n",
              "    </tr>\n",
              "  </tbody>\n",
              "</table>\n",
              "<p>141 rows × 30 columns</p>\n",
              "</div>"
            ],
            "text/plain": [
              "           Season Country                    League  ...      AvgA Avg>2.5 Avg<2.5\n",
              "151201 2004-01-01  Greece  Greece Ethniki Katigoria  ...  4.855000    1.85    1.79\n",
              "151526 2004-01-01  Greece  Greece Ethniki Katigoria  ...  4.983333    1.65    2.00\n",
              "152762 2004-01-01  Greece  Greece Ethniki Katigoria  ...  3.058333    1.83    1.83\n",
              "152763 2004-01-01  Greece  Greece Ethniki Katigoria  ...  3.983333    1.79    1.85\n",
              "152769 2004-01-01  Greece  Greece Ethniki Katigoria  ...  9.000000    1.71    1.95\n",
              "...           ...     ...                       ...  ...       ...     ...     ...\n",
              "177836 2000-01-01  Greece  Greece Ethniki Katigoria  ...       NaN     NaN     NaN\n",
              "178525 2000-01-01  Greece  Greece Ethniki Katigoria  ...       NaN     NaN     NaN\n",
              "178526 2000-01-01  Greece  Greece Ethniki Katigoria  ...       NaN     NaN     NaN\n",
              "178686 2000-01-01  Greece  Greece Ethniki Katigoria  ...       NaN     NaN     NaN\n",
              "178846 2000-01-01  Greece  Greece Ethniki Katigoria  ...       NaN     NaN     NaN\n",
              "\n",
              "[141 rows x 30 columns]"
            ]
          },
          "metadata": {
            "tags": []
          },
          "execution_count": 29
        }
      ]
    },
    {
      "cell_type": "code",
      "metadata": {
        "id": "uDk9o0z6Fg9W",
        "outputId": "51920989-540d-4817-8501-738e0c3874b0",
        "colab": {
          "base_uri": "https://localhost:8080/",
          "height": 0
        }
      },
      "source": [
        "len(soccer_data2)"
      ],
      "execution_count": 30,
      "outputs": [
        {
          "output_type": "execute_result",
          "data": {
            "text/plain": [
              "179807"
            ]
          },
          "metadata": {
            "tags": []
          },
          "execution_count": 30
        }
      ]
    },
    {
      "cell_type": "code",
      "metadata": {
        "id": "1cWIFZyqEM5N",
        "outputId": "bd3693c2-8d2a-4ac4-c0ed-ceaffb0724fb",
        "colab": {
          "base_uri": "https://localhost:8080/",
          "height": 0
        }
      },
      "source": [
        "# removendo baseado em um conjunto de atributos\n",
        "soccer_data2.drop_duplicates(subset =['Datetime','HomeTeam', 'AwayTeam', 'FTR'], keep = False, inplace = True)\n",
        "print(len(soccer_data2))\n",
        "print(soccer_data2.head())"
      ],
      "execution_count": 31,
      "outputs": [
        {
          "output_type": "stream",
          "text": [
            "179050\n",
            "      Season Country          League  Div  ...  AvgD  AvgA Avg>2.5  Avg<2.5\n",
            "0 2020-01-01     USA         USA MLS  USA  ...  3.62  4.34     NaN      NaN\n",
            "1 2020-01-01     USA         USA MLS  USA  ...  3.62  3.07     NaN      NaN\n",
            "2 2020-01-01  Brazil  Brazil Serie A  BRA  ...  3.07  3.92     NaN      NaN\n",
            "3 2020-01-01     USA         USA MLS  USA  ...  3.53  2.49     NaN      NaN\n",
            "4 2020-01-01  Brazil  Brazil Serie A  BRA  ...  3.41  5.13     NaN      NaN\n",
            "\n",
            "[5 rows x 30 columns]\n"
          ],
          "name": "stdout"
        }
      ]
    },
    {
      "cell_type": "code",
      "metadata": {
        "id": "VzJ9KQ0TAdfM",
        "outputId": "23731879-8021-4e5f-d809-dcd37c4d6667",
        "colab": {
          "base_uri": "https://localhost:8080/",
          "height": 0
        }
      },
      "source": [
        "#soccer_data2['HomeTeam'].unique()\n",
        "soccer_data2[soccer_data2[['HomeTeam']].apply(lambda x: any(x.values == ''), axis=1)]\n",
        "\n",
        "#Excluir? Nao tem as informações do time mas tem outras estatisticas de gols que podem ser úteis"
      ],
      "execution_count": 32,
      "outputs": [
        {
          "output_type": "execute_result",
          "data": {
            "text/html": [
              "<div>\n",
              "<style scoped>\n",
              "    .dataframe tbody tr th:only-of-type {\n",
              "        vertical-align: middle;\n",
              "    }\n",
              "\n",
              "    .dataframe tbody tr th {\n",
              "        vertical-align: top;\n",
              "    }\n",
              "\n",
              "    .dataframe thead th {\n",
              "        text-align: right;\n",
              "    }\n",
              "</style>\n",
              "<table border=\"1\" class=\"dataframe\">\n",
              "  <thead>\n",
              "    <tr style=\"text-align: right;\">\n",
              "      <th></th>\n",
              "      <th>Season</th>\n",
              "      <th>Country</th>\n",
              "      <th>League</th>\n",
              "      <th>Div</th>\n",
              "      <th>Datetime</th>\n",
              "      <th>HomeTeam</th>\n",
              "      <th>AwayTeam</th>\n",
              "      <th>FTHG</th>\n",
              "      <th>FTAG</th>\n",
              "      <th>FTR</th>\n",
              "      <th>HTHG</th>\n",
              "      <th>HTAG</th>\n",
              "      <th>HTR</th>\n",
              "      <th>HS</th>\n",
              "      <th>AS</th>\n",
              "      <th>HST</th>\n",
              "      <th>AST</th>\n",
              "      <th>HC</th>\n",
              "      <th>AC</th>\n",
              "      <th>HF</th>\n",
              "      <th>AF</th>\n",
              "      <th>HY</th>\n",
              "      <th>AY</th>\n",
              "      <th>HR</th>\n",
              "      <th>AR</th>\n",
              "      <th>AvgH</th>\n",
              "      <th>AvgD</th>\n",
              "      <th>AvgA</th>\n",
              "      <th>Avg&gt;2.5</th>\n",
              "      <th>Avg&lt;2.5</th>\n",
              "    </tr>\n",
              "  </thead>\n",
              "  <tbody>\n",
              "    <tr>\n",
              "      <th>150169</th>\n",
              "      <td>2004-01-01</td>\n",
              "      <td>Greece</td>\n",
              "      <td>Greece Ethniki Katigoria</td>\n",
              "      <td>G1</td>\n",
              "      <td>2005-05-25</td>\n",
              "      <td></td>\n",
              "      <td></td>\n",
              "      <td>2</td>\n",
              "      <td>4</td>\n",
              "      <td>A</td>\n",
              "      <td>1</td>\n",
              "      <td>2</td>\n",
              "      <td>A</td>\n",
              "      <td>NaN</td>\n",
              "      <td>NaN</td>\n",
              "      <td>NaN</td>\n",
              "      <td>NaN</td>\n",
              "      <td>NaN</td>\n",
              "      <td>NaN</td>\n",
              "      <td>NaN</td>\n",
              "      <td>NaN</td>\n",
              "      <td>NaN</td>\n",
              "      <td>NaN</td>\n",
              "      <td>NaN</td>\n",
              "      <td>NaN</td>\n",
              "      <td>1.795000</td>\n",
              "      <td>3.225000</td>\n",
              "      <td>3.887500</td>\n",
              "      <td>1.71</td>\n",
              "      <td>1.95</td>\n",
              "    </tr>\n",
              "    <tr>\n",
              "      <th>150351</th>\n",
              "      <td>2004-01-01</td>\n",
              "      <td>Greece</td>\n",
              "      <td>Greece Ethniki Katigoria</td>\n",
              "      <td>G1</td>\n",
              "      <td>2005-05-08</td>\n",
              "      <td></td>\n",
              "      <td></td>\n",
              "      <td>1</td>\n",
              "      <td>1</td>\n",
              "      <td>D</td>\n",
              "      <td>0</td>\n",
              "      <td>1</td>\n",
              "      <td>A</td>\n",
              "      <td>NaN</td>\n",
              "      <td>NaN</td>\n",
              "      <td>NaN</td>\n",
              "      <td>NaN</td>\n",
              "      <td>NaN</td>\n",
              "      <td>NaN</td>\n",
              "      <td>NaN</td>\n",
              "      <td>NaN</td>\n",
              "      <td>NaN</td>\n",
              "      <td>NaN</td>\n",
              "      <td>NaN</td>\n",
              "      <td>NaN</td>\n",
              "      <td>NaN</td>\n",
              "      <td>NaN</td>\n",
              "      <td>NaN</td>\n",
              "      <td>NaN</td>\n",
              "      <td>NaN</td>\n",
              "    </tr>\n",
              "    <tr>\n",
              "      <th>150608</th>\n",
              "      <td>2004-01-01</td>\n",
              "      <td>Greece</td>\n",
              "      <td>Greece Ethniki Katigoria</td>\n",
              "      <td>G1</td>\n",
              "      <td>2005-04-24</td>\n",
              "      <td></td>\n",
              "      <td></td>\n",
              "      <td>2</td>\n",
              "      <td>3</td>\n",
              "      <td>A</td>\n",
              "      <td>0</td>\n",
              "      <td>0</td>\n",
              "      <td>D</td>\n",
              "      <td>NaN</td>\n",
              "      <td>NaN</td>\n",
              "      <td>NaN</td>\n",
              "      <td>NaN</td>\n",
              "      <td>NaN</td>\n",
              "      <td>NaN</td>\n",
              "      <td>NaN</td>\n",
              "      <td>NaN</td>\n",
              "      <td>NaN</td>\n",
              "      <td>NaN</td>\n",
              "      <td>NaN</td>\n",
              "      <td>NaN</td>\n",
              "      <td>4.108333</td>\n",
              "      <td>3.150000</td>\n",
              "      <td>1.786667</td>\n",
              "      <td>2.10</td>\n",
              "      <td>1.60</td>\n",
              "    </tr>\n",
              "    <tr>\n",
              "      <th>150609</th>\n",
              "      <td>2004-01-01</td>\n",
              "      <td>Greece</td>\n",
              "      <td>Greece Ethniki Katigoria</td>\n",
              "      <td>G1</td>\n",
              "      <td>2005-04-24</td>\n",
              "      <td></td>\n",
              "      <td></td>\n",
              "      <td>1</td>\n",
              "      <td>1</td>\n",
              "      <td>D</td>\n",
              "      <td>1</td>\n",
              "      <td>1</td>\n",
              "      <td>D</td>\n",
              "      <td>NaN</td>\n",
              "      <td>NaN</td>\n",
              "      <td>NaN</td>\n",
              "      <td>NaN</td>\n",
              "      <td>NaN</td>\n",
              "      <td>NaN</td>\n",
              "      <td>NaN</td>\n",
              "      <td>NaN</td>\n",
              "      <td>NaN</td>\n",
              "      <td>NaN</td>\n",
              "      <td>NaN</td>\n",
              "      <td>NaN</td>\n",
              "      <td>1.975000</td>\n",
              "      <td>3.005000</td>\n",
              "      <td>3.550000</td>\n",
              "      <td>2.10</td>\n",
              "      <td>1.60</td>\n",
              "    </tr>\n",
              "    <tr>\n",
              "      <th>150719</th>\n",
              "      <td>2004-01-01</td>\n",
              "      <td>Greece</td>\n",
              "      <td>Greece Ethniki Katigoria</td>\n",
              "      <td>G1</td>\n",
              "      <td>2005-04-23</td>\n",
              "      <td></td>\n",
              "      <td></td>\n",
              "      <td>1</td>\n",
              "      <td>0</td>\n",
              "      <td>H</td>\n",
              "      <td>0</td>\n",
              "      <td>0</td>\n",
              "      <td>D</td>\n",
              "      <td>NaN</td>\n",
              "      <td>NaN</td>\n",
              "      <td>NaN</td>\n",
              "      <td>NaN</td>\n",
              "      <td>NaN</td>\n",
              "      <td>NaN</td>\n",
              "      <td>NaN</td>\n",
              "      <td>NaN</td>\n",
              "      <td>NaN</td>\n",
              "      <td>NaN</td>\n",
              "      <td>NaN</td>\n",
              "      <td>NaN</td>\n",
              "      <td>1.635000</td>\n",
              "      <td>3.308333</td>\n",
              "      <td>4.788333</td>\n",
              "      <td>1.95</td>\n",
              "      <td>1.71</td>\n",
              "    </tr>\n",
              "    <tr>\n",
              "      <th>...</th>\n",
              "      <td>...</td>\n",
              "      <td>...</td>\n",
              "      <td>...</td>\n",
              "      <td>...</td>\n",
              "      <td>...</td>\n",
              "      <td>...</td>\n",
              "      <td>...</td>\n",
              "      <td>...</td>\n",
              "      <td>...</td>\n",
              "      <td>...</td>\n",
              "      <td>...</td>\n",
              "      <td>...</td>\n",
              "      <td>...</td>\n",
              "      <td>...</td>\n",
              "      <td>...</td>\n",
              "      <td>...</td>\n",
              "      <td>...</td>\n",
              "      <td>...</td>\n",
              "      <td>...</td>\n",
              "      <td>...</td>\n",
              "      <td>...</td>\n",
              "      <td>...</td>\n",
              "      <td>...</td>\n",
              "      <td>...</td>\n",
              "      <td>...</td>\n",
              "      <td>...</td>\n",
              "      <td>...</td>\n",
              "      <td>...</td>\n",
              "      <td>...</td>\n",
              "      <td>...</td>\n",
              "    </tr>\n",
              "    <tr>\n",
              "      <th>178641</th>\n",
              "      <td>2000-01-01</td>\n",
              "      <td>Greece</td>\n",
              "      <td>Greece Ethniki Katigoria</td>\n",
              "      <td>G1</td>\n",
              "      <td>2000-09-25</td>\n",
              "      <td></td>\n",
              "      <td></td>\n",
              "      <td>2</td>\n",
              "      <td>1</td>\n",
              "      <td>H</td>\n",
              "      <td>2</td>\n",
              "      <td>0</td>\n",
              "      <td>H</td>\n",
              "      <td>NaN</td>\n",
              "      <td>NaN</td>\n",
              "      <td>NaN</td>\n",
              "      <td>NaN</td>\n",
              "      <td>NaN</td>\n",
              "      <td>NaN</td>\n",
              "      <td>NaN</td>\n",
              "      <td>NaN</td>\n",
              "      <td>NaN</td>\n",
              "      <td>NaN</td>\n",
              "      <td>NaN</td>\n",
              "      <td>NaN</td>\n",
              "      <td>NaN</td>\n",
              "      <td>NaN</td>\n",
              "      <td>NaN</td>\n",
              "      <td>NaN</td>\n",
              "      <td>NaN</td>\n",
              "    </tr>\n",
              "    <tr>\n",
              "      <th>178789</th>\n",
              "      <td>2000-01-01</td>\n",
              "      <td>Greece</td>\n",
              "      <td>Greece Ethniki Katigoria</td>\n",
              "      <td>G1</td>\n",
              "      <td>2000-09-23</td>\n",
              "      <td></td>\n",
              "      <td></td>\n",
              "      <td>0</td>\n",
              "      <td>2</td>\n",
              "      <td>A</td>\n",
              "      <td>0</td>\n",
              "      <td>1</td>\n",
              "      <td>A</td>\n",
              "      <td>NaN</td>\n",
              "      <td>NaN</td>\n",
              "      <td>NaN</td>\n",
              "      <td>NaN</td>\n",
              "      <td>NaN</td>\n",
              "      <td>NaN</td>\n",
              "      <td>NaN</td>\n",
              "      <td>NaN</td>\n",
              "      <td>NaN</td>\n",
              "      <td>NaN</td>\n",
              "      <td>NaN</td>\n",
              "      <td>NaN</td>\n",
              "      <td>NaN</td>\n",
              "      <td>NaN</td>\n",
              "      <td>NaN</td>\n",
              "      <td>NaN</td>\n",
              "      <td>NaN</td>\n",
              "    </tr>\n",
              "    <tr>\n",
              "      <th>178817</th>\n",
              "      <td>2000-01-01</td>\n",
              "      <td>Greece</td>\n",
              "      <td>Greece Ethniki Katigoria</td>\n",
              "      <td>G1</td>\n",
              "      <td>2000-09-18</td>\n",
              "      <td></td>\n",
              "      <td></td>\n",
              "      <td>2</td>\n",
              "      <td>0</td>\n",
              "      <td>H</td>\n",
              "      <td>1</td>\n",
              "      <td>0</td>\n",
              "      <td>H</td>\n",
              "      <td>NaN</td>\n",
              "      <td>NaN</td>\n",
              "      <td>NaN</td>\n",
              "      <td>NaN</td>\n",
              "      <td>NaN</td>\n",
              "      <td>NaN</td>\n",
              "      <td>NaN</td>\n",
              "      <td>NaN</td>\n",
              "      <td>NaN</td>\n",
              "      <td>NaN</td>\n",
              "      <td>NaN</td>\n",
              "      <td>NaN</td>\n",
              "      <td>NaN</td>\n",
              "      <td>NaN</td>\n",
              "      <td>NaN</td>\n",
              "      <td>NaN</td>\n",
              "      <td>NaN</td>\n",
              "    </tr>\n",
              "    <tr>\n",
              "      <th>178821</th>\n",
              "      <td>2000-01-01</td>\n",
              "      <td>Greece</td>\n",
              "      <td>Greece Ethniki Katigoria</td>\n",
              "      <td>G1</td>\n",
              "      <td>2000-09-18</td>\n",
              "      <td></td>\n",
              "      <td></td>\n",
              "      <td>2</td>\n",
              "      <td>3</td>\n",
              "      <td>A</td>\n",
              "      <td>2</td>\n",
              "      <td>1</td>\n",
              "      <td>H</td>\n",
              "      <td>NaN</td>\n",
              "      <td>NaN</td>\n",
              "      <td>NaN</td>\n",
              "      <td>NaN</td>\n",
              "      <td>NaN</td>\n",
              "      <td>NaN</td>\n",
              "      <td>NaN</td>\n",
              "      <td>NaN</td>\n",
              "      <td>NaN</td>\n",
              "      <td>NaN</td>\n",
              "      <td>NaN</td>\n",
              "      <td>NaN</td>\n",
              "      <td>NaN</td>\n",
              "      <td>NaN</td>\n",
              "      <td>NaN</td>\n",
              "      <td>NaN</td>\n",
              "      <td>NaN</td>\n",
              "    </tr>\n",
              "    <tr>\n",
              "      <th>178835</th>\n",
              "      <td>2000-01-01</td>\n",
              "      <td>Greece</td>\n",
              "      <td>Greece Ethniki Katigoria</td>\n",
              "      <td>G1</td>\n",
              "      <td>2000-09-17</td>\n",
              "      <td></td>\n",
              "      <td></td>\n",
              "      <td>1</td>\n",
              "      <td>0</td>\n",
              "      <td>H</td>\n",
              "      <td>1</td>\n",
              "      <td>0</td>\n",
              "      <td>H</td>\n",
              "      <td>NaN</td>\n",
              "      <td>NaN</td>\n",
              "      <td>NaN</td>\n",
              "      <td>NaN</td>\n",
              "      <td>NaN</td>\n",
              "      <td>NaN</td>\n",
              "      <td>NaN</td>\n",
              "      <td>NaN</td>\n",
              "      <td>NaN</td>\n",
              "      <td>NaN</td>\n",
              "      <td>NaN</td>\n",
              "      <td>NaN</td>\n",
              "      <td>NaN</td>\n",
              "      <td>NaN</td>\n",
              "      <td>NaN</td>\n",
              "      <td>NaN</td>\n",
              "      <td>NaN</td>\n",
              "    </tr>\n",
              "  </tbody>\n",
              "</table>\n",
              "<p>289 rows × 30 columns</p>\n",
              "</div>"
            ],
            "text/plain": [
              "           Season Country                    League  ...      AvgA Avg>2.5 Avg<2.5\n",
              "150169 2004-01-01  Greece  Greece Ethniki Katigoria  ...  3.887500    1.71    1.95\n",
              "150351 2004-01-01  Greece  Greece Ethniki Katigoria  ...       NaN     NaN     NaN\n",
              "150608 2004-01-01  Greece  Greece Ethniki Katigoria  ...  1.786667    2.10    1.60\n",
              "150609 2004-01-01  Greece  Greece Ethniki Katigoria  ...  3.550000    2.10    1.60\n",
              "150719 2004-01-01  Greece  Greece Ethniki Katigoria  ...  4.788333    1.95    1.71\n",
              "...           ...     ...                       ...  ...       ...     ...     ...\n",
              "178641 2000-01-01  Greece  Greece Ethniki Katigoria  ...       NaN     NaN     NaN\n",
              "178789 2000-01-01  Greece  Greece Ethniki Katigoria  ...       NaN     NaN     NaN\n",
              "178817 2000-01-01  Greece  Greece Ethniki Katigoria  ...       NaN     NaN     NaN\n",
              "178821 2000-01-01  Greece  Greece Ethniki Katigoria  ...       NaN     NaN     NaN\n",
              "178835 2000-01-01  Greece  Greece Ethniki Katigoria  ...       NaN     NaN     NaN\n",
              "\n",
              "[289 rows x 30 columns]"
            ]
          },
          "metadata": {
            "tags": []
          },
          "execution_count": 32
        }
      ]
    },
    {
      "cell_type": "markdown",
      "metadata": {
        "id": "pb-7djHlMWpp"
      },
      "source": [
        "A fazer:\n",
        "\n",
        "* Detecção de outliers"
      ]
    },
    {
      "cell_type": "markdown",
      "metadata": {
        "id": "qFdwYcIBRCk3"
      },
      "source": [
        "# **Otimizar uso de memoria**\n",
        "Agora que todas as features estão prontas, vamos reduzir a memória utilizada pelos datasets e preparar para treinar nosso modelo com alguns classificadores.\n",
        "\n",
        "(bonus?)"
      ]
    },
    {
      "cell_type": "code",
      "metadata": {
        "id": "aQtCCvBQRHIU",
        "outputId": "aa699995-f4c2-4388-8744-9b31b521c92d",
        "colab": {
          "base_uri": "https://localhost:8080/",
          "height": 0
        }
      },
      "source": [
        "soccer_data2 = reduce_mem_usage(soccer_data2)"
      ],
      "execution_count": 33,
      "outputs": [
        {
          "output_type": "stream",
          "text": [
            "Mem. usage decreased to 15.30 Mb (55.6% reduction)\n"
          ],
          "name": "stdout"
        }
      ]
    },
    {
      "cell_type": "code",
      "metadata": {
        "id": "Jm-xPkJpSIbp",
        "outputId": "a982d25b-75f2-479b-e3a9-83156f3f6620",
        "colab": {
          "base_uri": "https://localhost:8080/",
          "height": 0
        }
      },
      "source": [
        "soccer_data2.dtypes"
      ],
      "execution_count": 34,
      "outputs": [
        {
          "output_type": "execute_result",
          "data": {
            "text/plain": [
              "Season      datetime64[ns]\n",
              "Country           category\n",
              "League            category\n",
              "Div               category\n",
              "Datetime    datetime64[ns]\n",
              "HomeTeam          category\n",
              "AwayTeam          category\n",
              "FTHG                  int8\n",
              "FTAG                  int8\n",
              "FTR               category\n",
              "HTHG                  int8\n",
              "HTAG                  int8\n",
              "HTR               category\n",
              "HS                 float16\n",
              "AS                 float16\n",
              "HST                float16\n",
              "AST                float16\n",
              "HC                 float16\n",
              "AC                 float16\n",
              "HF                 float16\n",
              "AF                 float16\n",
              "HY                 float16\n",
              "AY                 float16\n",
              "HR                 float16\n",
              "AR                 float16\n",
              "AvgH               float64\n",
              "AvgD               float64\n",
              "AvgA               float16\n",
              "Avg>2.5            float64\n",
              "Avg<2.5            float16\n",
              "dtype: object"
            ]
          },
          "metadata": {
            "tags": []
          },
          "execution_count": 34
        }
      ]
    },
    {
      "cell_type": "markdown",
      "metadata": {
        "id": "l6ysKXGbDc9X"
      },
      "source": [
        "# **Explore Data**"
      ]
    },
    {
      "cell_type": "markdown",
      "metadata": {
        "id": "Q50VLZ20Xe19"
      },
      "source": [
        "# Best Teams of each league stats"
      ]
    },
    {
      "cell_type": "code",
      "metadata": {
        "id": "wezJ0iZ3UJqM",
        "outputId": "c2320a81-84ec-471c-b13b-eab031f2e8f1",
        "colab": {
          "base_uri": "https://localhost:8080/",
          "height": 0
        }
      },
      "source": [
        "#Checando a quantidade de jogos por temporada em cada liga\n",
        "season_gr = soccer_data2[['League', 'Season']].groupby(by=['League', 'Season']).size().unstack(fill_value=0)\n",
        "season_gr"
      ],
      "execution_count": 35,
      "outputs": [
        {
          "output_type": "execute_result",
          "data": {
            "text/html": [
              "<div>\n",
              "<style scoped>\n",
              "    .dataframe tbody tr th:only-of-type {\n",
              "        vertical-align: middle;\n",
              "    }\n",
              "\n",
              "    .dataframe tbody tr th {\n",
              "        vertical-align: top;\n",
              "    }\n",
              "\n",
              "    .dataframe thead th {\n",
              "        text-align: right;\n",
              "    }\n",
              "</style>\n",
              "<table border=\"1\" class=\"dataframe\">\n",
              "  <thead>\n",
              "    <tr style=\"text-align: right;\">\n",
              "      <th>Season</th>\n",
              "      <th>2000-01-01</th>\n",
              "      <th>2001-01-01</th>\n",
              "      <th>2002-01-01</th>\n",
              "      <th>2003-01-01</th>\n",
              "      <th>2004-01-01</th>\n",
              "      <th>2005-01-01</th>\n",
              "      <th>2006-01-01</th>\n",
              "      <th>2007-01-01</th>\n",
              "      <th>2008-01-01</th>\n",
              "      <th>2009-01-01</th>\n",
              "      <th>2010-01-01</th>\n",
              "      <th>2011-01-01</th>\n",
              "      <th>2012-01-01</th>\n",
              "      <th>2013-01-01</th>\n",
              "      <th>2014-01-01</th>\n",
              "      <th>2015-01-01</th>\n",
              "      <th>2016-01-01</th>\n",
              "      <th>2017-01-01</th>\n",
              "      <th>2018-01-01</th>\n",
              "      <th>2019-01-01</th>\n",
              "      <th>2020-01-01</th>\n",
              "    </tr>\n",
              "    <tr>\n",
              "      <th>League</th>\n",
              "      <th></th>\n",
              "      <th></th>\n",
              "      <th></th>\n",
              "      <th></th>\n",
              "      <th></th>\n",
              "      <th></th>\n",
              "      <th></th>\n",
              "      <th></th>\n",
              "      <th></th>\n",
              "      <th></th>\n",
              "      <th></th>\n",
              "      <th></th>\n",
              "      <th></th>\n",
              "      <th></th>\n",
              "      <th></th>\n",
              "      <th></th>\n",
              "      <th></th>\n",
              "      <th></th>\n",
              "      <th></th>\n",
              "      <th></th>\n",
              "      <th></th>\n",
              "    </tr>\n",
              "  </thead>\n",
              "  <tbody>\n",
              "    <tr>\n",
              "      <th>Argentina Primera Division</th>\n",
              "      <td>0</td>\n",
              "      <td>0</td>\n",
              "      <td>0</td>\n",
              "      <td>0</td>\n",
              "      <td>0</td>\n",
              "      <td>0</td>\n",
              "      <td>0</td>\n",
              "      <td>0</td>\n",
              "      <td>0</td>\n",
              "      <td>0</td>\n",
              "      <td>0</td>\n",
              "      <td>0</td>\n",
              "      <td>381</td>\n",
              "      <td>383</td>\n",
              "      <td>190</td>\n",
              "      <td>468</td>\n",
              "      <td>692</td>\n",
              "      <td>378</td>\n",
              "      <td>324</td>\n",
              "      <td>276</td>\n",
              "      <td>0</td>\n",
              "    </tr>\n",
              "    <tr>\n",
              "      <th>Belgium Jupiler League</th>\n",
              "      <td>306</td>\n",
              "      <td>306</td>\n",
              "      <td>111</td>\n",
              "      <td>306</td>\n",
              "      <td>162</td>\n",
              "      <td>306</td>\n",
              "      <td>306</td>\n",
              "      <td>306</td>\n",
              "      <td>306</td>\n",
              "      <td>210</td>\n",
              "      <td>240</td>\n",
              "      <td>240</td>\n",
              "      <td>240</td>\n",
              "      <td>240</td>\n",
              "      <td>240</td>\n",
              "      <td>240</td>\n",
              "      <td>240</td>\n",
              "      <td>240</td>\n",
              "      <td>240</td>\n",
              "      <td>232</td>\n",
              "      <td>18</td>\n",
              "    </tr>\n",
              "    <tr>\n",
              "      <th>Brazil Serie A</th>\n",
              "      <td>0</td>\n",
              "      <td>0</td>\n",
              "      <td>0</td>\n",
              "      <td>0</td>\n",
              "      <td>0</td>\n",
              "      <td>0</td>\n",
              "      <td>0</td>\n",
              "      <td>0</td>\n",
              "      <td>0</td>\n",
              "      <td>0</td>\n",
              "      <td>0</td>\n",
              "      <td>0</td>\n",
              "      <td>380</td>\n",
              "      <td>380</td>\n",
              "      <td>380</td>\n",
              "      <td>380</td>\n",
              "      <td>380</td>\n",
              "      <td>380</td>\n",
              "      <td>380</td>\n",
              "      <td>380</td>\n",
              "      <td>36</td>\n",
              "    </tr>\n",
              "    <tr>\n",
              "      <th>China Super League</th>\n",
              "      <td>0</td>\n",
              "      <td>0</td>\n",
              "      <td>0</td>\n",
              "      <td>0</td>\n",
              "      <td>0</td>\n",
              "      <td>0</td>\n",
              "      <td>0</td>\n",
              "      <td>0</td>\n",
              "      <td>0</td>\n",
              "      <td>0</td>\n",
              "      <td>0</td>\n",
              "      <td>0</td>\n",
              "      <td>0</td>\n",
              "      <td>0</td>\n",
              "      <td>240</td>\n",
              "      <td>240</td>\n",
              "      <td>240</td>\n",
              "      <td>240</td>\n",
              "      <td>240</td>\n",
              "      <td>240</td>\n",
              "      <td>44</td>\n",
              "    </tr>\n",
              "    <tr>\n",
              "      <th>Denmark Superliga</th>\n",
              "      <td>0</td>\n",
              "      <td>0</td>\n",
              "      <td>0</td>\n",
              "      <td>0</td>\n",
              "      <td>0</td>\n",
              "      <td>0</td>\n",
              "      <td>0</td>\n",
              "      <td>0</td>\n",
              "      <td>0</td>\n",
              "      <td>0</td>\n",
              "      <td>0</td>\n",
              "      <td>0</td>\n",
              "      <td>198</td>\n",
              "      <td>198</td>\n",
              "      <td>198</td>\n",
              "      <td>198</td>\n",
              "      <td>255</td>\n",
              "      <td>255</td>\n",
              "      <td>251</td>\n",
              "      <td>243</td>\n",
              "      <td>0</td>\n",
              "    </tr>\n",
              "    <tr>\n",
              "      <th>England Championship</th>\n",
              "      <td>552</td>\n",
              "      <td>552</td>\n",
              "      <td>520</td>\n",
              "      <td>552</td>\n",
              "      <td>392</td>\n",
              "      <td>552</td>\n",
              "      <td>552</td>\n",
              "      <td>552</td>\n",
              "      <td>552</td>\n",
              "      <td>552</td>\n",
              "      <td>552</td>\n",
              "      <td>552</td>\n",
              "      <td>552</td>\n",
              "      <td>552</td>\n",
              "      <td>552</td>\n",
              "      <td>552</td>\n",
              "      <td>552</td>\n",
              "      <td>552</td>\n",
              "      <td>552</td>\n",
              "      <td>552</td>\n",
              "      <td>0</td>\n",
              "    </tr>\n",
              "    <tr>\n",
              "      <th>England Conference</th>\n",
              "      <td>0</td>\n",
              "      <td>0</td>\n",
              "      <td>0</td>\n",
              "      <td>0</td>\n",
              "      <td>0</td>\n",
              "      <td>462</td>\n",
              "      <td>552</td>\n",
              "      <td>552</td>\n",
              "      <td>552</td>\n",
              "      <td>506</td>\n",
              "      <td>552</td>\n",
              "      <td>552</td>\n",
              "      <td>552</td>\n",
              "      <td>552</td>\n",
              "      <td>552</td>\n",
              "      <td>552</td>\n",
              "      <td>552</td>\n",
              "      <td>552</td>\n",
              "      <td>552</td>\n",
              "      <td>451</td>\n",
              "      <td>0</td>\n",
              "    </tr>\n",
              "    <tr>\n",
              "      <th>England League 1</th>\n",
              "      <td>552</td>\n",
              "      <td>552</td>\n",
              "      <td>351</td>\n",
              "      <td>504</td>\n",
              "      <td>376</td>\n",
              "      <td>552</td>\n",
              "      <td>552</td>\n",
              "      <td>552</td>\n",
              "      <td>552</td>\n",
              "      <td>552</td>\n",
              "      <td>552</td>\n",
              "      <td>552</td>\n",
              "      <td>552</td>\n",
              "      <td>552</td>\n",
              "      <td>552</td>\n",
              "      <td>552</td>\n",
              "      <td>552</td>\n",
              "      <td>552</td>\n",
              "      <td>552</td>\n",
              "      <td>400</td>\n",
              "      <td>0</td>\n",
              "    </tr>\n",
              "    <tr>\n",
              "      <th>England League 2</th>\n",
              "      <td>552</td>\n",
              "      <td>552</td>\n",
              "      <td>335</td>\n",
              "      <td>472</td>\n",
              "      <td>440</td>\n",
              "      <td>552</td>\n",
              "      <td>552</td>\n",
              "      <td>552</td>\n",
              "      <td>552</td>\n",
              "      <td>552</td>\n",
              "      <td>552</td>\n",
              "      <td>552</td>\n",
              "      <td>552</td>\n",
              "      <td>552</td>\n",
              "      <td>552</td>\n",
              "      <td>552</td>\n",
              "      <td>552</td>\n",
              "      <td>552</td>\n",
              "      <td>552</td>\n",
              "      <td>440</td>\n",
              "      <td>0</td>\n",
              "    </tr>\n",
              "    <tr>\n",
              "      <th>England Premier League</th>\n",
              "      <td>380</td>\n",
              "      <td>380</td>\n",
              "      <td>380</td>\n",
              "      <td>335</td>\n",
              "      <td>335</td>\n",
              "      <td>380</td>\n",
              "      <td>380</td>\n",
              "      <td>380</td>\n",
              "      <td>380</td>\n",
              "      <td>380</td>\n",
              "      <td>380</td>\n",
              "      <td>380</td>\n",
              "      <td>380</td>\n",
              "      <td>380</td>\n",
              "      <td>380</td>\n",
              "      <td>380</td>\n",
              "      <td>380</td>\n",
              "      <td>380</td>\n",
              "      <td>380</td>\n",
              "      <td>380</td>\n",
              "      <td>0</td>\n",
              "    </tr>\n",
              "    <tr>\n",
              "      <th>Finland Veikkausliiga</th>\n",
              "      <td>0</td>\n",
              "      <td>0</td>\n",
              "      <td>0</td>\n",
              "      <td>0</td>\n",
              "      <td>0</td>\n",
              "      <td>0</td>\n",
              "      <td>0</td>\n",
              "      <td>0</td>\n",
              "      <td>0</td>\n",
              "      <td>0</td>\n",
              "      <td>0</td>\n",
              "      <td>0</td>\n",
              "      <td>198</td>\n",
              "      <td>198</td>\n",
              "      <td>198</td>\n",
              "      <td>200</td>\n",
              "      <td>200</td>\n",
              "      <td>200</td>\n",
              "      <td>200</td>\n",
              "      <td>169</td>\n",
              "      <td>58</td>\n",
              "    </tr>\n",
              "    <tr>\n",
              "      <th>France Division 2</th>\n",
              "      <td>380</td>\n",
              "      <td>351</td>\n",
              "      <td>159</td>\n",
              "      <td>15</td>\n",
              "      <td>380</td>\n",
              "      <td>380</td>\n",
              "      <td>380</td>\n",
              "      <td>348</td>\n",
              "      <td>380</td>\n",
              "      <td>380</td>\n",
              "      <td>380</td>\n",
              "      <td>380</td>\n",
              "      <td>380</td>\n",
              "      <td>380</td>\n",
              "      <td>380</td>\n",
              "      <td>380</td>\n",
              "      <td>380</td>\n",
              "      <td>380</td>\n",
              "      <td>380</td>\n",
              "      <td>280</td>\n",
              "      <td>0</td>\n",
              "    </tr>\n",
              "    <tr>\n",
              "      <th>France Le Championnat</th>\n",
              "      <td>306</td>\n",
              "      <td>306</td>\n",
              "      <td>191</td>\n",
              "      <td>223</td>\n",
              "      <td>380</td>\n",
              "      <td>380</td>\n",
              "      <td>380</td>\n",
              "      <td>380</td>\n",
              "      <td>380</td>\n",
              "      <td>380</td>\n",
              "      <td>380</td>\n",
              "      <td>380</td>\n",
              "      <td>380</td>\n",
              "      <td>380</td>\n",
              "      <td>380</td>\n",
              "      <td>380</td>\n",
              "      <td>380</td>\n",
              "      <td>380</td>\n",
              "      <td>380</td>\n",
              "      <td>279</td>\n",
              "      <td>0</td>\n",
              "    </tr>\n",
              "    <tr>\n",
              "      <th>Germany Bundesliga 1</th>\n",
              "      <td>306</td>\n",
              "      <td>306</td>\n",
              "      <td>290</td>\n",
              "      <td>194</td>\n",
              "      <td>306</td>\n",
              "      <td>306</td>\n",
              "      <td>306</td>\n",
              "      <td>306</td>\n",
              "      <td>306</td>\n",
              "      <td>306</td>\n",
              "      <td>306</td>\n",
              "      <td>306</td>\n",
              "      <td>306</td>\n",
              "      <td>306</td>\n",
              "      <td>306</td>\n",
              "      <td>306</td>\n",
              "      <td>306</td>\n",
              "      <td>306</td>\n",
              "      <td>306</td>\n",
              "      <td>306</td>\n",
              "      <td>0</td>\n",
              "    </tr>\n",
              "    <tr>\n",
              "      <th>Germany Bundesliga 2</th>\n",
              "      <td>306</td>\n",
              "      <td>306</td>\n",
              "      <td>143</td>\n",
              "      <td>15</td>\n",
              "      <td>271</td>\n",
              "      <td>306</td>\n",
              "      <td>306</td>\n",
              "      <td>306</td>\n",
              "      <td>306</td>\n",
              "      <td>306</td>\n",
              "      <td>306</td>\n",
              "      <td>306</td>\n",
              "      <td>306</td>\n",
              "      <td>306</td>\n",
              "      <td>306</td>\n",
              "      <td>306</td>\n",
              "      <td>306</td>\n",
              "      <td>306</td>\n",
              "      <td>306</td>\n",
              "      <td>306</td>\n",
              "      <td>0</td>\n",
              "    </tr>\n",
              "    <tr>\n",
              "      <th>Greece Bundesliga</th>\n",
              "      <td>0</td>\n",
              "      <td>0</td>\n",
              "      <td>0</td>\n",
              "      <td>0</td>\n",
              "      <td>0</td>\n",
              "      <td>0</td>\n",
              "      <td>0</td>\n",
              "      <td>0</td>\n",
              "      <td>0</td>\n",
              "      <td>0</td>\n",
              "      <td>0</td>\n",
              "      <td>0</td>\n",
              "      <td>180</td>\n",
              "      <td>180</td>\n",
              "      <td>180</td>\n",
              "      <td>180</td>\n",
              "      <td>180</td>\n",
              "      <td>182</td>\n",
              "      <td>195</td>\n",
              "      <td>195</td>\n",
              "      <td>0</td>\n",
              "    </tr>\n",
              "    <tr>\n",
              "      <th>Greece Ethniki Katigoria</th>\n",
              "      <td>80</td>\n",
              "      <td>47</td>\n",
              "      <td>56</td>\n",
              "      <td>66</td>\n",
              "      <td>40</td>\n",
              "      <td>240</td>\n",
              "      <td>240</td>\n",
              "      <td>240</td>\n",
              "      <td>240</td>\n",
              "      <td>240</td>\n",
              "      <td>240</td>\n",
              "      <td>240</td>\n",
              "      <td>240</td>\n",
              "      <td>306</td>\n",
              "      <td>306</td>\n",
              "      <td>240</td>\n",
              "      <td>240</td>\n",
              "      <td>240</td>\n",
              "      <td>240</td>\n",
              "      <td>240</td>\n",
              "      <td>0</td>\n",
              "    </tr>\n",
              "    <tr>\n",
              "      <th>Ireland Premier Division</th>\n",
              "      <td>0</td>\n",
              "      <td>0</td>\n",
              "      <td>0</td>\n",
              "      <td>0</td>\n",
              "      <td>0</td>\n",
              "      <td>0</td>\n",
              "      <td>0</td>\n",
              "      <td>0</td>\n",
              "      <td>0</td>\n",
              "      <td>0</td>\n",
              "      <td>0</td>\n",
              "      <td>0</td>\n",
              "      <td>183</td>\n",
              "      <td>202</td>\n",
              "      <td>202</td>\n",
              "      <td>202</td>\n",
              "      <td>202</td>\n",
              "      <td>198</td>\n",
              "      <td>185</td>\n",
              "      <td>186</td>\n",
              "      <td>0</td>\n",
              "    </tr>\n",
              "    <tr>\n",
              "      <th>Italy Serie A</th>\n",
              "      <td>306</td>\n",
              "      <td>306</td>\n",
              "      <td>306</td>\n",
              "      <td>194</td>\n",
              "      <td>300</td>\n",
              "      <td>380</td>\n",
              "      <td>380</td>\n",
              "      <td>380</td>\n",
              "      <td>380</td>\n",
              "      <td>380</td>\n",
              "      <td>380</td>\n",
              "      <td>380</td>\n",
              "      <td>380</td>\n",
              "      <td>380</td>\n",
              "      <td>380</td>\n",
              "      <td>380</td>\n",
              "      <td>380</td>\n",
              "      <td>380</td>\n",
              "      <td>380</td>\n",
              "      <td>380</td>\n",
              "      <td>0</td>\n",
              "    </tr>\n",
              "    <tr>\n",
              "      <th>Italy Serie B</th>\n",
              "      <td>380</td>\n",
              "      <td>332</td>\n",
              "      <td>159</td>\n",
              "      <td>328</td>\n",
              "      <td>94</td>\n",
              "      <td>462</td>\n",
              "      <td>462</td>\n",
              "      <td>462</td>\n",
              "      <td>462</td>\n",
              "      <td>462</td>\n",
              "      <td>462</td>\n",
              "      <td>462</td>\n",
              "      <td>462</td>\n",
              "      <td>462</td>\n",
              "      <td>462</td>\n",
              "      <td>462</td>\n",
              "      <td>462</td>\n",
              "      <td>462</td>\n",
              "      <td>342</td>\n",
              "      <td>380</td>\n",
              "      <td>0</td>\n",
              "    </tr>\n",
              "    <tr>\n",
              "      <th>Japan J-League</th>\n",
              "      <td>0</td>\n",
              "      <td>0</td>\n",
              "      <td>0</td>\n",
              "      <td>0</td>\n",
              "      <td>0</td>\n",
              "      <td>0</td>\n",
              "      <td>0</td>\n",
              "      <td>0</td>\n",
              "      <td>0</td>\n",
              "      <td>0</td>\n",
              "      <td>0</td>\n",
              "      <td>0</td>\n",
              "      <td>306</td>\n",
              "      <td>306</td>\n",
              "      <td>306</td>\n",
              "      <td>309</td>\n",
              "      <td>309</td>\n",
              "      <td>306</td>\n",
              "      <td>309</td>\n",
              "      <td>299</td>\n",
              "      <td>0</td>\n",
              "    </tr>\n",
              "    <tr>\n",
              "      <th>Mexico Liga MX</th>\n",
              "      <td>0</td>\n",
              "      <td>0</td>\n",
              "      <td>0</td>\n",
              "      <td>0</td>\n",
              "      <td>0</td>\n",
              "      <td>0</td>\n",
              "      <td>0</td>\n",
              "      <td>0</td>\n",
              "      <td>0</td>\n",
              "      <td>0</td>\n",
              "      <td>0</td>\n",
              "      <td>0</td>\n",
              "      <td>334</td>\n",
              "      <td>334</td>\n",
              "      <td>334</td>\n",
              "      <td>334</td>\n",
              "      <td>334</td>\n",
              "      <td>334</td>\n",
              "      <td>334</td>\n",
              "      <td>274</td>\n",
              "      <td>45</td>\n",
              "    </tr>\n",
              "    <tr>\n",
              "      <th>Netherlands Eredivisie</th>\n",
              "      <td>306</td>\n",
              "      <td>306</td>\n",
              "      <td>130</td>\n",
              "      <td>306</td>\n",
              "      <td>226</td>\n",
              "      <td>306</td>\n",
              "      <td>306</td>\n",
              "      <td>274</td>\n",
              "      <td>306</td>\n",
              "      <td>306</td>\n",
              "      <td>306</td>\n",
              "      <td>306</td>\n",
              "      <td>306</td>\n",
              "      <td>306</td>\n",
              "      <td>306</td>\n",
              "      <td>306</td>\n",
              "      <td>306</td>\n",
              "      <td>306</td>\n",
              "      <td>306</td>\n",
              "      <td>232</td>\n",
              "      <td>0</td>\n",
              "    </tr>\n",
              "    <tr>\n",
              "      <th>Norway Eliteserien</th>\n",
              "      <td>0</td>\n",
              "      <td>0</td>\n",
              "      <td>0</td>\n",
              "      <td>0</td>\n",
              "      <td>0</td>\n",
              "      <td>0</td>\n",
              "      <td>0</td>\n",
              "      <td>0</td>\n",
              "      <td>0</td>\n",
              "      <td>0</td>\n",
              "      <td>0</td>\n",
              "      <td>0</td>\n",
              "      <td>242</td>\n",
              "      <td>242</td>\n",
              "      <td>242</td>\n",
              "      <td>242</td>\n",
              "      <td>242</td>\n",
              "      <td>242</td>\n",
              "      <td>241</td>\n",
              "      <td>242</td>\n",
              "      <td>113</td>\n",
              "    </tr>\n",
              "    <tr>\n",
              "      <th>Poland Ekstraklasa</th>\n",
              "      <td>0</td>\n",
              "      <td>0</td>\n",
              "      <td>0</td>\n",
              "      <td>0</td>\n",
              "      <td>0</td>\n",
              "      <td>0</td>\n",
              "      <td>0</td>\n",
              "      <td>0</td>\n",
              "      <td>0</td>\n",
              "      <td>0</td>\n",
              "      <td>0</td>\n",
              "      <td>0</td>\n",
              "      <td>240</td>\n",
              "      <td>296</td>\n",
              "      <td>296</td>\n",
              "      <td>296</td>\n",
              "      <td>296</td>\n",
              "      <td>296</td>\n",
              "      <td>296</td>\n",
              "      <td>296</td>\n",
              "      <td>0</td>\n",
              "    </tr>\n",
              "    <tr>\n",
              "      <th>Portugal Liga I</th>\n",
              "      <td>306</td>\n",
              "      <td>306</td>\n",
              "      <td>98</td>\n",
              "      <td>290</td>\n",
              "      <td>306</td>\n",
              "      <td>306</td>\n",
              "      <td>240</td>\n",
              "      <td>208</td>\n",
              "      <td>240</td>\n",
              "      <td>240</td>\n",
              "      <td>240</td>\n",
              "      <td>240</td>\n",
              "      <td>240</td>\n",
              "      <td>240</td>\n",
              "      <td>306</td>\n",
              "      <td>306</td>\n",
              "      <td>306</td>\n",
              "      <td>306</td>\n",
              "      <td>306</td>\n",
              "      <td>306</td>\n",
              "      <td>0</td>\n",
              "    </tr>\n",
              "    <tr>\n",
              "      <th>Romania Liga 1</th>\n",
              "      <td>0</td>\n",
              "      <td>0</td>\n",
              "      <td>0</td>\n",
              "      <td>0</td>\n",
              "      <td>0</td>\n",
              "      <td>0</td>\n",
              "      <td>0</td>\n",
              "      <td>0</td>\n",
              "      <td>0</td>\n",
              "      <td>0</td>\n",
              "      <td>0</td>\n",
              "      <td>0</td>\n",
              "      <td>307</td>\n",
              "      <td>306</td>\n",
              "      <td>306</td>\n",
              "      <td>272</td>\n",
              "      <td>270</td>\n",
              "      <td>270</td>\n",
              "      <td>270</td>\n",
              "      <td>262</td>\n",
              "      <td>0</td>\n",
              "    </tr>\n",
              "    <tr>\n",
              "      <th>Russia Premier League</th>\n",
              "      <td>0</td>\n",
              "      <td>0</td>\n",
              "      <td>0</td>\n",
              "      <td>0</td>\n",
              "      <td>0</td>\n",
              "      <td>0</td>\n",
              "      <td>0</td>\n",
              "      <td>0</td>\n",
              "      <td>0</td>\n",
              "      <td>0</td>\n",
              "      <td>0</td>\n",
              "      <td>0</td>\n",
              "      <td>244</td>\n",
              "      <td>244</td>\n",
              "      <td>244</td>\n",
              "      <td>244</td>\n",
              "      <td>244</td>\n",
              "      <td>244</td>\n",
              "      <td>244</td>\n",
              "      <td>240</td>\n",
              "      <td>24</td>\n",
              "    </tr>\n",
              "    <tr>\n",
              "      <th>Scotland Division 1</th>\n",
              "      <td>180</td>\n",
              "      <td>180</td>\n",
              "      <td>79</td>\n",
              "      <td>180</td>\n",
              "      <td>164</td>\n",
              "      <td>180</td>\n",
              "      <td>180</td>\n",
              "      <td>180</td>\n",
              "      <td>180</td>\n",
              "      <td>180</td>\n",
              "      <td>180</td>\n",
              "      <td>180</td>\n",
              "      <td>180</td>\n",
              "      <td>180</td>\n",
              "      <td>180</td>\n",
              "      <td>180</td>\n",
              "      <td>180</td>\n",
              "      <td>180</td>\n",
              "      <td>180</td>\n",
              "      <td>137</td>\n",
              "      <td>0</td>\n",
              "    </tr>\n",
              "    <tr>\n",
              "      <th>Scotland Division 2</th>\n",
              "      <td>180</td>\n",
              "      <td>180</td>\n",
              "      <td>79</td>\n",
              "      <td>180</td>\n",
              "      <td>180</td>\n",
              "      <td>180</td>\n",
              "      <td>180</td>\n",
              "      <td>180</td>\n",
              "      <td>180</td>\n",
              "      <td>180</td>\n",
              "      <td>180</td>\n",
              "      <td>180</td>\n",
              "      <td>180</td>\n",
              "      <td>180</td>\n",
              "      <td>180</td>\n",
              "      <td>180</td>\n",
              "      <td>180</td>\n",
              "      <td>180</td>\n",
              "      <td>180</td>\n",
              "      <td>139</td>\n",
              "      <td>0</td>\n",
              "    </tr>\n",
              "    <tr>\n",
              "      <th>Scotland Division 3</th>\n",
              "      <td>180</td>\n",
              "      <td>180</td>\n",
              "      <td>79</td>\n",
              "      <td>111</td>\n",
              "      <td>164</td>\n",
              "      <td>180</td>\n",
              "      <td>180</td>\n",
              "      <td>180</td>\n",
              "      <td>180</td>\n",
              "      <td>180</td>\n",
              "      <td>180</td>\n",
              "      <td>180</td>\n",
              "      <td>180</td>\n",
              "      <td>180</td>\n",
              "      <td>180</td>\n",
              "      <td>180</td>\n",
              "      <td>180</td>\n",
              "      <td>180</td>\n",
              "      <td>180</td>\n",
              "      <td>137</td>\n",
              "      <td>0</td>\n",
              "    </tr>\n",
              "    <tr>\n",
              "      <th>Scotland Premier League</th>\n",
              "      <td>228</td>\n",
              "      <td>228</td>\n",
              "      <td>175</td>\n",
              "      <td>111</td>\n",
              "      <td>127</td>\n",
              "      <td>228</td>\n",
              "      <td>228</td>\n",
              "      <td>228</td>\n",
              "      <td>228</td>\n",
              "      <td>228</td>\n",
              "      <td>228</td>\n",
              "      <td>228</td>\n",
              "      <td>228</td>\n",
              "      <td>228</td>\n",
              "      <td>228</td>\n",
              "      <td>228</td>\n",
              "      <td>228</td>\n",
              "      <td>228</td>\n",
              "      <td>228</td>\n",
              "      <td>179</td>\n",
              "      <td>21</td>\n",
              "    </tr>\n",
              "    <tr>\n",
              "      <th>Spain La Liga Primera Division</th>\n",
              "      <td>380</td>\n",
              "      <td>380</td>\n",
              "      <td>380</td>\n",
              "      <td>380</td>\n",
              "      <td>268</td>\n",
              "      <td>380</td>\n",
              "      <td>380</td>\n",
              "      <td>380</td>\n",
              "      <td>380</td>\n",
              "      <td>380</td>\n",
              "      <td>380</td>\n",
              "      <td>380</td>\n",
              "      <td>380</td>\n",
              "      <td>380</td>\n",
              "      <td>380</td>\n",
              "      <td>380</td>\n",
              "      <td>380</td>\n",
              "      <td>380</td>\n",
              "      <td>380</td>\n",
              "      <td>380</td>\n",
              "      <td>0</td>\n",
              "    </tr>\n",
              "    <tr>\n",
              "      <th>Spain La Liga Segunda Division</th>\n",
              "      <td>462</td>\n",
              "      <td>414</td>\n",
              "      <td>239</td>\n",
              "      <td>158</td>\n",
              "      <td>462</td>\n",
              "      <td>462</td>\n",
              "      <td>462</td>\n",
              "      <td>446</td>\n",
              "      <td>462</td>\n",
              "      <td>462</td>\n",
              "      <td>462</td>\n",
              "      <td>462</td>\n",
              "      <td>462</td>\n",
              "      <td>462</td>\n",
              "      <td>462</td>\n",
              "      <td>462</td>\n",
              "      <td>462</td>\n",
              "      <td>462</td>\n",
              "      <td>462</td>\n",
              "      <td>462</td>\n",
              "      <td>0</td>\n",
              "    </tr>\n",
              "    <tr>\n",
              "      <th>Sweden Allsvenskan</th>\n",
              "      <td>0</td>\n",
              "      <td>0</td>\n",
              "      <td>0</td>\n",
              "      <td>0</td>\n",
              "      <td>0</td>\n",
              "      <td>0</td>\n",
              "      <td>0</td>\n",
              "      <td>0</td>\n",
              "      <td>0</td>\n",
              "      <td>0</td>\n",
              "      <td>0</td>\n",
              "      <td>0</td>\n",
              "      <td>242</td>\n",
              "      <td>242</td>\n",
              "      <td>242</td>\n",
              "      <td>242</td>\n",
              "      <td>242</td>\n",
              "      <td>242</td>\n",
              "      <td>242</td>\n",
              "      <td>242</td>\n",
              "      <td>128</td>\n",
              "    </tr>\n",
              "    <tr>\n",
              "      <th>Switzerland Super League</th>\n",
              "      <td>0</td>\n",
              "      <td>0</td>\n",
              "      <td>0</td>\n",
              "      <td>0</td>\n",
              "      <td>0</td>\n",
              "      <td>0</td>\n",
              "      <td>0</td>\n",
              "      <td>0</td>\n",
              "      <td>0</td>\n",
              "      <td>0</td>\n",
              "      <td>0</td>\n",
              "      <td>0</td>\n",
              "      <td>180</td>\n",
              "      <td>180</td>\n",
              "      <td>180</td>\n",
              "      <td>180</td>\n",
              "      <td>180</td>\n",
              "      <td>180</td>\n",
              "      <td>182</td>\n",
              "      <td>182</td>\n",
              "      <td>0</td>\n",
              "    </tr>\n",
              "    <tr>\n",
              "      <th>Turkey Futbol Ligi 1</th>\n",
              "      <td>306</td>\n",
              "      <td>306</td>\n",
              "      <td>130</td>\n",
              "      <td>306</td>\n",
              "      <td>306</td>\n",
              "      <td>306</td>\n",
              "      <td>290</td>\n",
              "      <td>306</td>\n",
              "      <td>306</td>\n",
              "      <td>272</td>\n",
              "      <td>306</td>\n",
              "      <td>306</td>\n",
              "      <td>306</td>\n",
              "      <td>306</td>\n",
              "      <td>306</td>\n",
              "      <td>306</td>\n",
              "      <td>306</td>\n",
              "      <td>306</td>\n",
              "      <td>306</td>\n",
              "      <td>306</td>\n",
              "      <td>0</td>\n",
              "    </tr>\n",
              "    <tr>\n",
              "      <th>USA MLS</th>\n",
              "      <td>0</td>\n",
              "      <td>0</td>\n",
              "      <td>0</td>\n",
              "      <td>0</td>\n",
              "      <td>0</td>\n",
              "      <td>0</td>\n",
              "      <td>0</td>\n",
              "      <td>0</td>\n",
              "      <td>0</td>\n",
              "      <td>0</td>\n",
              "      <td>0</td>\n",
              "      <td>0</td>\n",
              "      <td>338</td>\n",
              "      <td>338</td>\n",
              "      <td>338</td>\n",
              "      <td>357</td>\n",
              "      <td>357</td>\n",
              "      <td>391</td>\n",
              "      <td>408</td>\n",
              "      <td>421</td>\n",
              "      <td>83</td>\n",
              "    </tr>\n",
              "  </tbody>\n",
              "</table>\n",
              "</div>"
            ],
            "text/plain": [
              "Season                          2000-01-01  2001-01-01  ...  2019-01-01  2020-01-01\n",
              "League                                                  ...                        \n",
              "Argentina Primera Division               0           0  ...         276           0\n",
              "Belgium Jupiler League                 306         306  ...         232          18\n",
              "Brazil Serie A                           0           0  ...         380          36\n",
              "China Super League                       0           0  ...         240          44\n",
              "Denmark Superliga                        0           0  ...         243           0\n",
              "England Championship                   552         552  ...         552           0\n",
              "England Conference                       0           0  ...         451           0\n",
              "England League 1                       552         552  ...         400           0\n",
              "England League 2                       552         552  ...         440           0\n",
              "England Premier League                 380         380  ...         380           0\n",
              "Finland Veikkausliiga                    0           0  ...         169          58\n",
              "France Division 2                      380         351  ...         280           0\n",
              "France Le Championnat                  306         306  ...         279           0\n",
              "Germany Bundesliga 1                   306         306  ...         306           0\n",
              "Germany Bundesliga 2                   306         306  ...         306           0\n",
              "Greece Bundesliga                        0           0  ...         195           0\n",
              "Greece Ethniki Katigoria                80          47  ...         240           0\n",
              "Ireland Premier Division                 0           0  ...         186           0\n",
              "Italy Serie A                          306         306  ...         380           0\n",
              "Italy Serie B                          380         332  ...         380           0\n",
              "Japan J-League                           0           0  ...         299           0\n",
              "Mexico Liga MX                           0           0  ...         274          45\n",
              "Netherlands Eredivisie                 306         306  ...         232           0\n",
              "Norway Eliteserien                       0           0  ...         242         113\n",
              "Poland Ekstraklasa                       0           0  ...         296           0\n",
              "Portugal Liga I                        306         306  ...         306           0\n",
              "Romania Liga 1                           0           0  ...         262           0\n",
              "Russia Premier League                    0           0  ...         240          24\n",
              "Scotland Division 1                    180         180  ...         137           0\n",
              "Scotland Division 2                    180         180  ...         139           0\n",
              "Scotland Division 3                    180         180  ...         137           0\n",
              "Scotland Premier League                228         228  ...         179          21\n",
              "Spain La Liga Primera Division         380         380  ...         380           0\n",
              "Spain La Liga Segunda Division         462         414  ...         462           0\n",
              "Sweden Allsvenskan                       0           0  ...         242         128\n",
              "Switzerland Super League                 0           0  ...         182           0\n",
              "Turkey Futbol Ligi 1                   306         306  ...         306           0\n",
              "USA MLS                                  0           0  ...         421          83\n",
              "\n",
              "[38 rows x 21 columns]"
            ]
          },
          "metadata": {
            "tags": []
          },
          "execution_count": 35
        }
      ]
    },
    {
      "cell_type": "markdown",
      "metadata": {
        "id": "piPi2ZuUXaU7"
      },
      "source": [
        "# Wins/Draws stats"
      ]
    },
    {
      "cell_type": "code",
      "metadata": {
        "id": "IhYDO1QGh1lJ",
        "outputId": "27d643c8-3968-478e-984f-92b84ec2a310",
        "colab": {
          "base_uri": "https://localhost:8080/",
          "height": 50
        }
      },
      "source": [
        "soccer_data2['FTR'].unique()"
      ],
      "execution_count": 36,
      "outputs": [
        {
          "output_type": "execute_result",
          "data": {
            "text/plain": [
              "['H', 'D', 'A', '']\n",
              "Categories (4, object): ['H', 'D', 'A', '']"
            ]
          },
          "metadata": {
            "tags": []
          },
          "execution_count": 36
        }
      ]
    },
    {
      "cell_type": "markdown",
      "metadata": {
        "id": "IYhxwIYfh6dS"
      },
      "source": [
        "Vemos que há algumas linhas com resultado não definido, vamos adicionar o resultado paseado nas colunas FTHG e FTAG(Full Time Home Team Goals and Full Time AWAY Team Goals)"
      ]
    },
    {
      "cell_type": "code",
      "metadata": {
        "id": "tyvzPZZpiAk0"
      },
      "source": [
        "soccer_data2.loc[((soccer_data2['FTR'] == '') & (soccer_data2['FTHG'] > soccer_data2['FTAG'])), 'FTR'] = 'H'\n",
        "soccer_data2.loc[((soccer_data2['FTR'] == '') & (soccer_data2['FTHG'] < soccer_data2['FTAG'])), 'FTR'] = 'A'\n",
        "soccer_data2.loc[((soccer_data2['FTR'] == '') & (soccer_data2['FTHG'] == soccer_data2['FTAG'])), 'FTR'] = 'D'"
      ],
      "execution_count": 37,
      "outputs": []
    },
    {
      "cell_type": "code",
      "metadata": {
        "id": "wTPzaIFZ1Fh6",
        "outputId": "a9d0d3d4-38ef-4b6d-a002-374081812dc3",
        "colab": {
          "base_uri": "https://localhost:8080/",
          "height": 50
        }
      },
      "source": [
        "soccer_data2['FTR'].unique()"
      ],
      "execution_count": 38,
      "outputs": [
        {
          "output_type": "execute_result",
          "data": {
            "text/plain": [
              "['H', 'D', 'A']\n",
              "Categories (3, object): ['H', 'D', 'A']"
            ]
          },
          "metadata": {
            "tags": []
          },
          "execution_count": 38
        }
      ]
    },
    {
      "cell_type": "code",
      "metadata": {
        "id": "jL9xF6txMBf3",
        "outputId": "b1a8cbff-dc53-4932-8c08-817d12b9a813",
        "colab": {
          "base_uri": "https://localhost:8080/",
          "height": 363
        }
      },
      "source": [
        "p_wins_draw = soccer_data2[\"FTR\"].value_counts(normalize=True) * 100\n",
        "p_wins_draw.plot.bar(title='Percentage of Home/Away Wins and Draws');\n",
        "print(p_wins_draw)"
      ],
      "execution_count": 39,
      "outputs": [
        {
          "output_type": "stream",
          "text": [
            "H    45.061156\n",
            "A    28.359676\n",
            "D    26.579168\n",
            "      0.000000\n",
            "Name: FTR, dtype: float64\n"
          ],
          "name": "stdout"
        },
        {
          "output_type": "display_data",
          "data": {
            "image/png": "[encoded data removed]",
            "text/plain": [
              "<Figure size 432x288 with 1 Axes>"
            ]
          },
          "metadata": {
            "tags": [],
            "needs_background": "light"
          }
        }
      ]
    },
    {
      "cell_type": "code",
      "metadata": {
        "id": "5lAcNVfcEgW9",
        "outputId": "0c08a50e-619d-41f9-e7e0-6edc89bbdeb2",
        "colab": {
          "base_uri": "https://localhost:8080/",
          "height": 902
        }
      },
      "source": [
        "result_by_league = soccer_data2.groupby(\"League\")[\"FTR\"].value_counts(normalize=True) * 100\n",
        "\n",
        "#result_by_league.unstack(0).plot.bar(rot=1, subplots=True,figsize=(20,100));\n",
        "\n",
        "fig, axes = plt.subplots(2,2, figsize=(35,20))\n",
        "\n",
        "result_by_league[:30].unstack(1).plot.bar(rot=45, ax=axes[0][0])\n",
        "result_by_league[30:60].unstack(1).plot.bar(rot=45, ax=axes[0][1])\n",
        "result_by_league[60:90].unstack(1).plot.bar(rot=45, ax=axes[1][0])\n",
        "result_by_league[90:].unstack(1).plot.bar(rot=45, ax=axes[1][1])\n",
        "\n",
        "plt.show()"
      ],
      "execution_count": 40,
      "outputs": [
        {
          "output_type": "display_data",
          "data": {
            "image/png": "[encoded data removed]",
            "text/plain": [
              "<Figure size 2520x1440 with 4 Axes>"
            ]
          },
          "metadata": {
            "tags": [],
            "needs_background": "light"
          }
        }
      ]
    },
    {
      "cell_type": "code",
      "metadata": {
        "id": "wehEkKyaM3kr"
      },
      "source": [
        "result_by_league.unstack(1).columns = ['AwayWin', 'Draw', 'HomeWin']"
      ],
      "execution_count": 41,
      "outputs": []
    },
    {
      "cell_type": "markdown",
      "metadata": {
        "id": "hcmgKYujhLL9"
      },
      "source": [
        "É possivel observar que em todas as ligas a vitória do Mandante é mais provável que a vitória do visitante. Vamos checar agora em quais ligas o empate é mais provavél que uma vitória do time visitante"
      ]
    },
    {
      "cell_type": "code",
      "metadata": {
        "id": "tBESPpNYKGvD",
        "outputId": "36bd3288-655e-4bec-d625-1c3b25245696",
        "colab": {
          "base_uri": "https://localhost:8080/",
          "height": 50
        }
      },
      "source": [
        "#Ligas onde há mais empates que vitórias do visitante\n",
        "soccer_data.loc[((soccer_data['FTR'] == '') & (soccer_data['FTHG'] == soccer_data['FTAG'])), 'FTR'] = 'D'\n",
        "draws_bigger_than_away_win_leagues = result_by_league.unstack(1).loc[result_by_league.unstack(1)['D'] > result_by_league.unstack(1)['A']]\n",
        "print(\"Quantidade de ligas com mais empates que vitórias do visitante: \", (draws_bigger_than_away_win_leagues.index.size))\n",
        "\n",
        "#Ligas onde há mais vitórias do visitante que empates\n",
        "soccer_data.loc[((soccer_data['FTR'] == '') & (soccer_data['FTHG'] == soccer_data['FTAG'])), 'FTR'] = 'D'\n",
        "draws_less_than_away_win_leagues = result_by_league.unstack(1).loc[result_by_league.unstack(1)['D'] < result_by_league.unstack(1)['A']]\n",
        "print(\"Quantidade de ligas com mais vitórias do visitante que empates: \", (draws_less_than_away_win_leagues.index.size))\n"
      ],
      "execution_count": 42,
      "outputs": [
        {
          "output_type": "stream",
          "text": [
            "Quantidade de ligas com mais empates que vitórias do visitante:  8\n",
            "Quantidade de ligas com mais vitórias do visitante que empates:  29\n"
          ],
          "name": "stdout"
        }
      ]
    },
    {
      "cell_type": "markdown",
      "metadata": {
        "id": "qj3mQmHzsefJ"
      },
      "source": [
        "Vimos que a vitória do mandante é, em geral, mais provavél que a vitoria dos time visitante, que, em geral, é mais provavél que o empate. Vamos checar como isso pode se relacionar com as ODD's"
      ]
    },
    {
      "cell_type": "code",
      "metadata": {
        "id": "V7U8AC17sdNi"
      },
      "source": [
        "odds_data = soccer_data2[['League','AvgH', 'AvgD', 'AvgA']].dropna(how='any')\n",
        "odds_data.columns = ['League','HomeWin','Draw', 'AwayWin']\n"
      ],
      "execution_count": 43,
      "outputs": []
    },
    {
      "cell_type": "code",
      "metadata": {
        "id": "nFy32lctCndX",
        "outputId": "1850d659-df10-4497-831b-bb1c4a16d109",
        "colab": {
          "base_uri": "https://localhost:8080/",
          "height": 402
        }
      },
      "source": [
        "odds_data"
      ],
      "execution_count": 44,
      "outputs": [
        {
          "output_type": "execute_result",
          "data": {
            "text/html": [
              "<div>\n",
              "<style scoped>\n",
              "    .dataframe tbody tr th:only-of-type {\n",
              "        vertical-align: middle;\n",
              "    }\n",
              "\n",
              "    .dataframe tbody tr th {\n",
              "        vertical-align: top;\n",
              "    }\n",
              "\n",
              "    .dataframe thead th {\n",
              "        text-align: right;\n",
              "    }\n",
              "</style>\n",
              "<table border=\"1\" class=\"dataframe\">\n",
              "  <thead>\n",
              "    <tr style=\"text-align: right;\">\n",
              "      <th></th>\n",
              "      <th>League</th>\n",
              "      <th>HomeWin</th>\n",
              "      <th>Draw</th>\n",
              "      <th>AwayWin</th>\n",
              "    </tr>\n",
              "  </thead>\n",
              "  <tbody>\n",
              "    <tr>\n",
              "      <th>0</th>\n",
              "      <td>USA MLS</td>\n",
              "      <td>1.8100</td>\n",
              "      <td>3.6200</td>\n",
              "      <td>4.339844</td>\n",
              "    </tr>\n",
              "    <tr>\n",
              "      <th>1</th>\n",
              "      <td>USA MLS</td>\n",
              "      <td>2.1800</td>\n",
              "      <td>3.6200</td>\n",
              "      <td>3.070312</td>\n",
              "    </tr>\n",
              "    <tr>\n",
              "      <th>2</th>\n",
              "      <td>Brazil Serie A</td>\n",
              "      <td>2.0700</td>\n",
              "      <td>3.0700</td>\n",
              "      <td>3.919922</td>\n",
              "    </tr>\n",
              "    <tr>\n",
              "      <th>3</th>\n",
              "      <td>USA MLS</td>\n",
              "      <td>2.6500</td>\n",
              "      <td>3.5300</td>\n",
              "      <td>2.490234</td>\n",
              "    </tr>\n",
              "    <tr>\n",
              "      <th>4</th>\n",
              "      <td>Brazil Serie A</td>\n",
              "      <td>1.7400</td>\n",
              "      <td>3.4100</td>\n",
              "      <td>5.128906</td>\n",
              "    </tr>\n",
              "    <tr>\n",
              "      <th>...</th>\n",
              "      <td>...</td>\n",
              "      <td>...</td>\n",
              "      <td>...</td>\n",
              "      <td>...</td>\n",
              "    </tr>\n",
              "    <tr>\n",
              "      <th>179798</th>\n",
              "      <td>France Le Championnat</td>\n",
              "      <td>1.9625</td>\n",
              "      <td>3.0375</td>\n",
              "      <td>3.400391</td>\n",
              "    </tr>\n",
              "    <tr>\n",
              "      <th>179799</th>\n",
              "      <td>Scotland Premier League</td>\n",
              "      <td>2.3500</td>\n",
              "      <td>3.1500</td>\n",
              "      <td>2.625000</td>\n",
              "    </tr>\n",
              "    <tr>\n",
              "      <th>179803</th>\n",
              "      <td>Scotland Premier League</td>\n",
              "      <td>2.3575</td>\n",
              "      <td>3.1625</td>\n",
              "      <td>2.556641</td>\n",
              "    </tr>\n",
              "    <tr>\n",
              "      <th>179804</th>\n",
              "      <td>France Le Championnat</td>\n",
              "      <td>1.4375</td>\n",
              "      <td>3.6125</td>\n",
              "      <td>6.148438</td>\n",
              "    </tr>\n",
              "    <tr>\n",
              "      <th>179805</th>\n",
              "      <td>France Le Championnat</td>\n",
              "      <td>1.5200</td>\n",
              "      <td>3.4500</td>\n",
              "      <td>5.199219</td>\n",
              "    </tr>\n",
              "  </tbody>\n",
              "</table>\n",
              "<p>178623 rows × 4 columns</p>\n",
              "</div>"
            ],
            "text/plain": [
              "                         League  HomeWin    Draw   AwayWin\n",
              "0                       USA MLS   1.8100  3.6200  4.339844\n",
              "1                       USA MLS   2.1800  3.6200  3.070312\n",
              "2                Brazil Serie A   2.0700  3.0700  3.919922\n",
              "3                       USA MLS   2.6500  3.5300  2.490234\n",
              "4                Brazil Serie A   1.7400  3.4100  5.128906\n",
              "...                         ...      ...     ...       ...\n",
              "179798    France Le Championnat   1.9625  3.0375  3.400391\n",
              "179799  Scotland Premier League   2.3500  3.1500  2.625000\n",
              "179803  Scotland Premier League   2.3575  3.1625  2.556641\n",
              "179804    France Le Championnat   1.4375  3.6125  6.148438\n",
              "179805    France Le Championnat   1.5200  3.4500  5.199219\n",
              "\n",
              "[178623 rows x 4 columns]"
            ]
          },
          "metadata": {
            "tags": []
          },
          "execution_count": 44
        }
      ]
    },
    {
      "cell_type": "code",
      "metadata": {
        "id": "ffLyuo34CQFP",
        "outputId": "098b5f74-23d4-496c-d12e-b1bd54433eb5",
        "colab": {
          "base_uri": "https://localhost:8080/",
          "height": 368
        }
      },
      "source": [
        "ax = odds_data.mean().plot.bar(title='Média das ODDs')\n",
        "ax.set_xticklabels(['Home','Draw', 'Away'])\n",
        "\n",
        "odds_data.mean()"
      ],
      "execution_count": 45,
      "outputs": [
        {
          "output_type": "execute_result",
          "data": {
            "text/plain": [
              "HomeWin    2.384111\n",
              "Draw       3.514943\n",
              "AwayWin         NaN\n",
              "dtype: float64"
            ]
          },
          "metadata": {
            "tags": []
          },
          "execution_count": 45
        },
        {
          "output_type": "display_data",
          "data": {
            "image/png": "[encoded data removed]",
            "text/plain": [
              "<Figure size 432x288 with 1 Axes>"
            ]
          },
          "metadata": {
            "tags": [],
            "needs_background": "light"
          }
        }
      ]
    },
    {
      "cell_type": "code",
      "metadata": {
        "id": "aOvSkmDYDFOZ",
        "outputId": "be5a8913-0993-40ba-dc16-f8a514bb1917",
        "colab": {
          "base_uri": "https://localhost:8080/",
          "height": 902
        }
      },
      "source": [
        "odds_data = odds_data.groupby(\"League\").mean()\n",
        "#odds_data.plot.bar(figsize=(100,25))\n",
        "#odds_data.unstack(0).plot.bar(rot=1, subplots=True,figsize=(20,100));\n",
        "\n",
        "fig, axes = plt.subplots(2,2, figsize=(35,20))\n",
        "\n",
        "odds_data[:10].plot.bar(rot=45, ax=axes[0][0])\n",
        "odds_data[10:20].plot.bar(rot=45, ax=axes[0][1])\n",
        "odds_data[20:30].plot.bar(rot=45, ax=axes[1][0])\n",
        "odds_data[30:].plot.bar(rot=45, ax=axes[1][1])\n",
        "plt.show()"
      ],
      "execution_count": 46,
      "outputs": [
        {
          "output_type": "display_data",
          "data": {
            "image/png": "[encoded data removed]",
            "text/plain": [
              "<Figure size 2520x1440 with 4 Axes>"
            ]
          },
          "metadata": {
            "tags": [],
            "needs_background": "light"
          }
        }
      ]
    },
    {
      "cell_type": "markdown",
      "metadata": {
        "id": "AB1JfO12TY6C"
      },
      "source": [
        "# Gols stats"
      ]
    },
    {
      "cell_type": "code",
      "metadata": {
        "id": "HrYpx7hLO2ax",
        "outputId": "a34328a7-1e4c-40ab-b5d8-268ab06ec7e0",
        "colab": {
          "base_uri": "https://localhost:8080/",
          "height": 446
        }
      },
      "source": [
        "#Verificando as estatisticas de gols por jogo\n",
        "gols_in_dataset = soccer_data2['FTHG'] + soccer_data2['FTAG']\n",
        "print(gols_in_dataset.describe())\n",
        "\n",
        "%matplotlib inline\n",
        "plt.xlabel('Total de gols no jogo')\n",
        "plt.ylabel('Freq')\n",
        "plt.title('Estatisticas de gols por partida')\n",
        "plt.hist(gols_in_dataset, bins='auto');"
      ],
      "execution_count": 47,
      "outputs": [
        {
          "output_type": "stream",
          "text": [
            "count    179050.000000\n",
            "mean          2.628322\n",
            "std           1.650649\n",
            "min           0.000000\n",
            "25%           1.000000\n",
            "50%           2.000000\n",
            "75%           4.000000\n",
            "max          12.000000\n",
            "dtype: float64\n"
          ],
          "name": "stdout"
        },
        {
          "output_type": "display_data",
          "data": {
            "image/png": "[encoded data removed]",
            "text/plain": [
              "<Figure size 432x288 with 1 Axes>"
            ]
          },
          "metadata": {
            "tags": [],
            "needs_background": "light"
          }
        }
      ]
    },
    {
      "cell_type": "code",
      "metadata": {
        "id": "jJd5PVuPRqv6",
        "outputId": "0b09e650-18c9-47b2-ce4f-958fff928f4f",
        "colab": {
          "base_uri": "https://localhost:8080/",
          "height": 446
        }
      },
      "source": [
        "#Verificando as estatisticas de gols do mandante por jogo\n",
        "home_gols_in_dataset = soccer_data2['FTHG']\n",
        "print(home_gols_in_dataset.describe())\n",
        "\n",
        "%matplotlib inline\n",
        "plt.xlabel('Total de gols do mandante no jogo')\n",
        "plt.ylabel('Freq')\n",
        "plt.title('Estatisticas de gols do mandante por partida')\n",
        "plt.hist(home_gols_in_dataset, bins='auto');"
      ],
      "execution_count": 48,
      "outputs": [
        {
          "output_type": "stream",
          "text": [
            "count    179050.000000\n",
            "mean          1.491751\n",
            "std           1.257440\n",
            "min           0.000000\n",
            "25%           1.000000\n",
            "50%           1.000000\n",
            "75%           2.000000\n",
            "max          10.000000\n",
            "Name: FTHG, dtype: float64\n"
          ],
          "name": "stdout"
        },
        {
          "output_type": "display_data",
          "data": {
            "image/png": "[encoded data removed]",
            "text/plain": [
              "<Figure size 432x288 with 1 Axes>"
            ]
          },
          "metadata": {
            "tags": [],
            "needs_background": "light"
          }
        }
      ]
    },
    {
      "cell_type": "code",
      "metadata": {
        "id": "NCuwGzcWR_Q3",
        "outputId": "4f56b82a-3aa1-481f-97e1-e3b075a64422",
        "colab": {
          "base_uri": "https://localhost:8080/",
          "height": 446
        }
      },
      "source": [
        "#Verificando as estatisticas de gols do visitante por jogo\n",
        "away_gols_in_dataset = soccer_data2['FTAG']\n",
        "print(away_gols_in_dataset.describe())\n",
        "\n",
        "%matplotlib inline\n",
        "plt.xlabel('Total de gols do visitante no jogo')\n",
        "plt.ylabel('Freq')\n",
        "plt.title('Estatisticas de gols do visitante por partida')\n",
        "plt.hist(away_gols_in_dataset, bins='auto');"
      ],
      "execution_count": 49,
      "outputs": [
        {
          "output_type": "stream",
          "text": [
            "count    179050.000000\n",
            "mean          1.136571\n",
            "std           1.105950\n",
            "min           0.000000\n",
            "25%           0.000000\n",
            "50%           1.000000\n",
            "75%           2.000000\n",
            "max           9.000000\n",
            "Name: FTAG, dtype: float64\n"
          ],
          "name": "stdout"
        },
        {
          "output_type": "display_data",
          "data": {
            "image/png": "[encoded data removed]",
            "text/plain": [
              "<Figure size 432x288 with 1 Axes>"
            ]
          },
          "metadata": {
            "tags": [],
            "needs_background": "light"
          }
        }
      ]
    },
    {
      "cell_type": "markdown",
      "metadata": {
        "id": "yirHUX2CHPzx"
      },
      "source": [
        "**Half-time goals** (Gols no primeiro tempo)"
      ]
    },
    {
      "cell_type": "code",
      "metadata": {
        "id": "eipU8b2FHWQh",
        "outputId": "261dbefc-bc99-430f-9746-e6ffde3477f5",
        "colab": {
          "base_uri": "https://localhost:8080/",
          "height": 446
        }
      },
      "source": [
        "#Verificando as estatisticas de gols por jogo no intervalo\n",
        "ht_gols_in_dataset = soccer_data2['HTHG'] + soccer_data2['HTAG']\n",
        "print(ht_gols_in_dataset.describe())\n",
        "\n",
        "%matplotlib inline\n",
        "plt.xlabel('Total de gols no intervalo')\n",
        "plt.ylabel('Freq')\n",
        "plt.title('Estatisticas de gols no intervalo por partida')\n",
        "plt.hist(ht_gols_in_dataset, bins='auto');"
      ],
      "execution_count": 50,
      "outputs": [
        {
          "output_type": "stream",
          "text": [
            "count    179050.00000\n",
            "mean          0.54544\n",
            "std           1.56856\n",
            "min          -2.00000\n",
            "25%           0.00000\n",
            "50%           1.00000\n",
            "75%           2.00000\n",
            "max           9.00000\n",
            "dtype: float64\n"
          ],
          "name": "stdout"
        },
        {
          "output_type": "display_data",
          "data": {
            "image/png": "[encoded data removed]",
            "text/plain": [
              "<Figure size 432x288 with 1 Axes>"
            ]
          },
          "metadata": {
            "tags": [],
            "needs_background": "light"
          }
        }
      ]
    },
    {
      "cell_type": "markdown",
      "metadata": {
        "id": "ebCA5gJpITh0"
      },
      "source": [
        "alguns jogos possuem gols negativos no intervalo, vamos investigar isso"
      ]
    },
    {
      "cell_type": "code",
      "metadata": {
        "id": "wpy4HTUNIYDE",
        "outputId": "e6462a38-3657-4713-f896-da6c7a7e6673",
        "colab": {
          "base_uri": "https://localhost:8080/",
          "height": 34
        }
      },
      "source": [
        "len(soccer_data2[soccer_data2['HTHG'] + soccer_data2['HTAG'] < 0])"
      ],
      "execution_count": 51,
      "outputs": [
        {
          "output_type": "execute_result",
          "data": {
            "text/plain": [
              "34410"
            ]
          },
          "metadata": {
            "tags": []
          },
          "execution_count": 51
        }
      ]
    },
    {
      "cell_type": "markdown",
      "metadata": {
        "id": "ilaXO-glJBQJ"
      },
      "source": [
        "Existem pouco mais de 34 mil linhas com valores inválidos de gols no intervalo, para essa analise vamos usar só as linhas válidas\n",
        "\n",
        "_Duvida_: nesse caso devo excluir as linhas do dataset? pq elas são uteis para analisar o total de gols por exemplo\n",
        "\n"
      ]
    },
    {
      "cell_type": "code",
      "metadata": {
        "id": "qMPlhPs9JkHG"
      },
      "source": [
        "valid_half_time_goals = soccer_data2[soccer_data2['HTHG'] + soccer_data2['HTAG'] >= 0]"
      ],
      "execution_count": 52,
      "outputs": []
    },
    {
      "cell_type": "code",
      "metadata": {
        "id": "PDN8uYK7JJQn",
        "outputId": "a39f16a3-5e34-4264-be5d-5b45614fcabc",
        "colab": {
          "base_uri": "https://localhost:8080/",
          "height": 446
        }
      },
      "source": [
        "#Verificando as estatisticas de gols por jogo\n",
        "half_time_gols_in_dataset = valid_half_time_goals['HTHG'] + valid_half_time_goals['HTAG']\n",
        "print(half_time_gols_in_dataset.describe())\n",
        "\n",
        "%matplotlib inline\n",
        "plt.xlabel('Total de gols no intervalo')\n",
        "plt.ylabel('Freq')\n",
        "plt.title('Estatisticas de gols no intervalo por partida')\n",
        "plt.hist(half_time_gols_in_dataset, bins='auto');"
      ],
      "execution_count": 53,
      "outputs": [
        {
          "output_type": "stream",
          "text": [
            "count    144640.000000\n",
            "mean          1.151002\n",
            "std           1.066569\n",
            "min           0.000000\n",
            "25%           0.000000\n",
            "50%           1.000000\n",
            "75%           2.000000\n",
            "max           9.000000\n",
            "dtype: float64\n"
          ],
          "name": "stdout"
        },
        {
          "output_type": "display_data",
          "data": {
            "image/png": "[encoded data removed]",
            "text/plain": [
              "<Figure size 432x288 with 1 Axes>"
            ]
          },
          "metadata": {
            "tags": [],
            "needs_background": "light"
          }
        }
      ]
    },
    {
      "cell_type": "code",
      "metadata": {
        "id": "DdC8Sff3J56H",
        "outputId": "34681790-15cf-4bad-97b2-b50a56bcfc49",
        "colab": {
          "base_uri": "https://localhost:8080/",
          "height": 446
        }
      },
      "source": [
        "#Verificando as estatisticas de gols no intervalo do mandante por jogo\n",
        "H_hft_gols_in_dataset = valid_half_time_goals['HTHG']\n",
        "print(H_hft_gols_in_dataset.describe())\n",
        "\n",
        "%matplotlib inline\n",
        "plt.xlabel('Total de gols do mandante no intervalo do jogo')\n",
        "plt.ylabel('Freq')\n",
        "plt.title('Estatisticas de gols do mandante no intervalo por partida')\n",
        "plt.hist(H_hft_gols_in_dataset, bins='auto');"
      ],
      "execution_count": 54,
      "outputs": [
        {
          "output_type": "stream",
          "text": [
            "count    144640.000000\n",
            "mean          0.657211\n",
            "std           0.810689\n",
            "min           0.000000\n",
            "25%           0.000000\n",
            "50%           0.000000\n",
            "75%           1.000000\n",
            "max           7.000000\n",
            "Name: HTHG, dtype: float64\n"
          ],
          "name": "stdout"
        },
        {
          "output_type": "display_data",
          "data": {
            "image/png": "[encoded data removed]",
            "text/plain": [
              "<Figure size 432x288 with 1 Axes>"
            ]
          },
          "metadata": {
            "tags": [],
            "needs_background": "light"
          }
        }
      ]
    },
    {
      "cell_type": "code",
      "metadata": {
        "id": "wPWxF8dxKJKE",
        "outputId": "32f5cdb6-fab9-4edb-c422-c732b8952d5d",
        "colab": {
          "base_uri": "https://localhost:8080/",
          "height": 446
        }
      },
      "source": [
        "#Verificando as estatisticas de gols no intervalo do visitante por jogo\n",
        "H_aft_gols_in_dataset = valid_half_time_goals['HTAG']\n",
        "print(H_aft_gols_in_dataset.describe())\n",
        "\n",
        "%matplotlib inline\n",
        "plt.xlabel('Total de gols do visitante no intervalo do jogo')\n",
        "plt.ylabel('Freq')\n",
        "plt.title('Estatisticas de gols do visitante no intervalo por partida')\n",
        "plt.hist(H_aft_gols_in_dataset, bins='auto');"
      ],
      "execution_count": 55,
      "outputs": [
        {
          "output_type": "stream",
          "text": [
            "count    144640.000000\n",
            "mean          0.493791\n",
            "std           0.707229\n",
            "min           0.000000\n",
            "25%           0.000000\n",
            "50%           0.000000\n",
            "75%           1.000000\n",
            "max           6.000000\n",
            "Name: HTAG, dtype: float64\n"
          ],
          "name": "stdout"
        },
        {
          "output_type": "display_data",
          "data": {
            "image/png": "[encoded data removed]",
            "text/plain": [
              "<Figure size 432x288 with 1 Axes>"
            ]
          },
          "metadata": {
            "tags": [],
            "needs_background": "light"
          }
        }
      ]
    },
    {
      "cell_type": "markdown",
      "metadata": {
        "id": "2OZ9Kf-3M4Io"
      },
      "source": [
        "# Under and Over 2.5 goals / match stats"
      ]
    },
    {
      "cell_type": "code",
      "metadata": {
        "id": "AC12zPOikzjp",
        "outputId": "5bf744ba-2c99-407e-8b31-8cae17622c1b",
        "colab": {
          "base_uri": "https://localhost:8080/",
          "height": 329
        }
      },
      "source": [
        "#Precisamos da a informação se determinado jogo teve mais ou menos que 2.5 gols\n",
        "#ps: 1 se o jogo teve mais de 2.5 gols, e 0 caso contrário\n",
        "\n",
        "Over_Under_goals = ((soccer_data2['FTHG'] + soccer_data2['FTAG']) > 2.5).astype('int8') #Usando boolean filtering\n",
        "\n",
        "p_g = Over_Under_goals.value_counts(normalize=True) * 100\n",
        "p_g.plot.bar(title='Percentage of Over and Under 2.5 goals');\n",
        "print(p_g)"
      ],
      "execution_count": 56,
      "outputs": [
        {
          "output_type": "stream",
          "text": [
            "0    51.192404\n",
            "1    48.807596\n",
            "dtype: float64\n"
          ],
          "name": "stdout"
        },
        {
          "output_type": "display_data",
          "data": {
            "image/png": "[encoded data removed]",
            "text/plain": [
              "<Figure size 432x288 with 1 Axes>"
            ]
          },
          "metadata": {
            "tags": [],
            "needs_background": "light"
          }
        }
      ]
    },
    {
      "cell_type": "markdown",
      "metadata": {
        "id": "Vyva9oGQ6IyR"
      },
      "source": [
        "# Time-series analysis"
      ]
    },
    {
      "cell_type": "code",
      "metadata": {
        "id": "YYJx3kDWu3LS"
      },
      "source": [
        "soccer_data2['FTHG_dist']= pd.cut(soccer_data2['FTHG'],2)"
      ],
      "execution_count": 57,
      "outputs": []
    },
    {
      "cell_type": "code",
      "metadata": {
        "id": "AbhKw4oDwU-M",
        "outputId": "f091e3d3-2229-40de-8acf-324fe1c7aadc",
        "colab": {
          "base_uri": "https://localhost:8080/",
          "height": 67
        }
      },
      "source": [
        "soccer_data2['FTHG_dist'].value_counts()"
      ],
      "execution_count": 58,
      "outputs": [
        {
          "output_type": "execute_result",
          "data": {
            "text/plain": [
              "(-0.01, 5.0]    177883\n",
              "(5.0, 10.0]       1167\n",
              "Name: FTHG_dist, dtype: int64"
            ]
          },
          "metadata": {
            "tags": []
          },
          "execution_count": 58
        }
      ]
    },
    {
      "cell_type": "code",
      "metadata": {
        "id": "JY0qEB4jwijb",
        "outputId": "0a8c2b77-bf24-4aaa-87cd-7ce61521ae71",
        "colab": {
          "base_uri": "https://localhost:8080/",
          "height": 101
        }
      },
      "source": [
        "soccer_data2.columns"
      ],
      "execution_count": 59,
      "outputs": [
        {
          "output_type": "execute_result",
          "data": {
            "text/plain": [
              "Index(['Season', 'Country', 'League', 'Div', 'Datetime', 'HomeTeam',\n",
              "       'AwayTeam', 'FTHG', 'FTAG', 'FTR', 'HTHG', 'HTAG', 'HTR', 'HS', 'AS',\n",
              "       'HST', 'AST', 'HC', 'AC', 'HF', 'AF', 'HY', 'AY', 'HR', 'AR', 'AvgH',\n",
              "       'AvgD', 'AvgA', 'Avg>2.5', 'Avg<2.5', 'FTHG_dist'],\n",
              "      dtype='object')"
            ]
          },
          "metadata": {
            "tags": []
          },
          "execution_count": 59
        }
      ]
    },
    {
      "cell_type": "code",
      "metadata": {
        "id": "kwJ69rnE3kfu",
        "outputId": "628ae727-06dc-44b8-a29a-9c2f7e039ed1",
        "colab": {
          "base_uri": "https://localhost:8080/",
          "height": 1000
        }
      },
      "source": [
        "import matplotlib.pyplot as plt\n",
        "import seaborn; seaborn.set()\n",
        "import seaborn as sns\n",
        "\n",
        "%matplotlib inline\n",
        "\n",
        "soccer_data2['Over_2_5_gols'] = Over_Under_goals\n",
        "\n",
        "plt.figure(figsize=(12, 8));\n",
        "data = soccer_data2[['Season', 'Over_2_5_gols']]\n",
        "data = data.set_index('Season')\n",
        "resampled = data.resample(\"y\").mean()\n",
        "\n",
        "resampled.plot(title='Evolução Over 2.5 gols com o passar dos anos');\n",
        "\n",
        "#----------------------#\n",
        "plt.figure(figsize=(12, 8))\n",
        "data = soccer_data2[['Season', 'FTHG']]\n",
        "data = data.set_index('Season')\n",
        "resampled = data.resample(\"y\").mean()\n",
        "\n",
        "resampled.plot(title='Evolução \"Gols do mandante no jogo\" com o passar das temporadas');\n",
        "\n",
        "#----------------------#\n",
        "plt.figure(figsize=(12, 8))\n",
        "data = soccer_data2[['Season', 'FTAG']]\n",
        "data = data.set_index('Season')\n",
        "resampled = data.resample(\"y\").mean()\n",
        "\n",
        "resampled.plot(title='Evolução \"Gols do visitante no jogo\" com o passar das temporadas');\n",
        "\n",
        "#----------------------#\n",
        "data = soccer_data2.groupby('Season').FTR.value_counts(normalize=True).unstack(1)\n",
        "\n",
        "data.plot(title='Evolução \"Resultado final do jogo\" com o passar das temporadas');\n",
        "#----------------------#\n",
        "data = soccer_data2.groupby('Season').HTR.value_counts(normalize=True).unstack(1)\n",
        "\n",
        "data.plot(title='Evolução \"Resultado no intervalo do jogo\" com o passar das temporadas');\n",
        "#----------------------#"
      ],
      "execution_count": 60,
      "outputs": [
        {
          "output_type": "display_data",
          "data": {
            "text/plain": [
              "<Figure size 864x576 with 0 Axes>"
            ]
          },
          "metadata": {
            "tags": []
          }
        },
        {
          "output_type": "display_data",
          "data": {
            "image/png": "[encoded data removed]",
            "text/plain": [
              "<Figure size 432x288 with 1 Axes>"
            ]
          },
          "metadata": {
            "tags": [],
            "needs_background": "light"
          }
        },
        {
          "output_type": "display_data",
          "data": {
            "text/plain": [
              "<Figure size 864x576 with 0 Axes>"
            ]
          },
          "metadata": {
            "tags": []
          }
        },
        {
          "output_type": "display_data",
          "data": {
            "image/png": "[encoded data removed]",
            "text/plain": [
              "<Figure size 432x288 with 1 Axes>"
            ]
          },
          "metadata": {
            "tags": [],
            "needs_background": "light"
          }
        },
        {
          "output_type": "display_data",
          "data": {
            "text/plain": [
              "<Figure size 864x576 with 0 Axes>"
            ]
          },
          "metadata": {
            "tags": []
          }
        },
        {
          "output_type": "display_data",
          "data": {
            "image/png": "[encoded data removed]",
            "text/plain": [
              "<Figure size 432x288 with 1 Axes>"
            ]
          },
          "metadata": {
            "tags": [],
            "needs_background": "light"
          }
        },
        {
          "output_type": "display_data",
          "data": {
            "image/png": "[encoded data removed]",
            "text/plain": [
              "<Figure size 432x288 with 1 Axes>"
            ]
          },
          "metadata": {
            "tags": [],
            "needs_background": "light"
          }
        },
        {
          "output_type": "display_data",
          "data": {
            "image/png": "[encoded data removed]",
            "text/plain": [
              "<Figure size 432x288 with 1 Axes>"
            ]
          },
          "metadata": {
            "tags": [],
            "needs_background": "light"
          }
        }
      ]
    },
    {
      "cell_type": "code",
      "metadata": {
        "id": "vjw4LBTALRT3",
        "outputId": "44f0bdc2-d510-4fec-c433-3a48025d7bfd",
        "colab": {
          "base_uri": "https://localhost:8080/",
          "height": 101
        }
      },
      "source": [
        "soccer_data2.columns"
      ],
      "execution_count": 61,
      "outputs": [
        {
          "output_type": "execute_result",
          "data": {
            "text/plain": [
              "Index(['Season', 'Country', 'League', 'Div', 'Datetime', 'HomeTeam',\n",
              "       'AwayTeam', 'FTHG', 'FTAG', 'FTR', 'HTHG', 'HTAG', 'HTR', 'HS', 'AS',\n",
              "       'HST', 'AST', 'HC', 'AC', 'HF', 'AF', 'HY', 'AY', 'HR', 'AR', 'AvgH',\n",
              "       'AvgD', 'AvgA', 'Avg>2.5', 'Avg<2.5', 'FTHG_dist', 'Over_2_5_gols'],\n",
              "      dtype='object')"
            ]
          },
          "metadata": {
            "tags": []
          },
          "execution_count": 61
        }
      ]
    },
    {
      "cell_type": "markdown",
      "metadata": {
        "id": "xB6Hmn5ha1iX"
      },
      "source": [
        "# Testes de Hipótese"
      ]
    },
    {
      "cell_type": "markdown",
      "metadata": {
        "id": "2q_Sz4U5Izc1"
      },
      "source": [
        "Diferença\tde numero de gols\tentre\ttime mandante e time visitante é siginificante?\t\n",
        "\n",
        "H0: não há diferença <br>\n",
        "H1: há diferença"
      ]
    },
    {
      "cell_type": "code",
      "metadata": {
        "id": "7wXSYZw9IpE1",
        "outputId": "8c6f0f22-5163-4293-fb35-60a1e18266d6",
        "colab": {
          "base_uri": "https://localhost:8080/",
          "height": 50
        }
      },
      "source": [
        "stat, p = stats.mannwhitneyu(home_gols_in_dataset, away_gols_in_dataset)\n",
        "alpha = 0.05\n",
        "if p > alpha:\n",
        "\tprint('Mesma distribuição (falha ao rejeitar H0)')\n",
        "else:\n",
        "\tprint('Distribuição diferente (rejeitar H0)\\np = ', p)"
      ],
      "execution_count": 134,
      "outputs": [
        {
          "output_type": "stream",
          "text": [
            "Distribuição diferente (rejeitar H0)\n",
            "p =  0.0\n"
          ],
          "name": "stdout"
        }
      ]
    },
    {
      "cell_type": "code",
      "metadata": {
        "id": "YeKP4JF5biBU",
        "outputId": "7aa2701e-8113-411f-d624-f08b8cdd6cbe",
        "colab": {
          "base_uri": "https://localhost:8080/",
          "height": 285
        }
      },
      "source": [
        "sns.boxplot(data=[home_gols_in_dataset, away_gols_in_dataset]).set(ylabel='Gols Totais', xlabel='Liga')\n",
        "plt.xticks(plt.xticks()[0], ['Mandante', 'Visistante'])\n",
        "\n",
        "plt.show()"
      ],
      "execution_count": 127,
      "outputs": [
        {
          "output_type": "display_data",
          "data": {
            "image/png": "[encoded data removed]",
            "text/plain": [
              "<Figure size 432x288 with 1 Axes>"
            ]
          },
          "metadata": {
            "tags": [],
            "needs_background": "light"
          }
        }
      ]
    },
    {
      "cell_type": "markdown",
      "metadata": {
        "id": "6z0KlekLMSj8"
      },
      "source": [
        "O índice de gols na Liga Brasileira é diferente da média mundial?\n",
        "H0: é igual <br>\n",
        "H1: é maior\n",
        "\n",
        "-> DÚVIDA: DEVO USAR OS DADOS DA LIGA BRASILEIRA DENTRO DAS ESTATISTICAS GLOBAIS NA COMPARAÇÃO?"
      ]
    },
    {
      "cell_type": "code",
      "metadata": {
        "id": "_wg3d26tMYGx",
        "outputId": "a92e2d07-7b9a-4a8e-fcff-029de767ee34",
        "colab": {
          "base_uri": "https://localhost:8080/",
          "height": 420
        }
      },
      "source": [
        "gols_in_brazilian_league = soccer_data2.loc[soccer_data2['League'] == 'Brazil Serie A',['FTAG','FTHG']].sum(axis=1)\n",
        "\n",
        "print(\"\\nEstatisticas globais:\\n\\n\", gols_in_dataset.describe())\n",
        "print(\"\\nEstatisticas liga Brasil:\\n\\n\", gols_in_brazilian_league.describe())"
      ],
      "execution_count": 90,
      "outputs": [
        {
          "output_type": "stream",
          "text": [
            "\n",
            "Estatisticas globais:\n",
            "\n",
            " count    179050.000000\n",
            "mean          2.628322\n",
            "std           1.650649\n",
            "min           0.000000\n",
            "25%           1.000000\n",
            "50%           2.000000\n",
            "75%           4.000000\n",
            "max          12.000000\n",
            "dtype: float64\n",
            "\n",
            "Estatisticas liga Brasil:\n",
            "\n",
            " count    3076.000000\n",
            "mean        2.358257\n",
            "std         1.541955\n",
            "min         0.000000\n",
            "25%         1.000000\n",
            "50%         2.000000\n",
            "75%         3.000000\n",
            "max         9.000000\n",
            "dtype: float64\n"
          ],
          "name": "stdout"
        }
      ]
    },
    {
      "cell_type": "code",
      "metadata": {
        "id": "s73-pWUDQRvP",
        "outputId": "734073df-a30f-4d51-d030-a7705a6267b7",
        "colab": {
          "base_uri": "https://localhost:8080/",
          "height": 50
        }
      },
      "source": [
        "stat, p = stats.mannwhitneyu(gols_in_dataset, gols_in_brazilian_league)\n",
        "\n",
        "alpha = 0.05\n",
        "if p > alpha:\n",
        "\tprint('Mesma distribuição (falha ao rejeitar H0)')\n",
        "else:\n",
        "\tprint('Distribuição diferente (rejeitar H0)\\np = ', p)"
      ],
      "execution_count": 133,
      "outputs": [
        {
          "output_type": "stream",
          "text": [
            "Distribuição diferente (rejeitar H0)\n",
            "p =  8.008826349004453e-20\n"
          ],
          "name": "stdout"
        }
      ]
    },
    {
      "cell_type": "code",
      "metadata": {
        "id": "nOXW3cCIRr2K",
        "outputId": "979da29f-6de5-47ce-db34-b679417a4e4a",
        "colab": {
          "base_uri": "https://localhost:8080/",
          "height": 285
        }
      },
      "source": [
        "sns.boxplot(data=[gols_in_dataset, gols_in_brazilian_league]).set(ylabel='Gols Totais', xlabel='Liga')\n",
        "plt.xticks(plt.xticks()[0], ['Global', 'Liga Brasileira'])\n",
        "\n",
        "plt.show()"
      ],
      "execution_count": 110,
      "outputs": [
        {
          "output_type": "display_data",
          "data": {
            "image/png": "[encoded data removed]",
            "text/plain": [
              "<Figure size 432x288 with 1 Axes>"
            ]
          },
          "metadata": {
            "tags": [],
            "needs_background": "light"
          }
        }
      ]
    },
    {
      "cell_type": "markdown",
      "metadata": {
        "id": "ogme9iErfECd"
      },
      "source": [
        "Vemos que há uma diferença entre os dados da Liga Brasileira e Global, a Liga Brasileira possui em média um número menor de gols quando comparado ao Globo\n",
        "\n",
        "\n",
        "---\n",
        "\n"
      ]
    },
    {
      "cell_type": "markdown",
      "metadata": {
        "id": "zhBR0cqJVE3y"
      },
      "source": [
        "Comparando duas ligas com grande número de jogos nos dados"
      ]
    },
    {
      "cell_type": "code",
      "metadata": {
        "id": "58HOYaQRSL01",
        "outputId": "79b1f537-f266-464a-a254-c2155d224e24",
        "colab": {
          "base_uri": "https://localhost:8080/",
          "height": 134
        }
      },
      "source": [
        "soccer_data.groupby('League')['League'].count().sort_values(ascending=False).head()"
      ],
      "execution_count": 147,
      "outputs": [
        {
          "output_type": "execute_result",
          "data": {
            "text/plain": [
              "Country\n",
              "England     47383\n",
              "Spain       16137\n",
              "Italy       15133\n",
              "Scotland    14530\n",
              "France      13858\n",
              "Name: Country, dtype: int64"
            ]
          },
          "metadata": {
            "tags": []
          },
          "execution_count": 147
        }
      ]
    },
    {
      "cell_type": "code",
      "metadata": {
        "id": "oV_3B7F7cwxU",
        "outputId": "b0654983-3095-4a94-be35-3d9c60e92241",
        "colab": {
          "base_uri": "https://localhost:8080/",
          "height": 420
        }
      },
      "source": [
        "gols_in_England_league_1 = soccer_data2.loc[soccer_data2['League'] == 'England League 1',['FTAG','FTHG']].sum(axis=1)\n",
        "gols_in_England_league_2 = soccer_data2.loc[soccer_data2['League'] == 'England League 2',['FTAG','FTHG']].sum(axis=1)\n",
        "\n",
        "print(\"\\nEstatisticas England_league_1,:\\n\\n\", gols_in_England_league_1.describe())\n",
        "print(\"\\nEstatisticas England_league_2:\\n\\n\", gols_in_England_league_2.describe())"
      ],
      "execution_count": 135,
      "outputs": [
        {
          "output_type": "stream",
          "text": [
            "\n",
            "Estatisticas England_league_1,:\n",
            "\n",
            " count    10463.000000\n",
            "mean         2.621237\n",
            "std          1.612178\n",
            "min          0.000000\n",
            "25%          1.000000\n",
            "50%          2.000000\n",
            "75%          4.000000\n",
            "max         10.000000\n",
            "dtype: float64\n",
            "\n",
            "Estatisticas England_league_2:\n",
            "\n",
            " count    10519.000000\n",
            "mean         2.556517\n",
            "std          1.597385\n",
            "min          0.000000\n",
            "25%          1.000000\n",
            "50%          2.000000\n",
            "75%          4.000000\n",
            "max         11.000000\n",
            "dtype: float64\n"
          ],
          "name": "stdout"
        }
      ]
    },
    {
      "cell_type": "code",
      "metadata": {
        "id": "FjPRA9M2VL91",
        "outputId": "c3803ec4-8e72-4ea6-c6c0-e72dbb32baca",
        "colab": {
          "base_uri": "https://localhost:8080/",
          "height": 50
        }
      },
      "source": [
        "stat, p = stats.mannwhitneyu(gols_in_England_league_1,gols_in_England_league_2)\n",
        "\n",
        "alpha = 0.05\n",
        "if p > alpha:\n",
        "\tprint('Mesma distribuição (falha ao rejeitar H0)\\np = ', p)\n",
        "else:\n",
        "\tprint('Distribuição diferente (rejeitar H0)\\np = ', p)"
      ],
      "execution_count": 157,
      "outputs": [
        {
          "output_type": "stream",
          "text": [
            "Distribuição diferente (rejeitar H0)\n",
            "p =  0.001496736559052001\n"
          ],
          "name": "stdout"
        }
      ]
    },
    {
      "cell_type": "code",
      "metadata": {
        "id": "NoCOhQFmVu7J",
        "outputId": "3142f6e3-c520-4042-f0b8-fa15ae498190",
        "colab": {
          "base_uri": "https://localhost:8080/",
          "height": 285
        }
      },
      "source": [
        "sns.boxplot(data=[gols_in_England_league_1, gols_in_England_league_2]).set(ylabel='Gols Totais', xlabel='Liga')\n",
        "plt.xticks(plt.xticks()[0], ['England League 1', 'England League 2'])\n",
        "\n",
        "plt.show()"
      ],
      "execution_count": 137,
      "outputs": [
        {
          "output_type": "display_data",
          "data": {
            "image/png": "[encoded data removed]",
            "text/plain": [
              "<Figure size 432x288 with 1 Axes>"
            ]
          },
          "metadata": {
            "tags": [],
            "needs_background": "light"
          }
        }
      ]
    },
    {
      "cell_type": "markdown",
      "metadata": {
        "id": "TF4RgPulfj1H"
      },
      "source": [
        "Vamos aproveitar e comparar, também, se há diferença nas Odd's de Vitória do mandante nessas duas ligas"
      ]
    },
    {
      "cell_type": "code",
      "metadata": {
        "id": "EMpGHdhZVvY1"
      },
      "source": [
        "HomeOdd_in_England_league_1 = soccer_data2.loc[(soccer_data2['League'] == 'England League 1')  & (soccer_data2['AvgH'] < 30),['AvgH']]\n",
        "HomeOdd_in_England_league_2 = soccer_data2.loc[soccer_data2['League'] == 'England League 2',['AvgH']]"
      ],
      "execution_count": 156,
      "outputs": []
    },
    {
      "cell_type": "code",
      "metadata": {
        "id": "xEXfmLKEdqPj",
        "outputId": "0b9de4fc-84a8-49c0-d4cb-cc762d2cce1a",
        "colab": {
          "base_uri": "https://localhost:8080/",
          "height": 50
        }
      },
      "source": [
        "stat, p = stats.mannwhitneyu(HomeOdd_in_England_league_1,HomeOdd_in_England_league_2)\n",
        "\n",
        "alpha = 0.05\n",
        "if p > alpha:\n",
        "\tprint('Mesma distribuição (falha ao rejeitar H0)\\np = ', p)\n",
        "else:\n",
        "\tprint('Distribuição diferente (rejeitar H0)\\np = ', p)"
      ],
      "execution_count": 159,
      "outputs": [
        {
          "output_type": "stream",
          "text": [
            "Distribuição diferente (rejeitar H0)\n",
            "p =  0.020801386016863602\n"
          ],
          "name": "stdout"
        }
      ]
    },
    {
      "cell_type": "code",
      "metadata": {
        "id": "8E29KQ5-dwho",
        "outputId": "6d3cce8b-9920-4fed-bf41-7b615bd44de7",
        "colab": {
          "base_uri": "https://localhost:8080/",
          "height": 288
        }
      },
      "source": [
        "sns.boxplot(data=[HomeOdd_in_England_league_1, HomeOdd_in_England_league_2]).set(ylabel='Odd', xlabel='Liga')\n",
        "plt.xticks(plt.xticks()[0], ['England League 1', 'England League 2'])\n",
        "\n",
        "plt.show()\n",
        "#Dúvida: é realmente diferente? ou há algum erro"
      ],
      "execution_count": 160,
      "outputs": [
        {
          "output_type": "display_data",
          "data": {
            "image/png": "[encoded data removed]",
            "text/plain": [
              "<Figure size 432x288 with 1 Axes>"
            ]
          },
          "metadata": {
            "tags": [],
            "needs_background": "light"
          }
        }
      ]
    },
    {
      "cell_type": "code",
      "metadata": {
        "id": "3MfdMm-bd_zS",
        "outputId": "0b036ce3-e5ce-498f-9cb1-8d41953264fe",
        "colab": {
          "base_uri": "https://localhost:8080/",
          "height": 130
        }
      },
      "source": [
        "soccer_data2.loc[soccer_data2['AvgH'] >30]\n",
        "\n",
        "#Dúvida: Devo tratar esse dado como outlier? #Os dados são corretos, porém fogem muito do padrão"
      ],
      "execution_count": 161,
      "outputs": [
        {
          "output_type": "execute_result",
          "data": {
            "text/html": [
              "<div>\n",
              "<style scoped>\n",
              "    .dataframe tbody tr th:only-of-type {\n",
              "        vertical-align: middle;\n",
              "    }\n",
              "\n",
              "    .dataframe tbody tr th {\n",
              "        vertical-align: top;\n",
              "    }\n",
              "\n",
              "    .dataframe thead th {\n",
              "        text-align: right;\n",
              "    }\n",
              "</style>\n",
              "<table border=\"1\" class=\"dataframe\">\n",
              "  <thead>\n",
              "    <tr style=\"text-align: right;\">\n",
              "      <th></th>\n",
              "      <th>Season</th>\n",
              "      <th>Country</th>\n",
              "      <th>League</th>\n",
              "      <th>Div</th>\n",
              "      <th>Datetime</th>\n",
              "      <th>HomeTeam</th>\n",
              "      <th>AwayTeam</th>\n",
              "      <th>FTHG</th>\n",
              "      <th>FTAG</th>\n",
              "      <th>FTR</th>\n",
              "      <th>HTHG</th>\n",
              "      <th>HTAG</th>\n",
              "      <th>HTR</th>\n",
              "      <th>HS</th>\n",
              "      <th>AS</th>\n",
              "      <th>HST</th>\n",
              "      <th>AST</th>\n",
              "      <th>HC</th>\n",
              "      <th>AC</th>\n",
              "      <th>HF</th>\n",
              "      <th>AF</th>\n",
              "      <th>HY</th>\n",
              "      <th>AY</th>\n",
              "      <th>HR</th>\n",
              "      <th>AR</th>\n",
              "      <th>AvgH</th>\n",
              "      <th>AvgD</th>\n",
              "      <th>AvgA</th>\n",
              "      <th>Avg&gt;2.5</th>\n",
              "      <th>Avg&lt;2.5</th>\n",
              "      <th>FTHG_dist</th>\n",
              "      <th>Over_2_5_gols</th>\n",
              "    </tr>\n",
              "  </thead>\n",
              "  <tbody>\n",
              "    <tr>\n",
              "      <th>9328</th>\n",
              "      <td>2019-01-01</td>\n",
              "      <td>England</td>\n",
              "      <td>England League 1</td>\n",
              "      <td>E2</td>\n",
              "      <td>2019-08-24 15:00:00</td>\n",
              "      <td>Bolton</td>\n",
              "      <td>Ipswich</td>\n",
              "      <td>0</td>\n",
              "      <td>5</td>\n",
              "      <td>A</td>\n",
              "      <td>0</td>\n",
              "      <td>1</td>\n",
              "      <td>A</td>\n",
              "      <td>3.0</td>\n",
              "      <td>29.0</td>\n",
              "      <td>0.0</td>\n",
              "      <td>12.0</td>\n",
              "      <td>1.0</td>\n",
              "      <td>7.0</td>\n",
              "      <td>15.0</td>\n",
              "      <td>15.0</td>\n",
              "      <td>1.0</td>\n",
              "      <td>1.0</td>\n",
              "      <td>0.0</td>\n",
              "      <td>0.0</td>\n",
              "      <td>34.14</td>\n",
              "      <td>9.59</td>\n",
              "      <td>1.080078</td>\n",
              "      <td>1.51</td>\n",
              "      <td>2.589844</td>\n",
              "      <td>(-0.01, 5.0]</td>\n",
              "      <td>1</td>\n",
              "    </tr>\n",
              "  </tbody>\n",
              "</table>\n",
              "</div>"
            ],
            "text/plain": [
              "         Season  Country  ...     FTHG_dist Over_2_5_gols\n",
              "9328 2019-01-01  England  ...  (-0.01, 5.0]             1\n",
              "\n",
              "[1 rows x 32 columns]"
            ]
          },
          "metadata": {
            "tags": []
          },
          "execution_count": 161
        }
      ]
    },
    {
      "cell_type": "markdown",
      "metadata": {
        "id": "J3Cw-DYeIvBc"
      },
      "source": [
        "# Correlações"
      ]
    },
    {
      "cell_type": "markdown",
      "metadata": {
        "id": "cAPkOtKTidcK"
      },
      "source": [
        "Foi utilizada a realação de Spearman que descreve relações monotônicas"
      ]
    },
    {
      "cell_type": "code",
      "metadata": {
        "id": "HoclyAbydCGy",
        "outputId": "8a3993f5-5355-4c0d-9e99-6a1f51a9f788",
        "colab": {
          "base_uri": "https://localhost:8080/",
          "height": 718
        }
      },
      "source": [
        "soccer_data2.corr('spearman')"
      ],
      "execution_count": 184,
      "outputs": [
        {
          "output_type": "execute_result",
          "data": {
            "text/html": [
              "<div>\n",
              "<style scoped>\n",
              "    .dataframe tbody tr th:only-of-type {\n",
              "        vertical-align: middle;\n",
              "    }\n",
              "\n",
              "    .dataframe tbody tr th {\n",
              "        vertical-align: top;\n",
              "    }\n",
              "\n",
              "    .dataframe thead th {\n",
              "        text-align: right;\n",
              "    }\n",
              "</style>\n",
              "<table border=\"1\" class=\"dataframe\">\n",
              "  <thead>\n",
              "    <tr style=\"text-align: right;\">\n",
              "      <th></th>\n",
              "      <th>FTHG</th>\n",
              "      <th>FTAG</th>\n",
              "      <th>HTHG</th>\n",
              "      <th>HTAG</th>\n",
              "      <th>HS</th>\n",
              "      <th>AS</th>\n",
              "      <th>HST</th>\n",
              "      <th>AST</th>\n",
              "      <th>HC</th>\n",
              "      <th>AC</th>\n",
              "      <th>HF</th>\n",
              "      <th>AF</th>\n",
              "      <th>HY</th>\n",
              "      <th>AY</th>\n",
              "      <th>HR</th>\n",
              "      <th>AR</th>\n",
              "      <th>AvgH</th>\n",
              "      <th>AvgD</th>\n",
              "      <th>AvgA</th>\n",
              "      <th>Avg&gt;2.5</th>\n",
              "      <th>Avg&lt;2.5</th>\n",
              "      <th>Over_2_5_gols</th>\n",
              "    </tr>\n",
              "  </thead>\n",
              "  <tbody>\n",
              "    <tr>\n",
              "      <th>FTHG</th>\n",
              "      <td>1.000000</td>\n",
              "      <td>-0.013532</td>\n",
              "      <td>0.406618</td>\n",
              "      <td>-0.000127</td>\n",
              "      <td>0.240005</td>\n",
              "      <td>-0.044840</td>\n",
              "      <td>0.447655</td>\n",
              "      <td>-0.051846</td>\n",
              "      <td>-0.009547</td>\n",
              "      <td>-0.012262</td>\n",
              "      <td>-0.025332</td>\n",
              "      <td>-0.026862</td>\n",
              "      <td>-0.061897</td>\n",
              "      <td>0.031401</td>\n",
              "      <td>-0.075272</td>\n",
              "      <td>0.106935</td>\n",
              "      <td>-0.267037</td>\n",
              "      <td>0.166903</td>\n",
              "      <td>0.257538</td>\n",
              "      <td>-0.143740</td>\n",
              "      <td>0.143796</td>\n",
              "      <td>0.619554</td>\n",
              "    </tr>\n",
              "    <tr>\n",
              "      <th>FTAG</th>\n",
              "      <td>-0.013532</td>\n",
              "      <td>1.000000</td>\n",
              "      <td>-0.003753</td>\n",
              "      <td>0.392924</td>\n",
              "      <td>-0.048139</td>\n",
              "      <td>0.248356</td>\n",
              "      <td>-0.053818</td>\n",
              "      <td>0.453278</td>\n",
              "      <td>-0.000199</td>\n",
              "      <td>0.018263</td>\n",
              "      <td>-0.010213</td>\n",
              "      <td>-0.015988</td>\n",
              "      <td>0.089489</td>\n",
              "      <td>-0.012794</td>\n",
              "      <td>0.111849</td>\n",
              "      <td>-0.064846</td>\n",
              "      <td>0.226656</td>\n",
              "      <td>-0.007538</td>\n",
              "      <td>-0.236339</td>\n",
              "      <td>-0.058920</td>\n",
              "      <td>0.064340</td>\n",
              "      <td>0.533917</td>\n",
              "    </tr>\n",
              "    <tr>\n",
              "      <th>HTHG</th>\n",
              "      <td>0.406618</td>\n",
              "      <td>-0.003753</td>\n",
              "      <td>1.000000</td>\n",
              "      <td>0.524905</td>\n",
              "      <td>0.095525</td>\n",
              "      <td>0.019164</td>\n",
              "      <td>0.267016</td>\n",
              "      <td>-0.007665</td>\n",
              "      <td>-0.074726</td>\n",
              "      <td>0.049898</td>\n",
              "      <td>0.011324</td>\n",
              "      <td>-0.029582</td>\n",
              "      <td>-0.046229</td>\n",
              "      <td>0.016147</td>\n",
              "      <td>-0.037975</td>\n",
              "      <td>0.049078</td>\n",
              "      <td>-0.124017</td>\n",
              "      <td>-0.004669</td>\n",
              "      <td>0.100051</td>\n",
              "      <td>-0.099901</td>\n",
              "      <td>0.099147</td>\n",
              "      <td>0.248407</td>\n",
              "    </tr>\n",
              "    <tr>\n",
              "      <th>HTAG</th>\n",
              "      <td>-0.000127</td>\n",
              "      <td>0.392924</td>\n",
              "      <td>0.524905</td>\n",
              "      <td>1.000000</td>\n",
              "      <td>0.013438</td>\n",
              "      <td>0.109510</td>\n",
              "      <td>-0.007223</td>\n",
              "      <td>0.272837</td>\n",
              "      <td>0.057368</td>\n",
              "      <td>-0.045131</td>\n",
              "      <td>-0.020594</td>\n",
              "      <td>0.014340</td>\n",
              "      <td>0.069273</td>\n",
              "      <td>0.002708</td>\n",
              "      <td>0.063878</td>\n",
              "      <td>-0.020939</td>\n",
              "      <td>0.076407</td>\n",
              "      <td>-0.073590</td>\n",
              "      <td>-0.101422</td>\n",
              "      <td>-0.043951</td>\n",
              "      <td>0.047579</td>\n",
              "      <td>0.212672</td>\n",
              "    </tr>\n",
              "    <tr>\n",
              "      <th>HS</th>\n",
              "      <td>0.240005</td>\n",
              "      <td>-0.048139</td>\n",
              "      <td>0.095525</td>\n",
              "      <td>0.013438</td>\n",
              "      <td>1.000000</td>\n",
              "      <td>-0.081657</td>\n",
              "      <td>0.636178</td>\n",
              "      <td>-0.097207</td>\n",
              "      <td>0.364957</td>\n",
              "      <td>-0.206366</td>\n",
              "      <td>-0.024535</td>\n",
              "      <td>0.067850</td>\n",
              "      <td>-0.058413</td>\n",
              "      <td>0.060929</td>\n",
              "      <td>-0.100550</td>\n",
              "      <td>0.092293</td>\n",
              "      <td>-0.323404</td>\n",
              "      <td>0.167587</td>\n",
              "      <td>0.337935</td>\n",
              "      <td>-0.122012</td>\n",
              "      <td>0.132995</td>\n",
              "      <td>0.122174</td>\n",
              "    </tr>\n",
              "    <tr>\n",
              "      <th>AS</th>\n",
              "      <td>-0.044840</td>\n",
              "      <td>0.248356</td>\n",
              "      <td>0.019164</td>\n",
              "      <td>0.109510</td>\n",
              "      <td>-0.081657</td>\n",
              "      <td>1.000000</td>\n",
              "      <td>-0.107310</td>\n",
              "      <td>0.645613</td>\n",
              "      <td>-0.198871</td>\n",
              "      <td>0.352545</td>\n",
              "      <td>0.091958</td>\n",
              "      <td>-0.009562</td>\n",
              "      <td>0.100135</td>\n",
              "      <td>-0.041286</td>\n",
              "      <td>0.096174</td>\n",
              "      <td>-0.099928</td>\n",
              "      <td>0.297166</td>\n",
              "      <td>-0.044863</td>\n",
              "      <td>-0.280883</td>\n",
              "      <td>-0.018381</td>\n",
              "      <td>0.035054</td>\n",
              "      <td>0.109347</td>\n",
              "    </tr>\n",
              "    <tr>\n",
              "      <th>HST</th>\n",
              "      <td>0.447655</td>\n",
              "      <td>-0.053818</td>\n",
              "      <td>0.267016</td>\n",
              "      <td>-0.007223</td>\n",
              "      <td>0.636178</td>\n",
              "      <td>-0.107310</td>\n",
              "      <td>1.000000</td>\n",
              "      <td>0.014950</td>\n",
              "      <td>0.263967</td>\n",
              "      <td>-0.107305</td>\n",
              "      <td>-0.069138</td>\n",
              "      <td>-0.008302</td>\n",
              "      <td>-0.115381</td>\n",
              "      <td>0.002330</td>\n",
              "      <td>-0.094611</td>\n",
              "      <td>0.083069</td>\n",
              "      <td>-0.311555</td>\n",
              "      <td>0.111713</td>\n",
              "      <td>0.278372</td>\n",
              "      <td>-0.169579</td>\n",
              "      <td>0.146278</td>\n",
              "      <td>0.250260</td>\n",
              "    </tr>\n",
              "    <tr>\n",
              "      <th>AST</th>\n",
              "      <td>-0.051846</td>\n",
              "      <td>0.453278</td>\n",
              "      <td>-0.007665</td>\n",
              "      <td>0.272837</td>\n",
              "      <td>-0.097207</td>\n",
              "      <td>0.645613</td>\n",
              "      <td>0.014950</td>\n",
              "      <td>1.000000</td>\n",
              "      <td>-0.099886</td>\n",
              "      <td>0.264404</td>\n",
              "      <td>0.007982</td>\n",
              "      <td>-0.056351</td>\n",
              "      <td>0.042277</td>\n",
              "      <td>-0.072669</td>\n",
              "      <td>0.084868</td>\n",
              "      <td>-0.088556</td>\n",
              "      <td>0.243293</td>\n",
              "      <td>-0.069407</td>\n",
              "      <td>-0.269678</td>\n",
              "      <td>-0.068567</td>\n",
              "      <td>0.054331</td>\n",
              "      <td>0.220142</td>\n",
              "    </tr>\n",
              "    <tr>\n",
              "      <th>HC</th>\n",
              "      <td>-0.009547</td>\n",
              "      <td>-0.000199</td>\n",
              "      <td>-0.074726</td>\n",
              "      <td>0.057368</td>\n",
              "      <td>0.364957</td>\n",
              "      <td>-0.198871</td>\n",
              "      <td>0.263967</td>\n",
              "      <td>-0.099886</td>\n",
              "      <td>1.000000</td>\n",
              "      <td>-0.181982</td>\n",
              "      <td>-0.091391</td>\n",
              "      <td>-0.025146</td>\n",
              "      <td>-0.072177</td>\n",
              "      <td>0.009339</td>\n",
              "      <td>-0.061009</td>\n",
              "      <td>0.040768</td>\n",
              "      <td>-0.238812</td>\n",
              "      <td>0.079105</td>\n",
              "      <td>0.227677</td>\n",
              "      <td>-0.071536</td>\n",
              "      <td>0.064320</td>\n",
              "      <td>-0.012293</td>\n",
              "    </tr>\n",
              "    <tr>\n",
              "      <th>AC</th>\n",
              "      <td>-0.012262</td>\n",
              "      <td>0.018263</td>\n",
              "      <td>0.049898</td>\n",
              "      <td>-0.045131</td>\n",
              "      <td>-0.206366</td>\n",
              "      <td>0.352545</td>\n",
              "      <td>-0.107305</td>\n",
              "      <td>0.264404</td>\n",
              "      <td>-0.181982</td>\n",
              "      <td>1.000000</td>\n",
              "      <td>-0.030124</td>\n",
              "      <td>-0.086300</td>\n",
              "      <td>0.015629</td>\n",
              "      <td>-0.068804</td>\n",
              "      <td>0.039710</td>\n",
              "      <td>-0.075477</td>\n",
              "      <td>0.212970</td>\n",
              "      <td>-0.067022</td>\n",
              "      <td>-0.225089</td>\n",
              "      <td>-0.005046</td>\n",
              "      <td>0.002952</td>\n",
              "      <td>-0.004334</td>\n",
              "    </tr>\n",
              "    <tr>\n",
              "      <th>HF</th>\n",
              "      <td>-0.025332</td>\n",
              "      <td>-0.010213</td>\n",
              "      <td>0.011324</td>\n",
              "      <td>-0.020594</td>\n",
              "      <td>-0.024535</td>\n",
              "      <td>0.091958</td>\n",
              "      <td>-0.069138</td>\n",
              "      <td>0.007982</td>\n",
              "      <td>-0.091391</td>\n",
              "      <td>-0.030124</td>\n",
              "      <td>1.000000</td>\n",
              "      <td>0.333411</td>\n",
              "      <td>0.367868</td>\n",
              "      <td>0.166714</td>\n",
              "      <td>0.076577</td>\n",
              "      <td>0.060042</td>\n",
              "      <td>0.062888</td>\n",
              "      <td>-0.166009</td>\n",
              "      <td>-0.051205</td>\n",
              "      <td>0.106917</td>\n",
              "      <td>-0.115782</td>\n",
              "      <td>-0.032219</td>\n",
              "    </tr>\n",
              "    <tr>\n",
              "      <th>AF</th>\n",
              "      <td>-0.026862</td>\n",
              "      <td>-0.015988</td>\n",
              "      <td>-0.029582</td>\n",
              "      <td>0.014340</td>\n",
              "      <td>0.067850</td>\n",
              "      <td>-0.009562</td>\n",
              "      <td>-0.008302</td>\n",
              "      <td>-0.056351</td>\n",
              "      <td>-0.025146</td>\n",
              "      <td>-0.086300</td>\n",
              "      <td>0.333411</td>\n",
              "      <td>1.000000</td>\n",
              "      <td>0.155875</td>\n",
              "      <td>0.369057</td>\n",
              "      <td>0.049682</td>\n",
              "      <td>0.077238</td>\n",
              "      <td>-0.048493</td>\n",
              "      <td>-0.143665</td>\n",
              "      <td>0.057655</td>\n",
              "      <td>0.105497</td>\n",
              "      <td>-0.117014</td>\n",
              "      <td>-0.035053</td>\n",
              "    </tr>\n",
              "    <tr>\n",
              "      <th>HY</th>\n",
              "      <td>-0.061897</td>\n",
              "      <td>0.089489</td>\n",
              "      <td>-0.046229</td>\n",
              "      <td>0.069273</td>\n",
              "      <td>-0.058413</td>\n",
              "      <td>0.100135</td>\n",
              "      <td>-0.115381</td>\n",
              "      <td>0.042277</td>\n",
              "      <td>-0.072177</td>\n",
              "      <td>0.015629</td>\n",
              "      <td>0.367868</td>\n",
              "      <td>0.155875</td>\n",
              "      <td>1.000000</td>\n",
              "      <td>0.244553</td>\n",
              "      <td>0.120300</td>\n",
              "      <td>0.076206</td>\n",
              "      <td>0.139882</td>\n",
              "      <td>-0.067153</td>\n",
              "      <td>-0.111003</td>\n",
              "      <td>0.074047</td>\n",
              "      <td>-0.058165</td>\n",
              "      <td>-0.002882</td>\n",
              "    </tr>\n",
              "    <tr>\n",
              "      <th>AY</th>\n",
              "      <td>0.031401</td>\n",
              "      <td>-0.012794</td>\n",
              "      <td>0.016147</td>\n",
              "      <td>0.002708</td>\n",
              "      <td>0.060929</td>\n",
              "      <td>-0.041286</td>\n",
              "      <td>0.002330</td>\n",
              "      <td>-0.072669</td>\n",
              "      <td>0.009339</td>\n",
              "      <td>-0.068804</td>\n",
              "      <td>0.166714</td>\n",
              "      <td>0.369057</td>\n",
              "      <td>0.244553</td>\n",
              "      <td>1.000000</td>\n",
              "      <td>0.073481</td>\n",
              "      <td>0.111738</td>\n",
              "      <td>-0.053350</td>\n",
              "      <td>-0.014066</td>\n",
              "      <td>0.076382</td>\n",
              "      <td>0.050414</td>\n",
              "      <td>-0.040828</td>\n",
              "      <td>-0.001620</td>\n",
              "    </tr>\n",
              "    <tr>\n",
              "      <th>HR</th>\n",
              "      <td>-0.075272</td>\n",
              "      <td>0.111849</td>\n",
              "      <td>-0.037975</td>\n",
              "      <td>0.063878</td>\n",
              "      <td>-0.100550</td>\n",
              "      <td>0.096174</td>\n",
              "      <td>-0.094611</td>\n",
              "      <td>0.084868</td>\n",
              "      <td>-0.061009</td>\n",
              "      <td>0.039710</td>\n",
              "      <td>0.076577</td>\n",
              "      <td>0.049682</td>\n",
              "      <td>0.120300</td>\n",
              "      <td>0.073481</td>\n",
              "      <td>1.000000</td>\n",
              "      <td>0.072219</td>\n",
              "      <td>0.050341</td>\n",
              "      <td>-0.034906</td>\n",
              "      <td>-0.046285</td>\n",
              "      <td>0.026946</td>\n",
              "      <td>-0.026127</td>\n",
              "      <td>0.017171</td>\n",
              "    </tr>\n",
              "    <tr>\n",
              "      <th>AR</th>\n",
              "      <td>0.106935</td>\n",
              "      <td>-0.064846</td>\n",
              "      <td>0.049078</td>\n",
              "      <td>-0.020939</td>\n",
              "      <td>0.092293</td>\n",
              "      <td>-0.099928</td>\n",
              "      <td>0.083069</td>\n",
              "      <td>-0.088556</td>\n",
              "      <td>0.040768</td>\n",
              "      <td>-0.075477</td>\n",
              "      <td>0.060042</td>\n",
              "      <td>0.077238</td>\n",
              "      <td>0.076206</td>\n",
              "      <td>0.111738</td>\n",
              "      <td>0.072219</td>\n",
              "      <td>1.000000</td>\n",
              "      <td>-0.024398</td>\n",
              "      <td>-0.022473</td>\n",
              "      <td>0.026455</td>\n",
              "      <td>0.018872</td>\n",
              "      <td>-0.020515</td>\n",
              "      <td>0.029788</td>\n",
              "    </tr>\n",
              "    <tr>\n",
              "      <th>AvgH</th>\n",
              "      <td>-0.267037</td>\n",
              "      <td>0.226656</td>\n",
              "      <td>-0.124017</td>\n",
              "      <td>0.076407</td>\n",
              "      <td>-0.323404</td>\n",
              "      <td>0.297166</td>\n",
              "      <td>-0.311555</td>\n",
              "      <td>0.243293</td>\n",
              "      <td>-0.238812</td>\n",
              "      <td>0.212970</td>\n",
              "      <td>0.062888</td>\n",
              "      <td>-0.048493</td>\n",
              "      <td>0.139882</td>\n",
              "      <td>-0.053350</td>\n",
              "      <td>0.050341</td>\n",
              "      <td>-0.024398</td>\n",
              "      <td>1.000000</td>\n",
              "      <td>-0.415291</td>\n",
              "      <td>-0.977986</td>\n",
              "      <td>0.198362</td>\n",
              "      <td>-0.179834</td>\n",
              "      <td>-0.040558</td>\n",
              "    </tr>\n",
              "    <tr>\n",
              "      <th>AvgD</th>\n",
              "      <td>0.166903</td>\n",
              "      <td>-0.007538</td>\n",
              "      <td>-0.004669</td>\n",
              "      <td>-0.073590</td>\n",
              "      <td>0.167587</td>\n",
              "      <td>-0.044863</td>\n",
              "      <td>0.111713</td>\n",
              "      <td>-0.069407</td>\n",
              "      <td>0.079105</td>\n",
              "      <td>-0.067022</td>\n",
              "      <td>-0.166009</td>\n",
              "      <td>-0.143665</td>\n",
              "      <td>-0.067153</td>\n",
              "      <td>-0.014066</td>\n",
              "      <td>-0.034906</td>\n",
              "      <td>-0.022473</td>\n",
              "      <td>-0.415291</td>\n",
              "      <td>1.000000</td>\n",
              "      <td>0.373052</td>\n",
              "      <td>-0.681387</td>\n",
              "      <td>0.732729</td>\n",
              "      <td>0.118883</td>\n",
              "    </tr>\n",
              "    <tr>\n",
              "      <th>AvgA</th>\n",
              "      <td>0.257538</td>\n",
              "      <td>-0.236339</td>\n",
              "      <td>0.100051</td>\n",
              "      <td>-0.101422</td>\n",
              "      <td>0.337935</td>\n",
              "      <td>-0.280883</td>\n",
              "      <td>0.278372</td>\n",
              "      <td>-0.269678</td>\n",
              "      <td>0.227677</td>\n",
              "      <td>-0.225089</td>\n",
              "      <td>-0.051205</td>\n",
              "      <td>0.057655</td>\n",
              "      <td>-0.111003</td>\n",
              "      <td>0.076382</td>\n",
              "      <td>-0.046285</td>\n",
              "      <td>0.026455</td>\n",
              "      <td>-0.977986</td>\n",
              "      <td>0.373052</td>\n",
              "      <td>1.000000</td>\n",
              "      <td>-0.101200</td>\n",
              "      <td>0.096905</td>\n",
              "      <td>0.029258</td>\n",
              "    </tr>\n",
              "    <tr>\n",
              "      <th>Avg&gt;2.5</th>\n",
              "      <td>-0.143740</td>\n",
              "      <td>-0.058920</td>\n",
              "      <td>-0.099901</td>\n",
              "      <td>-0.043951</td>\n",
              "      <td>-0.122012</td>\n",
              "      <td>-0.018381</td>\n",
              "      <td>-0.169579</td>\n",
              "      <td>-0.068567</td>\n",
              "      <td>-0.071536</td>\n",
              "      <td>-0.005046</td>\n",
              "      <td>0.106917</td>\n",
              "      <td>0.105497</td>\n",
              "      <td>0.074047</td>\n",
              "      <td>0.050414</td>\n",
              "      <td>0.026946</td>\n",
              "      <td>0.018872</td>\n",
              "      <td>0.198362</td>\n",
              "      <td>-0.681387</td>\n",
              "      <td>-0.101200</td>\n",
              "      <td>1.000000</td>\n",
              "      <td>-0.977912</td>\n",
              "      <td>-0.139791</td>\n",
              "    </tr>\n",
              "    <tr>\n",
              "      <th>Avg&lt;2.5</th>\n",
              "      <td>0.143796</td>\n",
              "      <td>0.064340</td>\n",
              "      <td>0.099147</td>\n",
              "      <td>0.047579</td>\n",
              "      <td>0.132995</td>\n",
              "      <td>0.035054</td>\n",
              "      <td>0.146278</td>\n",
              "      <td>0.054331</td>\n",
              "      <td>0.064320</td>\n",
              "      <td>0.002952</td>\n",
              "      <td>-0.115782</td>\n",
              "      <td>-0.117014</td>\n",
              "      <td>-0.058165</td>\n",
              "      <td>-0.040828</td>\n",
              "      <td>-0.026127</td>\n",
              "      <td>-0.020515</td>\n",
              "      <td>-0.179834</td>\n",
              "      <td>0.732729</td>\n",
              "      <td>0.096905</td>\n",
              "      <td>-0.977912</td>\n",
              "      <td>1.000000</td>\n",
              "      <td>0.143348</td>\n",
              "    </tr>\n",
              "    <tr>\n",
              "      <th>Over_2_5_gols</th>\n",
              "      <td>0.619554</td>\n",
              "      <td>0.533917</td>\n",
              "      <td>0.248407</td>\n",
              "      <td>0.212672</td>\n",
              "      <td>0.122174</td>\n",
              "      <td>0.109347</td>\n",
              "      <td>0.250260</td>\n",
              "      <td>0.220142</td>\n",
              "      <td>-0.012293</td>\n",
              "      <td>-0.004334</td>\n",
              "      <td>-0.032219</td>\n",
              "      <td>-0.035053</td>\n",
              "      <td>-0.002882</td>\n",
              "      <td>-0.001620</td>\n",
              "      <td>0.017171</td>\n",
              "      <td>0.029788</td>\n",
              "      <td>-0.040558</td>\n",
              "      <td>0.118883</td>\n",
              "      <td>0.029258</td>\n",
              "      <td>-0.139791</td>\n",
              "      <td>0.143348</td>\n",
              "      <td>1.000000</td>\n",
              "    </tr>\n",
              "  </tbody>\n",
              "</table>\n",
              "</div>"
            ],
            "text/plain": [
              "                   FTHG      FTAG      HTHG  ...   Avg>2.5   Avg<2.5  Over_2_5_gols\n",
              "FTHG           1.000000 -0.013532  0.406618  ... -0.143740  0.143796       0.619554\n",
              "FTAG          -0.013532  1.000000 -0.003753  ... -0.058920  0.064340       0.533917\n",
              "HTHG           0.406618 -0.003753  1.000000  ... -0.099901  0.099147       0.248407\n",
              "HTAG          -0.000127  0.392924  0.524905  ... -0.043951  0.047579       0.212672\n",
              "HS             0.240005 -0.048139  0.095525  ... -0.122012  0.132995       0.122174\n",
              "AS            -0.044840  0.248356  0.019164  ... -0.018381  0.035054       0.109347\n",
              "HST            0.447655 -0.053818  0.267016  ... -0.169579  0.146278       0.250260\n",
              "AST           -0.051846  0.453278 -0.007665  ... -0.068567  0.054331       0.220142\n",
              "HC            -0.009547 -0.000199 -0.074726  ... -0.071536  0.064320      -0.012293\n",
              "AC            -0.012262  0.018263  0.049898  ... -0.005046  0.002952      -0.004334\n",
              "HF            -0.025332 -0.010213  0.011324  ...  0.106917 -0.115782      -0.032219\n",
              "AF            -0.026862 -0.015988 -0.029582  ...  0.105497 -0.117014      -0.035053\n",
              "HY            -0.061897  0.089489 -0.046229  ...  0.074047 -0.058165      -0.002882\n",
              "AY             0.031401 -0.012794  0.016147  ...  0.050414 -0.040828      -0.001620\n",
              "HR            -0.075272  0.111849 -0.037975  ...  0.026946 -0.026127       0.017171\n",
              "AR             0.106935 -0.064846  0.049078  ...  0.018872 -0.020515       0.029788\n",
              "AvgH          -0.267037  0.226656 -0.124017  ...  0.198362 -0.179834      -0.040558\n",
              "AvgD           0.166903 -0.007538 -0.004669  ... -0.681387  0.732729       0.118883\n",
              "AvgA           0.257538 -0.236339  0.100051  ... -0.101200  0.096905       0.029258\n",
              "Avg>2.5       -0.143740 -0.058920 -0.099901  ...  1.000000 -0.977912      -0.139791\n",
              "Avg<2.5        0.143796  0.064340  0.099147  ... -0.977912  1.000000       0.143348\n",
              "Over_2_5_gols  0.619554  0.533917  0.248407  ... -0.139791  0.143348       1.000000\n",
              "\n",
              "[22 rows x 22 columns]"
            ]
          },
          "metadata": {
            "tags": []
          },
          "execution_count": 184
        }
      ]
    },
    {
      "cell_type": "markdown",
      "metadata": {
        "id": "EBXtlTG6bceU"
      },
      "source": [
        "Vamos ordenar as variáveis com maior correlação"
      ]
    },
    {
      "cell_type": "code",
      "metadata": {
        "id": "RPtcG6nkZkm2",
        "outputId": "529d64f1-44ef-43eb-8e13-98163a826c7f",
        "colab": {
          "base_uri": "https://localhost:8080/",
          "height": 420
        }
      },
      "source": [
        "c = soccer_data2.corr('spearman').abs().unstack().sort_values(ascending=False).drop_duplicates()\n",
        "#vamos olhar para as variáveis que possuem correlação maior que 0.3\n",
        "c[(c!=1) & (c>0.3)]"
      ],
      "execution_count": 186,
      "outputs": [
        {
          "output_type": "execute_result",
          "data": {
            "text/plain": [
              "AvgH           AvgA             0.977986\n",
              "Avg>2.5        Avg<2.5          0.977912\n",
              "Avg<2.5        AvgD             0.732729\n",
              "AvgD           Avg>2.5          0.681387\n",
              "AST            AS               0.645613\n",
              "HS             HST              0.636178\n",
              "Over_2_5_gols  FTHG             0.619554\n",
              "FTAG           Over_2_5_gols    0.533917\n",
              "HTAG           HTHG             0.524905\n",
              "AST            FTAG             0.453278\n",
              "FTHG           HST              0.447655\n",
              "AvgH           AvgD             0.415291\n",
              "HTHG           FTHG             0.406618\n",
              "FTAG           HTAG             0.392924\n",
              "AvgD           AvgA             0.373052\n",
              "AY             AF               0.369057\n",
              "HF             HY               0.367868\n",
              "HC             HS               0.364957\n",
              "AS             AC               0.352545\n",
              "AvgA           HS               0.337935\n",
              "AF             HF               0.333411\n",
              "AvgH           HS               0.323404\n",
              "HST            AvgH             0.311555\n",
              "dtype: float64"
            ]
          },
          "metadata": {
            "tags": []
          },
          "execution_count": 186
        }
      ]
    },
    {
      "cell_type": "markdown",
      "metadata": {
        "id": "qKT73S2EaHbZ"
      },
      "source": [
        "Precisamos ter em mente algo: para a banca, quanto maior a odd (multiplicador), menor a chance daquela aposta acontecer.\n",
        "\n",
        "Vemos que as ODD's (multiplicadores) AvgH(Vitoria Mandante) e AvgA (Vitória visitante) possuem a maior correlação, podemos ver no gráfico abaixo:\n",
        "\n",
        "É possível observar que as variáveis possuem uma relação monotonica decrescente segundo o teste de pearson, o que já era esperado, visto que se o time da casa tem mais chances de vencer (odd menor), o time visitante terá menos chance de vencer (odd maior);"
      ]
    },
    {
      "cell_type": "code",
      "metadata": {
        "id": "AV8Mi6CNd8bc",
        "outputId": "7ee89515-b5eb-4e2a-b0b5-e97ea6ed9004",
        "colab": {
          "base_uri": "https://localhost:8080/",
          "height": 302
        }
      },
      "source": [
        "soccer_data2.plot.scatter(x='AvgH',y='AvgA')"
      ],
      "execution_count": 201,
      "outputs": [
        {
          "output_type": "execute_result",
          "data": {
            "text/plain": [
              "<matplotlib.axes._subplots.AxesSubplot at 0x7fc106928ef0>"
            ]
          },
          "metadata": {
            "tags": []
          },
          "execution_count": 201
        },
        {
          "output_type": "display_data",
          "data": {
            "image/png": "[encoded data removed]",
            "text/plain": [
              "<Figure size 432x288 with 1 Axes>"
            ]
          },
          "metadata": {
            "tags": [],
            "needs_background": "light"
          }
        }
      ]
    },
    {
      "cell_type": "markdown",
      "metadata": {
        "id": "vlWiEJIwg_s5"
      },
      "source": [
        "Precisamos ter em mente algo: para a banca, quanto maior a odd (multiplicador), menor a chance daquela aposta acontecer.\n",
        "\n",
        "Vemos que as ODD's (multiplicadores) Avg>2.5(Odd de menos de 2.5 gols no jogo) e Avg<2.5 (Odd de mais de 2.5 gols no jogo) possuem também alta correlação, podemos ver no gráfico abaixo:\n",
        "\n",
        "É possível observar que as variáveis possuem uma relação monotonica segundo o teste de pearson, o que já era esperado, visto que se a chance de sair mais de 2.5 gols no jogo eh alta, a chance de sair menos que isso será, obviamente, baixa\n"
      ]
    },
    {
      "cell_type": "code",
      "metadata": {
        "id": "c2rLq8O6g_RP",
        "outputId": "4556dfef-d7e1-47c7-9226-d36ff4c6776b",
        "colab": {
          "base_uri": "https://localhost:8080/",
          "height": 305
        }
      },
      "source": [
        "soccer_data2.plot.scatter(x='Avg>2.5',y='Avg<2.5')"
      ],
      "execution_count": 200,
      "outputs": [
        {
          "output_type": "execute_result",
          "data": {
            "text/plain": [
              "<matplotlib.axes._subplots.AxesSubplot at 0x7fc0fa51a8d0>"
            ]
          },
          "metadata": {
            "tags": []
          },
          "execution_count": 200
        },
        {
          "output_type": "display_data",
          "data": {
            "image/png": "[encoded data removed]",
            "text/plain": [
              "<Figure size 432x288 with 1 Axes>"
            ]
          },
          "metadata": {
            "tags": [],
            "needs_background": "light"
          }
        }
      ]
    },
    {
      "cell_type": "markdown",
      "metadata": {
        "id": "QTheO7dHenfH"
      },
      "source": [
        "Precisamos ter em mente algo: para a banca, quanto maior a odd (multiplicador), menor a chance daquela aposta acontecer.\n",
        "\n",
        "Sabendo disso, podemos observar duas outras relações interessante que o teste nos mostrou: \n",
        "\n",
        "*   Uma relação crescente de 0.732729 entre a variável **Avg<2.5**(que mede a Odd de Menos de 2.5 gols no jogo) e  **AvgD** (Odd de empate na partida). <br>\n",
        "\n",
        "Ou seja, a banca calcula que quanto  maior a chance de empate, maior a chance que a partida tenha menos de 2,5 gols.\n",
        "\n",
        "*   Uma relação decrescente de 0.0.681387 entre a variável **Avg>2.5**(que mede a Odd de Menos de 2.5 gols no jogo) e  **AvgD** (Odd de empate na partida). <br>\n",
        "\n",
        "Ou seja, a banca calcula que quanto  maior a chance de empate, menor a chance que a partida tenha mais que 2,5 gols.\n",
        "\n",
        "\n",
        "\n",
        "\n",
        "\n",
        "\n",
        "\n",
        "vemos abaixo:\n"
      ]
    },
    {
      "cell_type": "code",
      "metadata": {
        "id": "zB1oVUXuemc1",
        "outputId": "262f1b1b-af88-41a2-832a-19bf6b68dee6",
        "colab": {
          "base_uri": "https://localhost:8080/",
          "height": 576
        }
      },
      "source": [
        "soccer_data2.plot.scatter(x='Avg<2.5',y='AvgD')\n",
        "soccer_data2.plot.scatter(x='Avg>2.5',y='AvgD')"
      ],
      "execution_count": 245,
      "outputs": [
        {
          "output_type": "execute_result",
          "data": {
            "text/plain": [
              "<matplotlib.axes._subplots.AxesSubplot at 0x7fc1044cb7b8>"
            ]
          },
          "metadata": {
            "tags": []
          },
          "execution_count": 245
        },
        {
          "output_type": "display_data",
          "data": {
            "image/png": "[encoded data removed]",
            "text/plain": [
              "<Figure size 432x288 with 1 Axes>"
            ]
          },
          "metadata": {
            "tags": [],
            "needs_background": "light"
          }
        },
        {
          "output_type": "display_data",
          "data": {
            "image/png": "[encoded data removed]",
            "text/plain": [
              "<Figure size 432x288 with 1 Axes>"
            ]
          },
          "metadata": {
            "tags": [],
            "needs_background": "light"
          }
        }
      ]
    },
    {
      "cell_type": "markdown",
      "metadata": {
        "id": "QbZL5Z_5iFjU"
      },
      "source": [
        "Vamos verificar se isso acontece de fato nas partidas do nosso dataset"
      ]
    },
    {
      "cell_type": "code",
      "metadata": {
        "id": "oMu6kTzAiExL",
        "outputId": "5a42419e-b48b-4ae0-f0e7-b8390527ba3c",
        "colab": {
          "base_uri": "https://localhost:8080/",
          "height": 284
        }
      },
      "source": [
        "#Dúvida: dá pra fazer isso de forma mais fácil?\n",
        "\n",
        "Total_Under_2_5_gols_and_Draw = len(soccer_data2[((soccer_data['FTHG'] + soccer_data2['FTAG']) < 2.5) & (soccer_data2['FTR'] == 'D')])\n",
        "Total_Under_2_5_gols_and_Home = len(soccer_data2[((soccer_data['FTHG'] + soccer_data2['FTAG']) < 2.5) & (soccer_data2['FTR'] == 'H')])\n",
        "Total_Under_2_5_gols_and_Away = len(soccer_data2[((soccer_data['FTHG'] + soccer_data2['FTAG']) < 2.5) & (soccer_data2['FTR'] == 'A')])\n",
        "\n",
        "total_under = pd.Series(np.array([Total_Under_2_5_gols_and_Home, Total_Under_2_5_gols_and_Draw, Total_Under_2_5_gols_and_Away]))\n",
        "\n",
        "total_under.plot.bar(title='Resultado dos jogos onde o número de gols foi abaixo de 2.5', rot=0);\n",
        "plt.xticks(plt.xticks()[0], ['Vitória do Mandante', 'Empates', 'Vitória do Visitante']);"
      ],
      "execution_count": 248,
      "outputs": [
        {
          "output_type": "display_data",
          "data": {
            "image/png": "[encoded data removed]",
            "text/plain": [
              "<Figure size 432x288 with 1 Axes>"
            ]
          },
          "metadata": {
            "tags": [],
            "needs_background": "light"
          }
        }
      ]
    },
    {
      "cell_type": "code",
      "metadata": {
        "id": "nMvfebdhvE05",
        "outputId": "26ce0540-a3a1-4e52-ee51-cf20079db0f0",
        "colab": {
          "base_uri": "https://localhost:8080/",
          "height": 284
        }
      },
      "source": [
        "Total_Over_2_5_gols_and_Draw = len(soccer_data2[((soccer_data['FTHG'] + soccer_data2['FTAG']) > 2.5) & (soccer_data2['FTR'] == 'D')])\n",
        "Total_Over_2_5_gols_and_Home = len(soccer_data2[((soccer_data['FTHG'] + soccer_data2['FTAG']) > 2.5) & (soccer_data2['FTR'] == 'H')])\n",
        "Total_Over_2_5_gols_and_Away = len(soccer_data2[((soccer_data['FTHG'] + soccer_data2['FTAG']) > 2.5) & (soccer_data2['FTR'] == 'A')])\n",
        "\n",
        "total_under = pd.Series(np.array([Total_Over_2_5_gols_and_Home, Total_Over_2_5_gols_and_Draw, Total_Over_2_5_gols_and_Away]))\n",
        "\n",
        "total_under.plot.bar(title='Resultado dos jogos onde o número de gols foi acima de 2.5', rot=0);\n",
        "plt.xticks(plt.xticks()[0], ['Vitória do Mandante', 'Empates', 'Vitória do Visitante']);"
      ],
      "execution_count": 247,
      "outputs": [
        {
          "output_type": "display_data",
          "data": {
            "image/png": "[encoded data removed]",
            "text/plain": [
              "<Figure size 432x288 with 1 Axes>"
            ]
          },
          "metadata": {
            "tags": [],
            "needs_background": "light"
          }
        }
      ]
    },
    {
      "cell_type": "markdown",
      "metadata": {
        "id": "UnzfDGx8h6DB"
      },
      "source": [
        "Vemos que, de fato, o número de empates é maior nos jogos onde o número de gols é abaixo de 2.5; e menor nos jogos com mais de 2.5 gols.\n",
        "\n",
        "---\n",
        "\n",
        "O teste nos mostra também uma correlação entre as finalizalções e finalizações em gol, para times da casa e visitante, vemos abaixo:"
      ]
    },
    {
      "cell_type": "code",
      "metadata": {
        "id": "cxuvYPEFxHOb",
        "outputId": "1cf3df20-8513-454f-bba7-a3beddd326dd",
        "colab": {
          "base_uri": "https://localhost:8080/",
          "height": 602
        }
      },
      "source": [
        "soccer_data2.plot.scatter(x='HS',y='HST', title='Corr entre Chutes e Chutes no Gol (Time da Casa)')\n",
        "soccer_data2.plot.scatter(x='AS',y='AST', title='Corr entre Chutes e Chutes no Gol (Time Visitante)')"
      ],
      "execution_count": 252,
      "outputs": [
        {
          "output_type": "execute_result",
          "data": {
            "text/plain": [
              "<matplotlib.axes._subplots.AxesSubplot at 0x7fc103afddd8>"
            ]
          },
          "metadata": {
            "tags": []
          },
          "execution_count": 252
        },
        {
          "output_type": "display_data",
          "data": {
            "image/png": "[encoded data removed]",
            "text/plain": [
              "<Figure size 432x288 with 1 Axes>"
            ]
          },
          "metadata": {
            "tags": [],
            "needs_background": "light"
          }
        },
        {
          "output_type": "display_data",
          "data": {
            "image/png": "[encoded data removed]",
            "text/plain": [
              "<Figure size 432x288 with 1 Axes>"
            ]
          },
          "metadata": {
            "tags": [],
            "needs_background": "light"
          }
        }
      ]
    },
    {
      "cell_type": "markdown",
      "metadata": {
        "id": "ukDnGxvsxhXt"
      },
      "source": [
        "FTAG           Over_2_5_gols    0.533917<br>\n",
        "HTAG           HTHG             0.524905<br>\n",
        "\n",
        "AST            FTAG             0.453278<br>\n",
        "FTHG           HST              0.447655<br>"
      ]
    },
    {
      "cell_type": "code",
      "metadata": {
        "id": "kBDSh7txzpH2",
        "outputId": "f081afcd-1596-4da4-c6ab-61f654bacfb5",
        "colab": {
          "base_uri": "https://localhost:8080/",
          "height": 602
        }
      },
      "source": [
        "soccer_data2.plot.scatter(x='HF',y='HY', title='Corr entre Faltas e Cartões (Time da Casa)')\n",
        "soccer_data2.plot.scatter(x='AF',y='AY', title='Corr entre Faltas e Cartões (Time Visitante)')"
      ],
      "execution_count": 253,
      "outputs": [
        {
          "output_type": "execute_result",
          "data": {
            "text/plain": [
              "<matplotlib.axes._subplots.AxesSubplot at 0x7fc1069d5518>"
            ]
          },
          "metadata": {
            "tags": []
          },
          "execution_count": 253
        },
        {
          "output_type": "display_data",
          "data": {
            "image/png": "[encoded data removed]",
            "text/plain": [
              "<Figure size 432x288 with 1 Axes>"
            ]
          },
          "metadata": {
            "tags": [],
            "needs_background": "light"
          }
        },
        {
          "output_type": "display_data",
          "data": {
            "image/png": "[encoded data removed]",
            "text/plain": [
              "<Figure size 432x288 with 1 Axes>"
            ]
          },
          "metadata": {
            "tags": [],
            "needs_background": "light"
          }
        }
      ]
    },
    {
      "cell_type": "markdown",
      "metadata": {
        "id": "C5rkhcCf2ZSO"
      },
      "source": [
        "\n",
        "# A fazer\n",
        "\n",
        "* Ver relação dessas informações com as informações de over e under 2.5 gols odds\n",
        "\n",
        "* ver correlação/relação entre gols no intervalo e gols total do jogo\n",
        "\n",
        "* ver correlação/relação entre finalizações no gol e gols\n",
        "\n",
        "* ver estatisticas de finalizações do time e vitórias\n",
        "\n",
        "* pegar um time como exemplo e ver o desempenho como mandante e visitante e comparar as odds\n",
        "\n",
        "* ver relação entre faltas cometidas e cartoes\n",
        "\n",
        "* relação entre odd e vitoria -> Dúvida: como fazer isso?"
      ]
    },
    {
      "cell_type": "code",
      "metadata": {
        "id": "NyWqpXpLelpZ"
      },
      "source": [
        ""
      ],
      "execution_count": null,
      "outputs": []
    }
  ]
}